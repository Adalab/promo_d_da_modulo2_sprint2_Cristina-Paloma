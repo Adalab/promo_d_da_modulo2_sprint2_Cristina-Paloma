{
 "cells": [
  {
   "attachments": {},
   "cell_type": "markdown",
   "metadata": {},
   "source": [
    "## ETL -4"
   ]
  },
  {
   "cell_type": "code",
   "execution_count": 1,
   "metadata": {},
   "outputs": [],
   "source": [
    "import pandas as pd\n",
    "import mysql.connector"
   ]
  },
  {
   "attachments": {},
   "cell_type": "markdown",
   "metadata": {},
   "source": [
    "Es el momento de meter todos nuestros datos en SQL 💪🏽!!! En este ejercicio nos crearemos dos tablas en una BBDD creada por nosotras.\n",
    "📌 Nota Todo lo tendremos que hacer desde jupyter notebook\n",
    "\n",
    "1. Cread la BBDD con el nombre de energía. La BBDD tendrá la siguiente forma:\n"
   ]
  },
  {
   "cell_type": "code",
   "execution_count": 2,
   "metadata": {},
   "outputs": [],
   "source": [
    "def crear_bbdd(nombre_bbdd):\n",
    "\n",
    "    mydb = mysql.connector.connect(\n",
    "      host=\"localhost\",\n",
    "      user=\"root\",\n",
    "      password=\"AlumnaAdalab\", # aquí tendréis que poner vuestra contraseña de MySQL\n",
    "      auth_plugin = 'mysql_native_password') # esta línea no es necesaria solo lo tendréis que incluir si os sale el siguiente error: Authentication plugin 'caching_sha2_password' is not supported\n",
    "    print(\"Conexión realizada con éxito\")\n",
    "    \n",
    "    mycursor = mydb.cursor()\n",
    "\n",
    "    try:\n",
    "        mycursor.execute(f\"CREATE DATABASE IF NOT EXISTS {nombre_bbdd};\")\n",
    "        print(mycursor)\n",
    "    except mysql.connector.Error as err:\n",
    "        print(err)\n",
    "        print(\"Error Code:\", err.errno)\n",
    "        print(\"SQLSTATE\", err.sqlstate)\n",
    "        print(\"Message\", err.msg)"
   ]
  },
  {
   "cell_type": "code",
   "execution_count": 3,
   "metadata": {},
   "outputs": [
    {
     "name": "stdout",
     "output_type": "stream",
     "text": [
      "Conexión realizada con éxito\n",
      "CMySQLCursor: CREATE DATABASE IF NOT EXISTS energía;\n"
     ]
    }
   ],
   "source": [
    "crear_bbdd('energía')"
   ]
  },
  {
   "attachments": {},
   "cell_type": "markdown",
   "metadata": {},
   "source": [
    "2. Cread las tablas de la BBDD:\n",
    "\n",
    "Tabla fechas\n",
    "\n",
    "Tabla nacional_renovable_no_renovable\n",
    "\n",
    "Tabla comunidades_renovable_no_renovable\n",
    "\n",
    "Tabla comunidades\n",
    "\n",
    "Aspecto que deberán tener las tablas:\n",
    "\n",
    "![tablas](https://github.com/Adalab/data_imagenes/blob/main/Modulo-2/Limpieza/esquema_BBDD.png?raw=true)"
   ]
  },
  {
   "cell_type": "code",
   "execution_count": 4,
   "metadata": {},
   "outputs": [],
   "source": [
    "def crear_insertar_tabla(nombre_bbdd, contraseña, query):\n",
    "    \n",
    "    # nos conectamsos con el servidor usando el conector de sql\n",
    "    cnx = mysql.connector.connect(user='root', password=f\"{contraseña}\",\n",
    "                                     host='127.0.0.1', database=f\"{nombre_bbdd}\",  \n",
    "                                     auth_plugin = 'mysql_native_password')\n",
    "    # iniciamos el cursor\n",
    "    mycursor = cnx.cursor()\n",
    "    \n",
    "    # intentamos hacer la query\n",
    "    try: \n",
    "        mycursor.execute(query)\n",
    "        cnx.commit() \n",
    "    # en caso de que podamos ejecutar la query devuelvenos un error para saber en que nos estamos equivocando\n",
    "    except mysql.connector.Error as err:\n",
    "        print(err)\n",
    "        print(\"Error Code:\", err.errno)\n",
    "        print(\"SQLSTATE\", err.sqlstate)\n",
    "        print(\"Message\", err.msg)"
   ]
  },
  {
   "cell_type": "code",
   "execution_count": 5,
   "metadata": {},
   "outputs": [],
   "source": [
    "tabla_comunidades = '''\n",
    "CREATE TABLE IF NOT EXISTS `energía`.`comunidades` (\n",
    "  `idcomunidades` INT NOT NULL AUTO_INCREMENT,\n",
    "  `comunidad` VARCHAR(45),\n",
    "  PRIMARY KEY (`idcomunidades`))\n",
    "ENGINE = InnoDB;\n",
    "'''"
   ]
  },
  {
   "cell_type": "code",
   "execution_count": 36,
   "metadata": {},
   "outputs": [],
   "source": [
    "crear_insertar_tabla('energía', 'AlumnaAdalab', tabla_comunidades)"
   ]
  },
  {
   "cell_type": "code",
   "execution_count": 7,
   "metadata": {},
   "outputs": [],
   "source": [
    "tabla_nacional_renovable_no_renovable = \"\"\"\n",
    "CREATE TABLE IF NOT EXISTS `energía`.`nacional_renovable_no_renovable`(\n",
    "`idnacional` INT NOT NULL AUTO_INCREMENT,\n",
    "`porcentaje` DECIMAL,\n",
    "`tipo_energia` VARCHAR(45),\n",
    "`valor` DECIMAL,\n",
    "`comunidades_idcomunidades` INT,\n",
    "PRIMARY KEY (`idnacional`))\n",
    "ENGINE = InnoDB;\"\"\""
   ]
  },
  {
   "cell_type": "code",
   "execution_count": 8,
   "metadata": {},
   "outputs": [],
   "source": [
    "crear_insertar_tabla('energía', 'AlumnaAdalab', tabla_nacional_renovable_no_renovable)"
   ]
  },
  {
   "cell_type": "code",
   "execution_count": 14,
   "metadata": {},
   "outputs": [],
   "source": [
    "tabla_comunidades_renovable_no_renovable = \"\"\"\n",
    "    CREATE TABLE IF NOT EXISTS `energía`.`comunidades_renovable_no_renovable`(\n",
    "    `id` INT NOT NULL AUTO_INCREMENT,\n",
    "    `porcentaje` DECIMAL,\n",
    "    `tipo_energia` VARCHAR(45),\n",
    "    `valor` DECIMAL,\n",
    "    `idcomunidades` INT NOT NULL,\n",
    "    PRIMARY KEY (`id`),\n",
    "    CONSTRAINT `fk_comunidades_comunidades`\n",
    "        FOREIGN KEY (`idcomunidades`)\n",
    "        REFERENCES `energía`.`comunidades` (`idcomunidades`))\n",
    "    ENGINE = InnoDB;\"\"\""
   ]
  },
  {
   "cell_type": "code",
   "execution_count": 15,
   "metadata": {},
   "outputs": [],
   "source": [
    "crear_insertar_tabla('energía', 'AlumnaAdalab', tabla_comunidades_renovable_no_renovable)"
   ]
  },
  {
   "cell_type": "code",
   "execution_count": 16,
   "metadata": {},
   "outputs": [],
   "source": [
    "tabla_fechas = \"\"\"\n",
    "    CREATE TABLE IF NOT EXISTS `energía`.`fechas`(\n",
    "    `idFechas` INT NOT NULL AUTO_INCREMENT,\n",
    "    `fecha` DATE,\n",
    "    `nacional_renovable_no_renovable_id` INT,\n",
    "    `comunidades_renovable_no_renovable_id` INT,\n",
    "    PRIMARY KEY (`idFechas`),\n",
    "    CONSTRAINT `fk_nacional_fechas`\n",
    "        FOREIGN KEY(`nacional_renovable_no_renovable_id`)\n",
    "        REFERENCES `energía`.`nacional_renovable_no_renovable`(`idnacional`),\n",
    "    CONSTRAINT `fk_comunidades_fechas`\n",
    "        FOREIGN KEY (`comunidades_renovable_no_renovable_id`)\n",
    "        REFERENCES `energía`.`comunidades_renovable_no_renovable` (`id`))\n",
    "    ENGINE = InnoDB;\"\"\""
   ]
  },
  {
   "cell_type": "code",
   "execution_count": 17,
   "metadata": {},
   "outputs": [],
   "source": [
    "crear_insertar_tabla('energía', 'AlumnaAdalab', tabla_fechas)"
   ]
  },
  {
   "cell_type": "code",
   "execution_count": 29,
   "metadata": {},
   "outputs": [],
   "source": [
    "df_nacional = pd.read_csv('../datos/df_energia_nacional.csv', index_col = 0)\n",
    "df_ccaa = pd.read_csv('../datos/df_ccaa_clean.csv', index_col = 0)\n",
    "df_comunidades = pd.read_csv('../datos/poblacion_comunidades_clean.csv', index_col = 0)"
   ]
  },
  {
   "cell_type": "code",
   "execution_count": 26,
   "metadata": {},
   "outputs": [
    {
     "data": {
      "text/html": [
       "<div>\n",
       "<style scoped>\n",
       "    .dataframe tbody tr th:only-of-type {\n",
       "        vertical-align: middle;\n",
       "    }\n",
       "\n",
       "    .dataframe tbody tr th {\n",
       "        vertical-align: top;\n",
       "    }\n",
       "\n",
       "    .dataframe thead th {\n",
       "        text-align: right;\n",
       "    }\n",
       "</style>\n",
       "<table border=\"1\" class=\"dataframe\">\n",
       "  <thead>\n",
       "    <tr style=\"text-align: right;\">\n",
       "      <th></th>\n",
       "      <th>Comunidad</th>\n",
       "      <th>indice</th>\n",
       "      <th>Año</th>\n",
       "      <th>Total</th>\n",
       "    </tr>\n",
       "  </thead>\n",
       "  <tbody>\n",
       "    <tr>\n",
       "      <th>145</th>\n",
       "      <td>Castilla - La Mancha</td>\n",
       "      <td>7</td>\n",
       "      <td>2002</td>\n",
       "      <td>1.782.038</td>\n",
       "    </tr>\n",
       "    <tr>\n",
       "      <th>406</th>\n",
       "      <td>Canarias</td>\n",
       "      <td>8742</td>\n",
       "      <td>2016</td>\n",
       "      <td>2.101.924</td>\n",
       "    </tr>\n",
       "    <tr>\n",
       "      <th>14</th>\n",
       "      <td>Ceuta</td>\n",
       "      <td>8744</td>\n",
       "      <td>2008</td>\n",
       "      <td>77.389</td>\n",
       "    </tr>\n",
       "  </tbody>\n",
       "</table>\n",
       "</div>"
      ],
      "text/plain": [
       "                Comunidad  indice   Año      Total\n",
       "145  Castilla - La Mancha       7  2002  1.782.038\n",
       "406              Canarias    8742  2016  2.101.924\n",
       "14                  Ceuta    8744  2008     77.389"
      ]
     },
     "execution_count": 26,
     "metadata": {},
     "output_type": "execute_result"
    }
   ],
   "source": [
    "df_comunidades.sample(3)"
   ]
  },
  {
   "cell_type": "code",
   "execution_count": 24,
   "metadata": {},
   "outputs": [
    {
     "data": {
      "text/html": [
       "<div>\n",
       "<style scoped>\n",
       "    .dataframe tbody tr th:only-of-type {\n",
       "        vertical-align: middle;\n",
       "    }\n",
       "\n",
       "    .dataframe tbody tr th {\n",
       "        vertical-align: top;\n",
       "    }\n",
       "\n",
       "    .dataframe thead th {\n",
       "        text-align: right;\n",
       "    }\n",
       "</style>\n",
       "<table border=\"1\" class=\"dataframe\">\n",
       "  <thead>\n",
       "    <tr style=\"text-align: right;\">\n",
       "      <th></th>\n",
       "      <th>value</th>\n",
       "      <th>percentage</th>\n",
       "      <th>type</th>\n",
       "      <th>CCAA</th>\n",
       "      <th>fecha</th>\n",
       "    </tr>\n",
       "  </thead>\n",
       "  <tbody>\n",
       "    <tr>\n",
       "      <th>261</th>\n",
       "      <td>15191368.30</td>\n",
       "      <td>0.81</td>\n",
       "      <td>no renovable</td>\n",
       "      <td>Comunitat Valenciana</td>\n",
       "      <td>2019-01-01</td>\n",
       "    </tr>\n",
       "    <tr>\n",
       "      <th>218</th>\n",
       "      <td>20594544.96</td>\n",
       "      <td>0.77</td>\n",
       "      <td>renovable</td>\n",
       "      <td>Castilla y León</td>\n",
       "      <td>2018-01-01</td>\n",
       "    </tr>\n",
       "    <tr>\n",
       "      <th>275</th>\n",
       "      <td>1248386.13</td>\n",
       "      <td>0.77</td>\n",
       "      <td>no renovable</td>\n",
       "      <td>Cantabria</td>\n",
       "      <td>2020-01-01</td>\n",
       "    </tr>\n",
       "  </tbody>\n",
       "</table>\n",
       "</div>"
      ],
      "text/plain": [
       "           value  percentage          type                  CCAA       fecha\n",
       "261  15191368.30        0.81  no renovable  Comunitat Valenciana  2019-01-01\n",
       "218  20594544.96        0.77     renovable       Castilla y León  2018-01-01\n",
       "275   1248386.13        0.77  no renovable             Cantabria  2020-01-01"
      ]
     },
     "execution_count": 24,
     "metadata": {},
     "output_type": "execute_result"
    }
   ],
   "source": [
    "df_ccaa.sample(3)"
   ]
  },
  {
   "cell_type": "code",
   "execution_count": 27,
   "metadata": {},
   "outputs": [
    {
     "data": {
      "text/html": [
       "<div>\n",
       "<style scoped>\n",
       "    .dataframe tbody tr th:only-of-type {\n",
       "        vertical-align: middle;\n",
       "    }\n",
       "\n",
       "    .dataframe tbody tr th {\n",
       "        vertical-align: top;\n",
       "    }\n",
       "\n",
       "    .dataframe thead th {\n",
       "        text-align: right;\n",
       "    }\n",
       "</style>\n",
       "<table border=\"1\" class=\"dataframe\">\n",
       "  <thead>\n",
       "    <tr style=\"text-align: right;\">\n",
       "      <th></th>\n",
       "      <th>value</th>\n",
       "      <th>percentage</th>\n",
       "      <th>datetime</th>\n",
       "      <th>type</th>\n",
       "    </tr>\n",
       "  </thead>\n",
       "  <tbody>\n",
       "    <tr>\n",
       "      <th>12</th>\n",
       "      <td>1.926868e+08</td>\n",
       "      <td>0.689759</td>\n",
       "      <td>2011-01-01T00:00:00.000+01:00</td>\n",
       "      <td>no renovable</td>\n",
       "    </tr>\n",
       "    <tr>\n",
       "      <th>13</th>\n",
       "      <td>1.977799e+08</td>\n",
       "      <td>0.698576</td>\n",
       "      <td>2012-01-01T00:00:00.000+01:00</td>\n",
       "      <td>no renovable</td>\n",
       "    </tr>\n",
       "    <tr>\n",
       "      <th>20</th>\n",
       "      <td>1.629155e+08</td>\n",
       "      <td>0.624607</td>\n",
       "      <td>2019-01-01T00:00:00.000+01:00</td>\n",
       "      <td>no renovable</td>\n",
       "    </tr>\n",
       "  </tbody>\n",
       "</table>\n",
       "</div>"
      ],
      "text/plain": [
       "           value  percentage                       datetime          type\n",
       "12  1.926868e+08    0.689759  2011-01-01T00:00:00.000+01:00  no renovable\n",
       "13  1.977799e+08    0.698576  2012-01-01T00:00:00.000+01:00  no renovable\n",
       "20  1.629155e+08    0.624607  2019-01-01T00:00:00.000+01:00  no renovable"
      ]
     },
     "execution_count": 27,
     "metadata": {},
     "output_type": "execute_result"
    }
   ],
   "source": [
    "df_nacional.sample(3)"
   ]
  },
  {
   "attachments": {},
   "cell_type": "markdown",
   "metadata": {},
   "source": [
    "BONUS \n",
    "\n",
    "3. Insertar los datos en las tablas.\n",
    "\n",
    "📌 Nota Esta parte del pair es optativa y no será considerada para la evaluación"
   ]
  },
  {
   "cell_type": "code",
   "execution_count": 33,
   "metadata": {},
   "outputs": [],
   "source": [
    "def check_comunidades(contraseña, nombre_bbdd):\n",
    "    \n",
    "    cnx = mysql.connector.connect(user='root', password=f'{contraseña}',\n",
    "                                  host='127.0.0.1', database=f\"{nombre_bbdd}\",  auth_plugin = 'mysql_native_password')\n",
    "    mycursor = cnx.cursor()\n",
    "\n",
    "\n",
    "    query_existe_comunidad = f\"\"\"\n",
    "            SELECT DISTINCT comunidad FROM comunidades\n",
    "            \"\"\"\n",
    "    mycursor.execute(query_existe_comunidad)\n",
    "    comunidades = mycursor.fetchall()\n",
    "    return comunidades"
   ]
  },
  {
   "cell_type": "code",
   "execution_count": 35,
   "metadata": {},
   "outputs": [
    {
     "data": {
      "text/plain": [
       "[('La Rioja',),\n",
       " ('Ceuta',),\n",
       " ('Melilla',),\n",
       " ('Andalucía',),\n",
       " ('Aragón',),\n",
       " ('Cantabria',),\n",
       " ('Castilla - La Mancha',),\n",
       " ('Castilla y León',),\n",
       " ('Cataluña',),\n",
       " ('País Vasco',),\n",
       " ('Principado de Asturias',),\n",
       " ('Comunidad de Madrid',),\n",
       " ('Comunidad Foral de Navarra',),\n",
       " ('Comunitat Valenciana',),\n",
       " ('Extremadura',),\n",
       " ('Galicia',),\n",
       " ('Illes Balears',),\n",
       " ('Canarias',),\n",
       " ('Región de Murcia',)]"
      ]
     },
     "execution_count": 35,
     "metadata": {},
     "output_type": "execute_result"
    }
   ],
   "source": [
    "check_comunidades(\"AlumnaAdalab\", \"energía\")"
   ]
  },
  {
   "cell_type": "code",
   "execution_count": 38,
   "metadata": {},
   "outputs": [
    {
     "name": "stdout",
     "output_type": "stream",
     "text": [
      "La Rioja ya esta en nuestra BBDD\n",
      "La Rioja ya esta en nuestra BBDD\n",
      "La Rioja ya esta en nuestra BBDD\n",
      "La Rioja ya esta en nuestra BBDD\n",
      "La Rioja ya esta en nuestra BBDD\n",
      "La Rioja ya esta en nuestra BBDD\n",
      "La Rioja ya esta en nuestra BBDD\n",
      "La Rioja ya esta en nuestra BBDD\n",
      "La Rioja ya esta en nuestra BBDD\n",
      "La Rioja ya esta en nuestra BBDD\n",
      "La Rioja ya esta en nuestra BBDD\n",
      "La Rioja ya esta en nuestra BBDD\n",
      "La Rioja ya esta en nuestra BBDD\n",
      "La Rioja ya esta en nuestra BBDD\n",
      "La Rioja ya esta en nuestra BBDD\n",
      "La Rioja ya esta en nuestra BBDD\n",
      "La Rioja ya esta en nuestra BBDD\n",
      "La Rioja ya esta en nuestra BBDD\n",
      "La Rioja ya esta en nuestra BBDD\n",
      "La Rioja ya esta en nuestra BBDD\n",
      "La Rioja ya esta en nuestra BBDD\n",
      "La Rioja ya esta en nuestra BBDD\n",
      "La Rioja ya esta en nuestra BBDD\n",
      "La Rioja ya esta en nuestra BBDD\n",
      "La Rioja ya esta en nuestra BBDD\n"
     ]
    }
   ],
   "source": [
    "for indice, fila in df_comunidades.iterrows():\n",
    "    \n",
    "    # creamos la query que no inserta datos en la tabla localidades\n",
    "    query_comunidades = f\"\"\"\n",
    "                INSERT INTO comunidades (comunidad) \n",
    "                VALUES ( \"{fila[\"Comunidad\"]}\");\n",
    "                \"\"\"  \n",
    "    \n",
    "    comunidades = check_comunidades(\"AlumnaAdalab\", \"energía\")\n",
    "    \n",
    "    if len(comunidades) == 0 or fila['Comunidad'] not in comunidades[0]: \n",
    "        crear_insertar_tabla('energía', 'AlumnaAdalab', query_comunidades)\n",
    "\n",
    "    else:\n",
    "        print(f\"{fila['Comunidad']} ya esta en nuestra BBDD\") \n",
    "     "
   ]
  }
 ],
 "metadata": {
  "kernelspec": {
   "display_name": ".venv",
   "language": "python",
   "name": "python3"
  },
  "language_info": {
   "codemirror_mode": {
    "name": "ipython",
    "version": 3
   },
   "file_extension": ".py",
   "mimetype": "text/x-python",
   "name": "python",
   "nbconvert_exporter": "python",
   "pygments_lexer": "ipython3",
   "version": "3.11.2"
  },
  "orig_nbformat": 4
 },
 "nbformat": 4,
 "nbformat_minor": 2
}
