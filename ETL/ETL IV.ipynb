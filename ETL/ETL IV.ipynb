{
 "cells": [
  {
   "attachments": {},
   "cell_type": "markdown",
   "metadata": {},
   "source": [
    "## ETL -4"
   ]
  },
  {
   "cell_type": "code",
   "execution_count": 2,
   "metadata": {},
   "outputs": [],
   "source": [
    "import pandas as pd\n",
    "import mysql.connector"
   ]
  },
  {
   "attachments": {},
   "cell_type": "markdown",
   "metadata": {},
   "source": [
    "Es el momento de meter todos nuestros datos en SQL 💪🏽!!! En este ejercicio nos crearemos dos tablas en una BBDD creada por nosotras.\n",
    "📌 Nota Todo lo tendremos que hacer desde jupyter notebook\n",
    "\n",
    "1. Cread la BBDD con el nombre de energía. La BBDD tendrá la siguiente forma:\n"
   ]
  },
  {
   "cell_type": "code",
   "execution_count": 3,
   "metadata": {},
   "outputs": [],
   "source": [
    "def crear_bbdd(nombre_bbdd):\n",
    "\n",
    "    mydb = mysql.connector.connect(\n",
    "      host=\"localhost\",\n",
    "      user=\"root\",\n",
    "      password=\"AlumnaAdalab\", # aquí tendréis que poner vuestra contraseña de MySQL\n",
    "      auth_plugin = 'mysql_native_password') # esta línea no es necesaria solo lo tendréis que incluir si os sale el siguiente error: Authentication plugin 'caching_sha2_password' is not supported\n",
    "    print(\"Conexión realizada con éxito\")\n",
    "    \n",
    "    mycursor = mydb.cursor()\n",
    "\n",
    "    try:\n",
    "        mycursor.execute(f\"CREATE DATABASE IF NOT EXISTS {nombre_bbdd};\")\n",
    "        print(mycursor)\n",
    "    except mysql.connector.Error as err:\n",
    "        print(err)\n",
    "        print(\"Error Code:\", err.errno)\n",
    "        print(\"SQLSTATE\", err.sqlstate)\n",
    "        print(\"Message\", err.msg)"
   ]
  },
  {
   "cell_type": "code",
   "execution_count": 4,
   "metadata": {},
   "outputs": [
    {
     "name": "stdout",
     "output_type": "stream",
     "text": [
      "Conexión realizada con éxito\n",
      "CMySQLCursor: CREATE DATABASE IF NOT EXISTS energía;\n"
     ]
    }
   ],
   "source": [
    "crear_bbdd('energía')"
   ]
  },
  {
   "attachments": {},
   "cell_type": "markdown",
   "metadata": {},
   "source": [
    "2. Cread las tablas de la BBDD:\n",
    "\n",
    "Tabla fechas\n",
    "\n",
    "Tabla nacional_renovable_no_renovable\n",
    "\n",
    "Tabla comunidades_renovable_no_renovable\n",
    "\n",
    "Tabla comunidades\n",
    "\n",
    "Aspecto que deberán tener las tablas:\n",
    "\n",
    "![tablas](https://github.com/Adalab/data_imagenes/blob/main/Modulo-2/Limpieza/esquema_BBDD.png?raw=true)"
   ]
  },
  {
   "cell_type": "code",
   "execution_count": 5,
   "metadata": {},
   "outputs": [],
   "source": [
    "def crear_insertar_tabla(nombre_bbdd, contraseña, query):\n",
    "    \n",
    "    # nos conectamsos con el servidor usando el conector de sql\n",
    "    cnx = mysql.connector.connect(user='root', password=f\"{contraseña}\",\n",
    "                                     host='127.0.0.1', database=f\"{nombre_bbdd}\",  \n",
    "                                     auth_plugin = 'mysql_native_password')\n",
    "    # iniciamos el cursor\n",
    "    mycursor = cnx.cursor()\n",
    "    \n",
    "    # intentamos hacer la query\n",
    "    try: \n",
    "        mycursor.execute(query)\n",
    "        cnx.commit() \n",
    "    # en caso de que podamos ejecutar la query devuelvenos un error para saber en que nos estamos equivocando\n",
    "    except mysql.connector.Error as err:\n",
    "        print(err)\n",
    "        print(\"Error Code:\", err.errno)\n",
    "        print(\"SQLSTATE\", err.sqlstate)\n",
    "        print(\"Message\", err.msg)"
   ]
  },
  {
   "cell_type": "code",
   "execution_count": 6,
   "metadata": {},
   "outputs": [],
   "source": [
    "tabla_comunidades = '''\n",
    "CREATE TABLE IF NOT EXISTS `energía`.`comunidades` (\n",
    "  `idcomunidades` INT NOT NULL AUTO_INCREMENT,\n",
    "  `comunidad` VARCHAR(45),\n",
    "  PRIMARY KEY (`idcomunidades`))\n",
    "ENGINE = InnoDB;\n",
    "'''"
   ]
  },
  {
   "cell_type": "code",
   "execution_count": 7,
   "metadata": {},
   "outputs": [],
   "source": [
    "crear_insertar_tabla('energía', 'AlumnaAdalab', tabla_comunidades)"
   ]
  },
  {
   "cell_type": "code",
   "execution_count": 8,
   "metadata": {},
   "outputs": [],
   "source": [
    "tabla_nacional_renovable_no_renovable = \"\"\"\n",
    "CREATE TABLE IF NOT EXISTS `energía`.`nacional_renovable_no_renovable`(\n",
    "`idnacional` INT NOT NULL AUTO_INCREMENT,\n",
    "`porcentaje` DECIMAL,\n",
    "`tipo_energia` VARCHAR(45),\n",
    "`valor` DECIMAL,\n",
    "`comunidades_idcomunidades` INT,\n",
    "PRIMARY KEY (`idnacional`))\n",
    "ENGINE = InnoDB;\"\"\""
   ]
  },
  {
   "cell_type": "code",
   "execution_count": 9,
   "metadata": {},
   "outputs": [],
   "source": [
    "crear_insertar_tabla('energía', 'AlumnaAdalab', tabla_nacional_renovable_no_renovable)"
   ]
  },
  {
   "cell_type": "code",
   "execution_count": 10,
   "metadata": {},
   "outputs": [],
   "source": [
    "tabla_comunidades_renovable_no_renovable = \"\"\"\n",
    "    CREATE TABLE IF NOT EXISTS `energía`.`comunidades_renovable_no_renovable`(\n",
    "    `id` INT NOT NULL AUTO_INCREMENT,\n",
    "    `porcentaje` DECIMAL,\n",
    "    `tipo_energia` VARCHAR(45),\n",
    "    `valor` DECIMAL,\n",
    "    `idcomunidades` INT NOT NULL,\n",
    "    PRIMARY KEY (`id`),\n",
    "    CONSTRAINT `fk_comunidades_comunidades`\n",
    "        FOREIGN KEY (`idcomunidades`)\n",
    "        REFERENCES `energía`.`comunidades` (`idcomunidades`))\n",
    "    ENGINE = InnoDB;\"\"\""
   ]
  },
  {
   "cell_type": "code",
   "execution_count": 11,
   "metadata": {},
   "outputs": [],
   "source": [
    "crear_insertar_tabla('energía', 'AlumnaAdalab', tabla_comunidades_renovable_no_renovable)"
   ]
  },
  {
   "cell_type": "code",
   "execution_count": 12,
   "metadata": {},
   "outputs": [],
   "source": [
    "tabla_fechas = \"\"\"\n",
    "    CREATE TABLE IF NOT EXISTS `energía`.`fechas`(\n",
    "    `idFechas` INT NOT NULL AUTO_INCREMENT,\n",
    "    `fecha` DATE,\n",
    "    `nacional_renovable_no_renovable_id` INT,\n",
    "    `comunidades_renovable_no_renovable_id` INT,\n",
    "    PRIMARY KEY (`idFechas`),\n",
    "    CONSTRAINT `fk_nacional_fechas`\n",
    "        FOREIGN KEY(`nacional_renovable_no_renovable_id`)\n",
    "        REFERENCES `energía`.`nacional_renovable_no_renovable`(`idnacional`),\n",
    "    CONSTRAINT `fk_comunidades_fechas`\n",
    "        FOREIGN KEY (`comunidades_renovable_no_renovable_id`)\n",
    "        REFERENCES `energía`.`comunidades_renovable_no_renovable` (`id`))\n",
    "    ENGINE = InnoDB;\"\"\""
   ]
  },
  {
   "cell_type": "code",
   "execution_count": 13,
   "metadata": {},
   "outputs": [],
   "source": [
    "crear_insertar_tabla('energía', 'AlumnaAdalab', tabla_fechas)"
   ]
  },
  {
   "cell_type": "code",
   "execution_count": 14,
   "metadata": {},
   "outputs": [],
   "source": [
    "df_nacional = pd.read_csv('../datos/df_energia_nacional.csv', index_col = 0)\n",
    "df_ccaa = pd.read_csv('../datos/df_ccaa_clean.csv', index_col = 0)\n",
    "df_comunidades = pd.read_csv('../datos/poblacion_comunidades_clean.csv', index_col = 0)"
   ]
  },
  {
   "cell_type": "code",
   "execution_count": 15,
   "metadata": {},
   "outputs": [
    {
     "data": {
      "text/html": [
       "<div>\n",
       "<style scoped>\n",
       "    .dataframe tbody tr th:only-of-type {\n",
       "        vertical-align: middle;\n",
       "    }\n",
       "\n",
       "    .dataframe tbody tr th {\n",
       "        vertical-align: top;\n",
       "    }\n",
       "\n",
       "    .dataframe thead th {\n",
       "        text-align: right;\n",
       "    }\n",
       "</style>\n",
       "<table border=\"1\" class=\"dataframe\">\n",
       "  <thead>\n",
       "    <tr style=\"text-align: right;\">\n",
       "      <th></th>\n",
       "      <th>Comunidad</th>\n",
       "      <th>indice</th>\n",
       "      <th>Año</th>\n",
       "      <th>Total</th>\n",
       "    </tr>\n",
       "  </thead>\n",
       "  <tbody>\n",
       "    <tr>\n",
       "      <th>48</th>\n",
       "      <td>Melilla</td>\n",
       "      <td>8745</td>\n",
       "      <td>1999</td>\n",
       "      <td>56.929</td>\n",
       "    </tr>\n",
       "    <tr>\n",
       "      <th>111</th>\n",
       "      <td>Cantabria</td>\n",
       "      <td>6</td>\n",
       "      <td>2011</td>\n",
       "      <td>593.121</td>\n",
       "    </tr>\n",
       "    <tr>\n",
       "      <th>415</th>\n",
       "      <td>Canarias</td>\n",
       "      <td>8742</td>\n",
       "      <td>2007</td>\n",
       "      <td>2.025.951</td>\n",
       "    </tr>\n",
       "  </tbody>\n",
       "</table>\n",
       "</div>"
      ],
      "text/plain": [
       "     Comunidad  indice   Año      Total\n",
       "48     Melilla    8745  1999     56.929\n",
       "111  Cantabria       6  2011    593.121\n",
       "415   Canarias    8742  2007  2.025.951"
      ]
     },
     "execution_count": 15,
     "metadata": {},
     "output_type": "execute_result"
    }
   ],
   "source": [
    "df_comunidades.sample(3)"
   ]
  },
  {
   "cell_type": "code",
   "execution_count": 16,
   "metadata": {},
   "outputs": [
    {
     "data": {
      "text/html": [
       "<div>\n",
       "<style scoped>\n",
       "    .dataframe tbody tr th:only-of-type {\n",
       "        vertical-align: middle;\n",
       "    }\n",
       "\n",
       "    .dataframe tbody tr th {\n",
       "        vertical-align: top;\n",
       "    }\n",
       "\n",
       "    .dataframe thead th {\n",
       "        text-align: right;\n",
       "    }\n",
       "</style>\n",
       "<table border=\"1\" class=\"dataframe\">\n",
       "  <thead>\n",
       "    <tr style=\"text-align: right;\">\n",
       "      <th></th>\n",
       "      <th>value</th>\n",
       "      <th>percentage</th>\n",
       "      <th>type</th>\n",
       "      <th>CCAA</th>\n",
       "      <th>fecha</th>\n",
       "    </tr>\n",
       "  </thead>\n",
       "  <tbody>\n",
       "    <tr>\n",
       "      <th>240</th>\n",
       "      <td>12889964.07</td>\n",
       "      <td>0.38</td>\n",
       "      <td>renovable</td>\n",
       "      <td>Andalucía</td>\n",
       "      <td>2019-01-01</td>\n",
       "    </tr>\n",
       "    <tr>\n",
       "      <th>116</th>\n",
       "      <td>1515185.56</td>\n",
       "      <td>0.28</td>\n",
       "      <td>renovable</td>\n",
       "      <td>Región de Murcia</td>\n",
       "      <td>2014-01-01</td>\n",
       "    </tr>\n",
       "    <tr>\n",
       "      <th>161</th>\n",
       "      <td>35701867.52</td>\n",
       "      <td>0.83</td>\n",
       "      <td>no renovable</td>\n",
       "      <td>Cataluña</td>\n",
       "      <td>2016-01-01</td>\n",
       "    </tr>\n",
       "  </tbody>\n",
       "</table>\n",
       "</div>"
      ],
      "text/plain": [
       "           value  percentage          type              CCAA       fecha\n",
       "240  12889964.07        0.38     renovable         Andalucía  2019-01-01\n",
       "116   1515185.56        0.28     renovable  Región de Murcia  2014-01-01\n",
       "161  35701867.52        0.83  no renovable          Cataluña  2016-01-01"
      ]
     },
     "execution_count": 16,
     "metadata": {},
     "output_type": "execute_result"
    }
   ],
   "source": [
    "df_ccaa.sample(3)"
   ]
  },
  {
   "cell_type": "code",
   "execution_count": 17,
   "metadata": {},
   "outputs": [
    {
     "data": {
      "text/html": [
       "<div>\n",
       "<style scoped>\n",
       "    .dataframe tbody tr th:only-of-type {\n",
       "        vertical-align: middle;\n",
       "    }\n",
       "\n",
       "    .dataframe tbody tr th {\n",
       "        vertical-align: top;\n",
       "    }\n",
       "\n",
       "    .dataframe thead th {\n",
       "        text-align: right;\n",
       "    }\n",
       "</style>\n",
       "<table border=\"1\" class=\"dataframe\">\n",
       "  <thead>\n",
       "    <tr style=\"text-align: right;\">\n",
       "      <th></th>\n",
       "      <th>value</th>\n",
       "      <th>percentage</th>\n",
       "      <th>datetime</th>\n",
       "      <th>type</th>\n",
       "    </tr>\n",
       "  </thead>\n",
       "  <tbody>\n",
       "    <tr>\n",
       "      <th>20</th>\n",
       "      <td>1.629155e+08</td>\n",
       "      <td>0.624607</td>\n",
       "      <td>2019-01-01T00:00:00.000+01:00</td>\n",
       "      <td>no renovable</td>\n",
       "    </tr>\n",
       "    <tr>\n",
       "      <th>13</th>\n",
       "      <td>1.977799e+08</td>\n",
       "      <td>0.698576</td>\n",
       "      <td>2012-01-01T00:00:00.000+01:00</td>\n",
       "      <td>no renovable</td>\n",
       "    </tr>\n",
       "    <tr>\n",
       "      <th>5</th>\n",
       "      <td>1.010892e+08</td>\n",
       "      <td>0.386079</td>\n",
       "      <td>2016-01-01T00:00:00.000+01:00</td>\n",
       "      <td>renovable</td>\n",
       "    </tr>\n",
       "  </tbody>\n",
       "</table>\n",
       "</div>"
      ],
      "text/plain": [
       "           value  percentage                       datetime          type\n",
       "20  1.629155e+08    0.624607  2019-01-01T00:00:00.000+01:00  no renovable\n",
       "13  1.977799e+08    0.698576  2012-01-01T00:00:00.000+01:00  no renovable\n",
       "5   1.010892e+08    0.386079  2016-01-01T00:00:00.000+01:00     renovable"
      ]
     },
     "execution_count": 17,
     "metadata": {},
     "output_type": "execute_result"
    }
   ],
   "source": [
    "df_nacional.sample(3)"
   ]
  },
  {
   "attachments": {},
   "cell_type": "markdown",
   "metadata": {},
   "source": [
    "BONUS \n",
    "\n",
    "3. Insertar los datos en las tablas.\n",
    "\n",
    "📌 Nota Esta parte del pair es optativa y no será considerada para la evaluación"
   ]
  },
  {
   "cell_type": "code",
   "execution_count": 18,
   "metadata": {},
   "outputs": [],
   "source": [
    "def check_comunidades(contraseña, nombre_bbdd):\n",
    "    \n",
    "    cnx = mysql.connector.connect(user='root', password=f'{contraseña}',\n",
    "                                  host='127.0.0.1', database=f\"{nombre_bbdd}\",  auth_plugin = 'mysql_native_password')\n",
    "    mycursor = cnx.cursor()\n",
    "\n",
    "\n",
    "    query_existe_comunidad = f\"\"\"\n",
    "            SELECT DISTINCT comunidad FROM comunidades\n",
    "            \"\"\"\n",
    "    mycursor.execute(query_existe_comunidad)\n",
    "    comunidades = mycursor.fetchall()\n",
    "    return comunidades"
   ]
  },
  {
   "cell_type": "code",
   "execution_count": 19,
   "metadata": {},
   "outputs": [
    {
     "data": {
      "text/plain": [
       "[('Andalucía',),\n",
       " ('Aragón',),\n",
       " ('Cantabria',),\n",
       " ('Castilla - La Mancha',),\n",
       " ('Castilla y León',),\n",
       " ('Cataluña',),\n",
       " ('País Vasco',),\n",
       " ('Principado de Asturias',),\n",
       " ('Comunidad de Madrid',),\n",
       " ('Comunidad Foral de Navarra',),\n",
       " ('Comunitat Valenciana',),\n",
       " ('Extremadura',),\n",
       " ('Galicia',),\n",
       " ('Región de Murcia',),\n",
       " ('La Rioja',)]"
      ]
     },
     "execution_count": 19,
     "metadata": {},
     "output_type": "execute_result"
    }
   ],
   "source": [
    "check_comunidades(\"AlumnaAdalab\", \"energía\")"
   ]
  },
  {
   "cell_type": "code",
   "execution_count": 20,
   "metadata": {},
   "outputs": [
    {
     "ename": "KeyError",
     "evalue": "'CCAA'",
     "output_type": "error",
     "traceback": [
      "\u001b[1;31m---------------------------------------------------------------------------\u001b[0m",
      "\u001b[1;31mKeyError\u001b[0m                                  Traceback (most recent call last)",
      "File \u001b[1;32mc:\\Users\\Usuario\\OneDrive\\Escritorio\\Data Analytics\\.venv\\Lib\\site-packages\\pandas\\core\\indexes\\base.py:3652\u001b[0m, in \u001b[0;36mIndex.get_loc\u001b[1;34m(self, key)\u001b[0m\n\u001b[0;32m   3651\u001b[0m \u001b[39mtry\u001b[39;00m:\n\u001b[1;32m-> 3652\u001b[0m     \u001b[39mreturn\u001b[39;00m \u001b[39mself\u001b[39;49m\u001b[39m.\u001b[39;49m_engine\u001b[39m.\u001b[39;49mget_loc(casted_key)\n\u001b[0;32m   3653\u001b[0m \u001b[39mexcept\u001b[39;00m \u001b[39mKeyError\u001b[39;00m \u001b[39mas\u001b[39;00m err:\n",
      "File \u001b[1;32mc:\\Users\\Usuario\\OneDrive\\Escritorio\\Data Analytics\\.venv\\Lib\\site-packages\\pandas\\_libs\\index.pyx:147\u001b[0m, in \u001b[0;36mpandas._libs.index.IndexEngine.get_loc\u001b[1;34m()\u001b[0m\n",
      "File \u001b[1;32mc:\\Users\\Usuario\\OneDrive\\Escritorio\\Data Analytics\\.venv\\Lib\\site-packages\\pandas\\_libs\\index.pyx:176\u001b[0m, in \u001b[0;36mpandas._libs.index.IndexEngine.get_loc\u001b[1;34m()\u001b[0m\n",
      "File \u001b[1;32mpandas\\_libs\\hashtable_class_helper.pxi:7080\u001b[0m, in \u001b[0;36mpandas._libs.hashtable.PyObjectHashTable.get_item\u001b[1;34m()\u001b[0m\n",
      "File \u001b[1;32mpandas\\_libs\\hashtable_class_helper.pxi:7088\u001b[0m, in \u001b[0;36mpandas._libs.hashtable.PyObjectHashTable.get_item\u001b[1;34m()\u001b[0m\n",
      "\u001b[1;31mKeyError\u001b[0m: 'CCAA'",
      "\nThe above exception was the direct cause of the following exception:\n",
      "\u001b[1;31mKeyError\u001b[0m                                  Traceback (most recent call last)",
      "Cell \u001b[1;32mIn[20], line 6\u001b[0m\n\u001b[0;32m      1\u001b[0m \u001b[39mfor\u001b[39;00m indice, fila \u001b[39min\u001b[39;00m df_comunidades\u001b[39m.\u001b[39miterrows():\n\u001b[0;32m      2\u001b[0m     \n\u001b[0;32m      3\u001b[0m     \u001b[39m# creamos la query que no inserta datos en la tabla localidades\u001b[39;00m\n\u001b[0;32m      4\u001b[0m     query_comunidades \u001b[39m=\u001b[39m \u001b[39mf\u001b[39m\u001b[39m\"\"\"\u001b[39m\n\u001b[0;32m      5\u001b[0m \u001b[39m                INSERT INTO comunidades (comunidad) \u001b[39m\n\u001b[1;32m----> 6\u001b[0m \u001b[39m                VALUES (\u001b[39m\u001b[39m\"\u001b[39m\u001b[39m{\u001b[39;00mfila[\u001b[39m\"\u001b[39;49m\u001b[39mCCAA\u001b[39;49m\u001b[39m\"\u001b[39;49m]\u001b[39m}\u001b[39;00m\u001b[39m\"\u001b[39m\u001b[39m);\u001b[39m\n\u001b[0;32m      7\u001b[0m \u001b[39m                \u001b[39m\u001b[39m\"\"\"\u001b[39m  \n\u001b[0;32m      9\u001b[0m     comunidades \u001b[39m=\u001b[39m carga\u001b[39m.\u001b[39mcheck_comunidades()\n\u001b[0;32m     10\u001b[0m     list_comunidades \u001b[39m=\u001b[39m [i \u001b[39mfor\u001b[39;00m tupla \u001b[39min\u001b[39;00m comunidades \u001b[39mfor\u001b[39;00m i \u001b[39min\u001b[39;00m tupla]\n",
      "File \u001b[1;32mc:\\Users\\Usuario\\OneDrive\\Escritorio\\Data Analytics\\.venv\\Lib\\site-packages\\pandas\\core\\series.py:1007\u001b[0m, in \u001b[0;36mSeries.__getitem__\u001b[1;34m(self, key)\u001b[0m\n\u001b[0;32m   1004\u001b[0m     \u001b[39mreturn\u001b[39;00m \u001b[39mself\u001b[39m\u001b[39m.\u001b[39m_values[key]\n\u001b[0;32m   1006\u001b[0m \u001b[39melif\u001b[39;00m key_is_scalar:\n\u001b[1;32m-> 1007\u001b[0m     \u001b[39mreturn\u001b[39;00m \u001b[39mself\u001b[39;49m\u001b[39m.\u001b[39;49m_get_value(key)\n\u001b[0;32m   1009\u001b[0m \u001b[39mif\u001b[39;00m is_hashable(key):\n\u001b[0;32m   1010\u001b[0m     \u001b[39m# Otherwise index.get_value will raise InvalidIndexError\u001b[39;00m\n\u001b[0;32m   1011\u001b[0m     \u001b[39mtry\u001b[39;00m:\n\u001b[0;32m   1012\u001b[0m         \u001b[39m# For labels that don't resolve as scalars like tuples and frozensets\u001b[39;00m\n",
      "File \u001b[1;32mc:\\Users\\Usuario\\OneDrive\\Escritorio\\Data Analytics\\.venv\\Lib\\site-packages\\pandas\\core\\series.py:1116\u001b[0m, in \u001b[0;36mSeries._get_value\u001b[1;34m(self, label, takeable)\u001b[0m\n\u001b[0;32m   1113\u001b[0m     \u001b[39mreturn\u001b[39;00m \u001b[39mself\u001b[39m\u001b[39m.\u001b[39m_values[label]\n\u001b[0;32m   1115\u001b[0m \u001b[39m# Similar to Index.get_value, but we do not fall back to positional\u001b[39;00m\n\u001b[1;32m-> 1116\u001b[0m loc \u001b[39m=\u001b[39m \u001b[39mself\u001b[39;49m\u001b[39m.\u001b[39;49mindex\u001b[39m.\u001b[39;49mget_loc(label)\n\u001b[0;32m   1118\u001b[0m \u001b[39mif\u001b[39;00m is_integer(loc):\n\u001b[0;32m   1119\u001b[0m     \u001b[39mreturn\u001b[39;00m \u001b[39mself\u001b[39m\u001b[39m.\u001b[39m_values[loc]\n",
      "File \u001b[1;32mc:\\Users\\Usuario\\OneDrive\\Escritorio\\Data Analytics\\.venv\\Lib\\site-packages\\pandas\\core\\indexes\\base.py:3654\u001b[0m, in \u001b[0;36mIndex.get_loc\u001b[1;34m(self, key)\u001b[0m\n\u001b[0;32m   3652\u001b[0m     \u001b[39mreturn\u001b[39;00m \u001b[39mself\u001b[39m\u001b[39m.\u001b[39m_engine\u001b[39m.\u001b[39mget_loc(casted_key)\n\u001b[0;32m   3653\u001b[0m \u001b[39mexcept\u001b[39;00m \u001b[39mKeyError\u001b[39;00m \u001b[39mas\u001b[39;00m err:\n\u001b[1;32m-> 3654\u001b[0m     \u001b[39mraise\u001b[39;00m \u001b[39mKeyError\u001b[39;00m(key) \u001b[39mfrom\u001b[39;00m \u001b[39merr\u001b[39;00m\n\u001b[0;32m   3655\u001b[0m \u001b[39mexcept\u001b[39;00m \u001b[39mTypeError\u001b[39;00m:\n\u001b[0;32m   3656\u001b[0m     \u001b[39m# If we have a listlike key, _check_indexing_error will raise\u001b[39;00m\n\u001b[0;32m   3657\u001b[0m     \u001b[39m#  InvalidIndexError. Otherwise we fall through and re-raise\u001b[39;00m\n\u001b[0;32m   3658\u001b[0m     \u001b[39m#  the TypeError.\u001b[39;00m\n\u001b[0;32m   3659\u001b[0m     \u001b[39mself\u001b[39m\u001b[39m.\u001b[39m_check_indexing_error(key)\n",
      "\u001b[1;31mKeyError\u001b[0m: 'CCAA'"
     ]
    }
   ],
   "source": [
    "for indice, fila in df_comunidades.iterrows():\n",
    "    \n",
    "    # creamos la query que no inserta datos en la tabla localidades\n",
    "    query_comunidades = f\"\"\"\n",
    "                INSERT INTO comunidades (comunidad) \n",
    "                VALUES (\"{fila[\"CCAA\"]}\");\n",
    "                \"\"\"  \n",
    "    \n",
    "    comunidades = carga.check_comunidades()\n",
    "    list_comunidades = [i for tupla in comunidades for i in tupla]\n",
    "    \n",
    "    \n",
    "    if fila['CCAA'] not in list_comunidades: \n",
    "        carga.crear_insertar_tabla(query_comunidades)\n",
    "\n",
    "    else:\n",
    "        print(f\"{fila['CCAA']} ya esta en nuestra BBDD\") \n",
    "     "
   ]
  },
  {
   "cell_type": "code",
   "execution_count": 23,
   "metadata": {},
   "outputs": [],
   "source": [
    "df_nacional = pd.read_csv('../datos/nacional_clean.csv', index_col = 0)"
   ]
  },
  {
   "cell_type": "code",
   "execution_count": 25,
   "metadata": {},
   "outputs": [
    {
     "data": {
      "text/html": [
       "<div>\n",
       "<style scoped>\n",
       "    .dataframe tbody tr th:only-of-type {\n",
       "        vertical-align: middle;\n",
       "    }\n",
       "\n",
       "    .dataframe tbody tr th {\n",
       "        vertical-align: top;\n",
       "    }\n",
       "\n",
       "    .dataframe thead th {\n",
       "        text-align: right;\n",
       "    }\n",
       "</style>\n",
       "<table border=\"1\" class=\"dataframe\">\n",
       "  <thead>\n",
       "    <tr style=\"text-align: right;\">\n",
       "      <th></th>\n",
       "      <th>value</th>\n",
       "      <th>percentage</th>\n",
       "      <th>datetime</th>\n",
       "      <th>type</th>\n",
       "    </tr>\n",
       "  </thead>\n",
       "  <tbody>\n",
       "    <tr>\n",
       "      <th>1</th>\n",
       "      <td>8.533872e+07</td>\n",
       "      <td>0.30</td>\n",
       "      <td>2012-01-01</td>\n",
       "      <td>renovable</td>\n",
       "    </tr>\n",
       "    <tr>\n",
       "      <th>12</th>\n",
       "      <td>1.926868e+08</td>\n",
       "      <td>0.69</td>\n",
       "      <td>2011-01-01</td>\n",
       "      <td>no renovable</td>\n",
       "    </tr>\n",
       "    <tr>\n",
       "      <th>7</th>\n",
       "      <td>1.003444e+08</td>\n",
       "      <td>0.38</td>\n",
       "      <td>2018-01-01</td>\n",
       "      <td>renovable</td>\n",
       "    </tr>\n",
       "    <tr>\n",
       "      <th>6</th>\n",
       "      <td>8.461087e+07</td>\n",
       "      <td>0.32</td>\n",
       "      <td>2017-01-01</td>\n",
       "      <td>renovable</td>\n",
       "    </tr>\n",
       "  </tbody>\n",
       "</table>\n",
       "</div>"
      ],
      "text/plain": [
       "           value  percentage    datetime          type\n",
       "1   8.533872e+07        0.30  2012-01-01     renovable\n",
       "12  1.926868e+08        0.69  2011-01-01  no renovable\n",
       "7   1.003444e+08        0.38  2018-01-01     renovable\n",
       "6   8.461087e+07        0.32  2017-01-01     renovable"
      ]
     },
     "execution_count": 25,
     "metadata": {},
     "output_type": "execute_result"
    }
   ],
   "source": [
    "df_nacional.sample(4)"
   ]
  },
  {
   "cell_type": "code",
   "execution_count": 30,
   "metadata": {},
   "outputs": [],
   "source": [
    "for indice, fila in df_nacional.iterrows():\n",
    "    \n",
    "    # creamos la query que no inserta datos en la tabla localidades\n",
    "    query_nacional = f\"\"\"\n",
    "                INSERT INTO nacional_renovable_no_renovable (porcentaje) \n",
    "                VALUES (\"{fila[\"percentage\"]}\");\n",
    "                \"\"\"  \n",
    "    crear_insertar_tabla('energía', 'AlumnaAdalab', query_nacional)\n"
   ]
  }
 ],
 "metadata": {
  "kernelspec": {
   "display_name": ".venv",
   "language": "python",
   "name": "python3"
  },
  "language_info": {
   "codemirror_mode": {
    "name": "ipython",
    "version": 3
   },
   "file_extension": ".py",
   "mimetype": "text/x-python",
   "name": "python",
   "nbconvert_exporter": "python",
   "pygments_lexer": "ipython3",
   "version": "3.11.2"
  },
  "orig_nbformat": 4
 },
 "nbformat": 4,
 "nbformat_minor": 2
}
