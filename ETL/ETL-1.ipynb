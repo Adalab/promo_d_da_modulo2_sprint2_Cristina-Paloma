{
 "cells": [
  {
   "attachments": {},
   "cell_type": "markdown",
   "metadata": {},
   "source": [
    "## ETL -1"
   ]
  },
  {
   "cell_type": "code",
   "execution_count": 1,
   "metadata": {},
   "outputs": [],
   "source": [
    "# librerias:\n",
    "import requests\n",
    "import pandas as pd\n",
    "import numpy as np\n",
    "\n",
    "# para ver más de una salida por celda\n",
    "from IPython.core.interactiveshell import InteractiveShell\n",
    "InteractiveShell.ast_node_interactivity = \"all\""
   ]
  },
  {
   "attachments": {},
   "cell_type": "markdown",
   "metadata": {},
   "source": [
    "En el marco de un proyecto de análisis de datos, se requiere realizar una ETL para integrar información de distintas fuentes de datos. La empresa para la que trabajamos cuenta con una base de datos de la informacion sobre el número de personas censadas en las distintas Comunidades Autónomas españolas desde el año 1998 hasta el 2022. Quieren enriquecer los datos con información de la generación de energías renovables y no renovables y crear una base de datos más completa. Para esto nos piden que usemos la API de REData la cual nos da mucha información sobre el mercado energético en España. La documentación de la API la encontraréis aquí:"
   ]
  },
  {
   "attachments": {},
   "cell_type": "markdown",
   "metadata": {},
   "source": [
    "https://www.ree.es/es/apidatos"
   ]
  },
  {
   "cell_type": "code",
   "execution_count": 3,
   "metadata": {},
   "outputs": [],
   "source": [
    "# definimos la url de la API\n",
    "# url = 'https://www.ree.es/es/apidatos'\n",
    "url = 'https://apidatos.ree.es/es/datos/generacion/evolucion-renovable-no-renovable?start_date=2011-01-01T00:00&end_date=2011-12-31T23:59&time_trunc=year'"
   ]
  },
  {
   "cell_type": "code",
   "execution_count": 43,
   "metadata": {},
   "outputs": [],
   "source": [
    "# hacemos la petición de datos a la API\n",
    "response = requests.get(url = url)"
   ]
  },
  {
   "cell_type": "code",
   "execution_count": 44,
   "metadata": {},
   "outputs": [
    {
     "data": {
      "text/plain": [
       "<Response [200]>"
      ]
     },
     "execution_count": 44,
     "metadata": {},
     "output_type": "execute_result"
    }
   ],
   "source": [
    "response"
   ]
  },
  {
   "cell_type": "code",
   "execution_count": 5,
   "metadata": {},
   "outputs": [
    {
     "name": "stdout",
     "output_type": "stream",
     "text": [
      "El código devuelto por la API es 200, con razón: OK\n"
     ]
    }
   ],
   "source": [
    "# comprobamos si la petición se está realizando correctamente\n",
    "r_stat = response.status_code\n",
    "r_reason = response.reason\n",
    "\n",
    "print(f'El código devuelto por la API es {r_stat}, con razón: {r_reason}')"
   ]
  },
  {
   "attachments": {},
   "cell_type": "markdown",
   "metadata": {},
   "source": [
    "Requisitos de este ejercicio de pair programming:"
   ]
  },
  {
   "attachments": {},
   "cell_type": "markdown",
   "metadata": {},
   "source": [
    "1- Nuestros jefes están especialmente interesados en los datos de generación de las energías renovables y no renovables a nivel nacional. En concreto, nos piden sacar toda la información para las fechas de 1 de Enero del 2011 hasta el 31 de Diciembre del 2022. De toda la información que tenemos de generación queremos la evolucion de renovable y no renovable. Además deberemos incluir una columna nueva identificando si el dato corresponde a energía renovable o no renovable."
   ]
  },
  {
   "cell_type": "code",
   "execution_count": 22,
   "metadata": {},
   "outputs": [
    {
     "data": {
      "text/html": [
       "<div>\n",
       "<style scoped>\n",
       "    .dataframe tbody tr th:only-of-type {\n",
       "        vertical-align: middle;\n",
       "    }\n",
       "\n",
       "    .dataframe tbody tr th {\n",
       "        vertical-align: top;\n",
       "    }\n",
       "\n",
       "    .dataframe thead th {\n",
       "        text-align: right;\n",
       "    }\n",
       "</style>\n",
       "<table border=\"1\" class=\"dataframe\">\n",
       "  <thead>\n",
       "    <tr style=\"text-align: right;\">\n",
       "      <th></th>\n",
       "      <th>type</th>\n",
       "      <th>id</th>\n",
       "      <th>groupId</th>\n",
       "      <th>attributes</th>\n",
       "    </tr>\n",
       "  </thead>\n",
       "  <tbody>\n",
       "    <tr>\n",
       "      <th>0</th>\n",
       "      <td>Renovable</td>\n",
       "      <td>10299</td>\n",
       "      <td>None</td>\n",
       "      <td>{'title': 'Renovable', 'description': 'Energía...</td>\n",
       "    </tr>\n",
       "    <tr>\n",
       "      <th>1</th>\n",
       "      <td>No renovable</td>\n",
       "      <td>10298</td>\n",
       "      <td>None</td>\n",
       "      <td>{'title': 'No renovable', 'description': None,...</td>\n",
       "    </tr>\n",
       "  </tbody>\n",
       "</table>\n",
       "</div>"
      ],
      "text/plain": [
       "           type     id groupId  \\\n",
       "0     Renovable  10299    None   \n",
       "1  No renovable  10298    None   \n",
       "\n",
       "                                          attributes  \n",
       "0  {'title': 'Renovable', 'description': 'Energía...  \n",
       "1  {'title': 'No renovable', 'description': None,...  "
      ]
     },
     "execution_count": 22,
     "metadata": {},
     "output_type": "execute_result"
    }
   ],
   "source": [
    "df_final = pd.DataFrame(response.json()['included'])\n",
    "df_final"
   ]
  },
  {
   "cell_type": "code",
   "execution_count": 47,
   "metadata": {},
   "outputs": [
    {
     "data": {
      "text/plain": [
       "[{'value': 86667052.8500005,\n",
       "  'percentage': 0.31024115642116423,\n",
       "  'datetime': '2011-01-01T00:00:00.000+01:00'}]"
      ]
     },
     "execution_count": 47,
     "metadata": {},
     "output_type": "execute_result"
    }
   ],
   "source": [
    "renovable = response.json()['included'][0]['attributes']['values']\n",
    "renovable"
   ]
  },
  {
   "cell_type": "code",
   "execution_count": 24,
   "metadata": {},
   "outputs": [],
   "source": [
    "renovable = response.json()['included'][0]\n",
    "no_renovable = response.json()['included'][1]"
   ]
  },
  {
   "cell_type": "code",
   "execution_count": 34,
   "metadata": {},
   "outputs": [
    {
     "data": {
      "text/html": [
       "<div>\n",
       "<style scoped>\n",
       "    .dataframe tbody tr th:only-of-type {\n",
       "        vertical-align: middle;\n",
       "    }\n",
       "\n",
       "    .dataframe tbody tr th {\n",
       "        vertical-align: top;\n",
       "    }\n",
       "\n",
       "    .dataframe thead th {\n",
       "        text-align: right;\n",
       "    }\n",
       "</style>\n",
       "<table border=\"1\" class=\"dataframe\">\n",
       "  <thead>\n",
       "    <tr style=\"text-align: right;\">\n",
       "      <th></th>\n",
       "      <th>value</th>\n",
       "      <th>percentage</th>\n",
       "      <th>datetime</th>\n",
       "    </tr>\n",
       "  </thead>\n",
       "  <tbody>\n",
       "    <tr>\n",
       "      <th>0</th>\n",
       "      <td>8.666705e+07</td>\n",
       "      <td>0.310241</td>\n",
       "      <td>2011-01-01T00:00:00.000+01:00</td>\n",
       "    </tr>\n",
       "  </tbody>\n",
       "</table>\n",
       "</div>"
      ],
      "text/plain": [
       "          value  percentage                       datetime\n",
       "0  8.666705e+07    0.310241  2011-01-01T00:00:00.000+01:00"
      ]
     },
     "execution_count": 34,
     "metadata": {},
     "output_type": "execute_result"
    }
   ],
   "source": [
    "pd.DataFrame(renovable['attributes']['values'])"
   ]
  },
  {
   "cell_type": "code",
   "execution_count": 49,
   "metadata": {},
   "outputs": [],
   "source": [
    "df_final = pd.DataFrame()\n",
    "df_renov = pd.DataFrame()\n",
    "df_no_renov = pd.DataFrame()"
   ]
  },
  {
   "cell_type": "code",
   "execution_count": 50,
   "metadata": {},
   "outputs": [],
   "source": [
    "for año in range(2011,2023):\n",
    "    url = f'https://apidatos.ree.es/es/datos/generacion/evolucion-renovable-no-renovable?start_date={año}-01-01T00:00&end_date={año}-12-31T23:59&time_trunc=year'\n",
    "    response = requests.get(url = url)\n",
    "\n",
    "    renovables = pd.DataFrame(response.json()['included'][0]['attributes']['values'])\n",
    "    df_renov = pd.concat([df_renov, renovables],  axis=0, ignore_index = True)\n",
    "    df_renov['type'] = 'renovable'\n",
    "    \n",
    "    \n",
    "    no_renovables = pd.DataFrame(response.json()['included'][1]['attributes']['values'])\n",
    "    df_no_renov = pd.concat([df_no_renov, no_renovables],  axis=0, ignore_index = True)\n",
    "    df_no_renov['type'] = 'no renovable'\n",
    "\n",
    "df_final = pd.concat([df_renov, df_no_renov],  axis=0, ignore_index = True)"
   ]
  },
  {
   "cell_type": "code",
   "execution_count": 51,
   "metadata": {},
   "outputs": [
    {
     "data": {
      "text/html": [
       "<div>\n",
       "<style scoped>\n",
       "    .dataframe tbody tr th:only-of-type {\n",
       "        vertical-align: middle;\n",
       "    }\n",
       "\n",
       "    .dataframe tbody tr th {\n",
       "        vertical-align: top;\n",
       "    }\n",
       "\n",
       "    .dataframe thead th {\n",
       "        text-align: right;\n",
       "    }\n",
       "</style>\n",
       "<table border=\"1\" class=\"dataframe\">\n",
       "  <thead>\n",
       "    <tr style=\"text-align: right;\">\n",
       "      <th></th>\n",
       "      <th>value</th>\n",
       "      <th>percentage</th>\n",
       "      <th>datetime</th>\n",
       "      <th>type</th>\n",
       "    </tr>\n",
       "  </thead>\n",
       "  <tbody>\n",
       "    <tr>\n",
       "      <th>0</th>\n",
       "      <td>8.666705e+07</td>\n",
       "      <td>0.310241</td>\n",
       "      <td>2011-01-01T00:00:00.000+01:00</td>\n",
       "      <td>renovable</td>\n",
       "    </tr>\n",
       "    <tr>\n",
       "      <th>1</th>\n",
       "      <td>8.533872e+07</td>\n",
       "      <td>0.301424</td>\n",
       "      <td>2012-01-01T00:00:00.000+01:00</td>\n",
       "      <td>renovable</td>\n",
       "    </tr>\n",
       "    <tr>\n",
       "      <th>2</th>\n",
       "      <td>1.097577e+08</td>\n",
       "      <td>0.401622</td>\n",
       "      <td>2013-01-01T00:00:00.000+01:00</td>\n",
       "      <td>renovable</td>\n",
       "    </tr>\n",
       "    <tr>\n",
       "      <th>3</th>\n",
       "      <td>1.078761e+08</td>\n",
       "      <td>0.404771</td>\n",
       "      <td>2014-01-01T00:00:00.000+01:00</td>\n",
       "      <td>renovable</td>\n",
       "    </tr>\n",
       "    <tr>\n",
       "      <th>4</th>\n",
       "      <td>9.408811e+07</td>\n",
       "      <td>0.351792</td>\n",
       "      <td>2015-01-01T00:00:00.000+01:00</td>\n",
       "      <td>renovable</td>\n",
       "    </tr>\n",
       "    <tr>\n",
       "      <th>5</th>\n",
       "      <td>1.010892e+08</td>\n",
       "      <td>0.386079</td>\n",
       "      <td>2016-01-01T00:00:00.000+01:00</td>\n",
       "      <td>renovable</td>\n",
       "    </tr>\n",
       "    <tr>\n",
       "      <th>6</th>\n",
       "      <td>8.461087e+07</td>\n",
       "      <td>0.322566</td>\n",
       "      <td>2017-01-01T00:00:00.000+01:00</td>\n",
       "      <td>renovable</td>\n",
       "    </tr>\n",
       "    <tr>\n",
       "      <th>7</th>\n",
       "      <td>1.003444e+08</td>\n",
       "      <td>0.384488</td>\n",
       "      <td>2018-01-01T00:00:00.000+01:00</td>\n",
       "      <td>renovable</td>\n",
       "    </tr>\n",
       "    <tr>\n",
       "      <th>8</th>\n",
       "      <td>9.791330e+07</td>\n",
       "      <td>0.375393</td>\n",
       "      <td>2019-01-01T00:00:00.000+01:00</td>\n",
       "      <td>renovable</td>\n",
       "    </tr>\n",
       "    <tr>\n",
       "      <th>9</th>\n",
       "      <td>1.106052e+08</td>\n",
       "      <td>0.439959</td>\n",
       "      <td>2020-01-01T00:00:00.000+01:00</td>\n",
       "      <td>renovable</td>\n",
       "    </tr>\n",
       "    <tr>\n",
       "      <th>10</th>\n",
       "      <td>1.214591e+08</td>\n",
       "      <td>0.467130</td>\n",
       "      <td>2021-01-01T00:00:00.000+01:00</td>\n",
       "      <td>renovable</td>\n",
       "    </tr>\n",
       "    <tr>\n",
       "      <th>11</th>\n",
       "      <td>1.165831e+08</td>\n",
       "      <td>0.421921</td>\n",
       "      <td>2022-01-01T00:00:00.000+01:00</td>\n",
       "      <td>renovable</td>\n",
       "    </tr>\n",
       "    <tr>\n",
       "      <th>12</th>\n",
       "      <td>1.926868e+08</td>\n",
       "      <td>0.689759</td>\n",
       "      <td>2011-01-01T00:00:00.000+01:00</td>\n",
       "      <td>no renovable</td>\n",
       "    </tr>\n",
       "    <tr>\n",
       "      <th>13</th>\n",
       "      <td>1.977799e+08</td>\n",
       "      <td>0.698576</td>\n",
       "      <td>2012-01-01T00:00:00.000+01:00</td>\n",
       "      <td>no renovable</td>\n",
       "    </tr>\n",
       "    <tr>\n",
       "      <th>14</th>\n",
       "      <td>1.635286e+08</td>\n",
       "      <td>0.598378</td>\n",
       "      <td>2013-01-01T00:00:00.000+01:00</td>\n",
       "      <td>no renovable</td>\n",
       "    </tr>\n",
       "    <tr>\n",
       "      <th>15</th>\n",
       "      <td>1.586356e+08</td>\n",
       "      <td>0.595229</td>\n",
       "      <td>2014-01-01T00:00:00.000+01:00</td>\n",
       "      <td>no renovable</td>\n",
       "    </tr>\n",
       "    <tr>\n",
       "      <th>16</th>\n",
       "      <td>1.733657e+08</td>\n",
       "      <td>0.648208</td>\n",
       "      <td>2015-01-01T00:00:00.000+01:00</td>\n",
       "      <td>no renovable</td>\n",
       "    </tr>\n",
       "    <tr>\n",
       "      <th>17</th>\n",
       "      <td>1.607465e+08</td>\n",
       "      <td>0.613921</td>\n",
       "      <td>2016-01-01T00:00:00.000+01:00</td>\n",
       "      <td>no renovable</td>\n",
       "    </tr>\n",
       "    <tr>\n",
       "      <th>18</th>\n",
       "      <td>1.776949e+08</td>\n",
       "      <td>0.677434</td>\n",
       "      <td>2017-01-01T00:00:00.000+01:00</td>\n",
       "      <td>no renovable</td>\n",
       "    </tr>\n",
       "    <tr>\n",
       "      <th>19</th>\n",
       "      <td>1.606375e+08</td>\n",
       "      <td>0.615512</td>\n",
       "      <td>2018-01-01T00:00:00.000+01:00</td>\n",
       "      <td>no renovable</td>\n",
       "    </tr>\n",
       "    <tr>\n",
       "      <th>20</th>\n",
       "      <td>1.629155e+08</td>\n",
       "      <td>0.624607</td>\n",
       "      <td>2019-01-01T00:00:00.000+01:00</td>\n",
       "      <td>no renovable</td>\n",
       "    </tr>\n",
       "    <tr>\n",
       "      <th>21</th>\n",
       "      <td>1.407936e+08</td>\n",
       "      <td>0.560041</td>\n",
       "      <td>2020-01-01T00:00:00.000+01:00</td>\n",
       "      <td>no renovable</td>\n",
       "    </tr>\n",
       "    <tr>\n",
       "      <th>22</th>\n",
       "      <td>1.385520e+08</td>\n",
       "      <td>0.532870</td>\n",
       "      <td>2021-01-01T00:00:00.000+01:00</td>\n",
       "      <td>no renovable</td>\n",
       "    </tr>\n",
       "    <tr>\n",
       "      <th>23</th>\n",
       "      <td>1.597322e+08</td>\n",
       "      <td>0.578079</td>\n",
       "      <td>2022-01-01T00:00:00.000+01:00</td>\n",
       "      <td>no renovable</td>\n",
       "    </tr>\n",
       "  </tbody>\n",
       "</table>\n",
       "</div>"
      ],
      "text/plain": [
       "           value  percentage                       datetime          type\n",
       "0   8.666705e+07    0.310241  2011-01-01T00:00:00.000+01:00     renovable\n",
       "1   8.533872e+07    0.301424  2012-01-01T00:00:00.000+01:00     renovable\n",
       "2   1.097577e+08    0.401622  2013-01-01T00:00:00.000+01:00     renovable\n",
       "3   1.078761e+08    0.404771  2014-01-01T00:00:00.000+01:00     renovable\n",
       "4   9.408811e+07    0.351792  2015-01-01T00:00:00.000+01:00     renovable\n",
       "5   1.010892e+08    0.386079  2016-01-01T00:00:00.000+01:00     renovable\n",
       "6   8.461087e+07    0.322566  2017-01-01T00:00:00.000+01:00     renovable\n",
       "7   1.003444e+08    0.384488  2018-01-01T00:00:00.000+01:00     renovable\n",
       "8   9.791330e+07    0.375393  2019-01-01T00:00:00.000+01:00     renovable\n",
       "9   1.106052e+08    0.439959  2020-01-01T00:00:00.000+01:00     renovable\n",
       "10  1.214591e+08    0.467130  2021-01-01T00:00:00.000+01:00     renovable\n",
       "11  1.165831e+08    0.421921  2022-01-01T00:00:00.000+01:00     renovable\n",
       "12  1.926868e+08    0.689759  2011-01-01T00:00:00.000+01:00  no renovable\n",
       "13  1.977799e+08    0.698576  2012-01-01T00:00:00.000+01:00  no renovable\n",
       "14  1.635286e+08    0.598378  2013-01-01T00:00:00.000+01:00  no renovable\n",
       "15  1.586356e+08    0.595229  2014-01-01T00:00:00.000+01:00  no renovable\n",
       "16  1.733657e+08    0.648208  2015-01-01T00:00:00.000+01:00  no renovable\n",
       "17  1.607465e+08    0.613921  2016-01-01T00:00:00.000+01:00  no renovable\n",
       "18  1.776949e+08    0.677434  2017-01-01T00:00:00.000+01:00  no renovable\n",
       "19  1.606375e+08    0.615512  2018-01-01T00:00:00.000+01:00  no renovable\n",
       "20  1.629155e+08    0.624607  2019-01-01T00:00:00.000+01:00  no renovable\n",
       "21  1.407936e+08    0.560041  2020-01-01T00:00:00.000+01:00  no renovable\n",
       "22  1.385520e+08    0.532870  2021-01-01T00:00:00.000+01:00  no renovable\n",
       "23  1.597322e+08    0.578079  2022-01-01T00:00:00.000+01:00  no renovable"
      ]
     },
     "execution_count": 51,
     "metadata": {},
     "output_type": "execute_result"
    }
   ],
   "source": [
    "df_final"
   ]
  },
  {
   "attachments": {},
   "cell_type": "markdown",
   "metadata": {},
   "source": [
    "2- Sacaremos la misma información que en el ejericio anterior, pero en este caso por CCAA. Para esto necesitaremos los códigos de cada una de las comunidades autónomas que encontraréis en el siguiente diccionario:"
   ]
  },
  {
   "cell_type": "code",
   "execution_count": 53,
   "metadata": {},
   "outputs": [],
   "source": [
    "cod_comunidades = {'Ceuta': 8744,\n",
    "                    'Melilla': 8745,\n",
    "                    'Andalucía': 4,\n",
    "                    'Aragón': 5,\n",
    "                    'Cantabria': 6,\n",
    "                    'Castilla - La Mancha': 7,\n",
    "                    'Castilla y León': 8,\n",
    "                    'Cataluña': 9,\n",
    "                    'País Vasco': 10,\n",
    "                    'Principado de Asturias': 11,\n",
    "                    'Comunidad de Madrid': 13,\n",
    "                    'Comunidad Foral de Navarra': 14,\n",
    "                    'Comunitat Valenciana': 15,\n",
    "                    'Extremadura': 16,\n",
    "                    'Galicia': 17,\n",
    "                    'Illes Balears': 8743,\n",
    "                    'Canarias': 8742,\n",
    "                    'Región de Murcia': 21,\n",
    "                    'La Rioja': 20}"
   ]
  },
  {
   "cell_type": "code",
   "execution_count": 78,
   "metadata": {},
   "outputs": [
    {
     "name": "stdout",
     "output_type": "stream",
     "text": [
      "Ceuta\n",
      "Melilla\n",
      "Andalucía\n",
      "Aragón\n",
      "Cantabria\n",
      "Castilla - La Mancha\n",
      "Castilla y León\n",
      "Cataluña\n",
      "País Vasco\n",
      "Principado de Asturias\n",
      "Comunidad de Madrid\n",
      "Comunidad Foral de Navarra\n",
      "Comunitat Valenciana\n",
      "Extremadura\n",
      "Galicia\n",
      "Illes Balears\n",
      "Canarias\n",
      "Región de Murcia\n",
      "La Rioja\n"
     ]
    }
   ],
   "source": [
    "for k,v in cod_comunidades.items():\n",
    "    print(k)"
   ]
  },
  {
   "cell_type": "code",
   "execution_count": 79,
   "metadata": {},
   "outputs": [],
   "source": [
    "df_final_ccaa = pd.DataFrame()\n",
    "df_renov2 = pd.DataFrame()\n",
    "df_no_renov2 = pd.DataFrame()"
   ]
  },
  {
   "cell_type": "code",
   "execution_count": 98,
   "metadata": {},
   "outputs": [
    {
     "ename": "IndexError",
     "evalue": "list index out of range",
     "output_type": "error",
     "traceback": [
      "\u001b[0;31m---------------------------------------------------------------------------\u001b[0m",
      "\u001b[0;31mIndexError\u001b[0m                                Traceback (most recent call last)",
      "\u001b[0;32m/tmp/ipykernel_626/1115026758.py\u001b[0m in \u001b[0;36m<module>\u001b[0;34m\u001b[0m\n\u001b[1;32m      8\u001b[0m \u001b[0;34m\u001b[0m\u001b[0m\n\u001b[1;32m      9\u001b[0m \u001b[0;34m\u001b[0m\u001b[0m\n\u001b[0;32m---> 10\u001b[0;31m     \u001b[0mno_renovables2\u001b[0m \u001b[0;34m=\u001b[0m \u001b[0mpd\u001b[0m\u001b[0;34m.\u001b[0m\u001b[0mDataFrame\u001b[0m\u001b[0;34m(\u001b[0m\u001b[0mresponse2\u001b[0m\u001b[0;34m.\u001b[0m\u001b[0mjson\u001b[0m\u001b[0;34m(\u001b[0m\u001b[0;34m)\u001b[0m\u001b[0;34m[\u001b[0m\u001b[0;34m'included'\u001b[0m\u001b[0;34m]\u001b[0m\u001b[0;34m[\u001b[0m\u001b[0;36m1\u001b[0m\u001b[0;34m]\u001b[0m\u001b[0;34m[\u001b[0m\u001b[0;34m'attributes'\u001b[0m\u001b[0;34m]\u001b[0m\u001b[0;34m[\u001b[0m\u001b[0;34m'values'\u001b[0m\u001b[0;34m]\u001b[0m\u001b[0;34m)\u001b[0m\u001b[0;34m\u001b[0m\u001b[0;34m\u001b[0m\u001b[0m\n\u001b[0m\u001b[1;32m     11\u001b[0m     \u001b[0mdf_no_renov2\u001b[0m \u001b[0;34m=\u001b[0m \u001b[0mpd\u001b[0m\u001b[0;34m.\u001b[0m\u001b[0mconcat\u001b[0m\u001b[0;34m(\u001b[0m\u001b[0;34m[\u001b[0m\u001b[0mdf_no_renov2\u001b[0m\u001b[0;34m,\u001b[0m \u001b[0mno_renovables2\u001b[0m\u001b[0;34m]\u001b[0m\u001b[0;34m,\u001b[0m  \u001b[0maxis\u001b[0m\u001b[0;34m=\u001b[0m\u001b[0;36m0\u001b[0m\u001b[0;34m,\u001b[0m \u001b[0mignore_index\u001b[0m \u001b[0;34m=\u001b[0m \u001b[0;32mTrue\u001b[0m\u001b[0;34m)\u001b[0m\u001b[0;34m\u001b[0m\u001b[0;34m\u001b[0m\u001b[0m\n\u001b[1;32m     12\u001b[0m     \u001b[0mdf_no_renov2\u001b[0m\u001b[0;34m[\u001b[0m\u001b[0;34m[\u001b[0m\u001b[0;34m'type'\u001b[0m\u001b[0;34m,\u001b[0m \u001b[0;34m'CCAA'\u001b[0m\u001b[0;34m]\u001b[0m\u001b[0;34m]\u001b[0m \u001b[0;34m=\u001b[0m \u001b[0;34m[\u001b[0m\u001b[0;34m'no renovable'\u001b[0m\u001b[0;34m,\u001b[0m \u001b[0mk\u001b[0m\u001b[0;34m]\u001b[0m\u001b[0;34m\u001b[0m\u001b[0;34m\u001b[0m\u001b[0m\n",
      "\u001b[0;31mIndexError\u001b[0m: list index out of range"
     ]
    }
   ],
   "source": [
    "for k,v in cod_comunidades.items():\n",
    "    url_ccaa = f'https://apidatos.ree.es/es/datos/generacion/evolucion-renovable-no-renovable?start_date=2011-01-01T00:00&end_date=2011-12-31T23:59&time_trunc=year&geo_limit=ccaa&geo_ids={v}'\n",
    "    response2 = requests.get(url = url_ccaa)\n",
    "\n",
    "    renovables2 = pd.DataFrame(response2.json()['included'][0]['attributes']['values'])\n",
    "    df_renov2 = pd.concat([df_renov2, renovables2],  axis=0, ignore_index = True)\n",
    "    df_renov2[['type', 'CCAA']] = ['renovable', k]\n",
    "\n",
    "    \n",
    "    no_renovables2 = pd.DataFrame(response2.json()['included'][1]['attributes']['values'])\n",
    "    df_no_renov2 = pd.concat([df_no_renov2, no_renovables2],  axis=0, ignore_index = True)\n",
    "    df_no_renov2[['type', 'CCAA']] = ['no renovable', k]\n",
    "\n",
    "df_final_ccaa = pd.concat([df_renov2, df_no_renov2],  axis=0, ignore_index = True)"
   ]
  },
  {
   "cell_type": "code",
   "execution_count": 99,
   "metadata": {},
   "outputs": [],
   "source": [
    "url_ccaa = f'https://apidatos.ree.es/es/datos/generacion/evolucion-renovable-no-renovable?start_date=2011-01-01T00:00&end_date=2011-12-31T23:59&time_trunc=year&geo_limit=ccaa&geo_ids=7'\n",
    "response2 = requests.get(url = url_ccaa)"
   ]
  },
  {
   "cell_type": "code",
   "execution_count": 100,
   "metadata": {},
   "outputs": [
    {
     "data": {
      "text/plain": [
       "[{'type': 'Renovable',\n",
       "  'id': '10343',\n",
       "  'groupId': None,\n",
       "  'attributes': {'title': 'Renovable',\n",
       "   'description': 'Energía renovable: incluye hidráulica, hidroeólica, eólica, solar fotovoltaica, solar térmica, otras renovables y residuos renovables.',\n",
       "   'color': '#92d050',\n",
       "   'type': 'Renovable',\n",
       "   'magnitude': None,\n",
       "   'composite': False,\n",
       "   'last-update': '2019-06-20T14:30:27.000+02:00',\n",
       "   'values': [{'value': 9874557.135,\n",
       "     'percentage': 0.410912377544615,\n",
       "     'datetime': '2011-01-01T00:00:00.000+01:00'}]}},\n",
       " {'type': 'No renovable',\n",
       "  'id': '10342',\n",
       "  'groupId': None,\n",
       "  'attributes': {'title': 'No renovable',\n",
       "   'description': None,\n",
       "   'color': '#666666',\n",
       "   'type': 'No renovable',\n",
       "   'magnitude': None,\n",
       "   'composite': False,\n",
       "   'last-update': '2019-06-20T14:30:27.000+02:00',\n",
       "   'values': [{'value': 14156252.533,\n",
       "     'percentage': 0.589087622455385,\n",
       "     'datetime': '2011-01-01T00:00:00.000+01:00'}]}}]"
      ]
     },
     "execution_count": 100,
     "metadata": {},
     "output_type": "execute_result"
    }
   ],
   "source": [
    "response2.json()['included']"
   ]
  },
  {
   "cell_type": "code",
   "execution_count": 91,
   "metadata": {},
   "outputs": [
    {
     "data": {
      "text/plain": [
       "[{'value': 202972.893,\n",
       "  'percentage': 1,\n",
       "  'datetime': '2011-01-01T00:00:00.000+01:00'}]"
      ]
     },
     "execution_count": 91,
     "metadata": {},
     "output_type": "execute_result"
    }
   ],
   "source": [
    "response2.json()['included'][0]['attributes']['values']"
   ]
  },
  {
   "cell_type": "code",
   "execution_count": null,
   "metadata": {},
   "outputs": [],
   "source": [
    "df_final_ccaa"
   ]
  },
  {
   "cell_type": "code",
   "execution_count": 77,
   "metadata": {},
   "outputs": [
    {
     "data": {
      "text/html": [
       "<div>\n",
       "<style scoped>\n",
       "    .dataframe tbody tr th:only-of-type {\n",
       "        vertical-align: middle;\n",
       "    }\n",
       "\n",
       "    .dataframe tbody tr th {\n",
       "        vertical-align: top;\n",
       "    }\n",
       "\n",
       "    .dataframe thead th {\n",
       "        text-align: right;\n",
       "    }\n",
       "</style>\n",
       "<table border=\"1\" class=\"dataframe\">\n",
       "  <thead>\n",
       "    <tr style=\"text-align: right;\">\n",
       "      <th></th>\n",
       "      <th>value</th>\n",
       "      <th>percentage</th>\n",
       "      <th>datetime</th>\n",
       "    </tr>\n",
       "  </thead>\n",
       "  <tbody>\n",
       "    <tr>\n",
       "      <th>0</th>\n",
       "      <td>1.165831e+08</td>\n",
       "      <td>0.421921</td>\n",
       "      <td>2022-01-01T00:00:00.000+01:00</td>\n",
       "    </tr>\n",
       "  </tbody>\n",
       "</table>\n",
       "</div>"
      ],
      "text/plain": [
       "          value  percentage                       datetime\n",
       "0  1.165831e+08    0.421921  2022-01-01T00:00:00.000+01:00"
      ]
     },
     "execution_count": 77,
     "metadata": {},
     "output_type": "execute_result"
    }
   ],
   "source": [
    "k"
   ]
  },
  {
   "cell_type": "code",
   "execution_count": 74,
   "metadata": {},
   "outputs": [
    {
     "data": {
      "text/plain": [
       "[{'value': 116583131.8090003,\n",
       "  'percentage': 0.42192065521696676,\n",
       "  'datetime': '2022-01-01T00:00:00.000+01:00'}]"
      ]
     },
     "execution_count": 74,
     "metadata": {},
     "output_type": "execute_result"
    }
   ],
   "source": [
    "response2.json()['included'][0]['attributes']['values']"
   ]
  },
  {
   "cell_type": "code",
   "execution_count": null,
   "metadata": {},
   "outputs": [],
   "source": [
    "'https://apidatos.ree.es/es/datos/generacion/estructura-generacion?start_date=2014-01-01T00:00&end_date=2018-12-31T23:59&time_trunc=year&geo_trunc=electric_system&geo_limit=ccaa&geo_ids=7'"
   ]
  },
  {
   "cell_type": "code",
   "execution_count": 58,
   "metadata": {},
   "outputs": [
    {
     "data": {
      "text/plain": [
       "[{'type': 'Renovable',\n",
       "  'id': '10299',\n",
       "  'groupId': None,\n",
       "  'attributes': {'title': 'Renovable',\n",
       "   'description': 'Energía renovable: incluye hidráulica, hidroeólica, eólica, solar fotovoltaica, solar térmica, otras renovables y residuos renovables.',\n",
       "   'color': '#92d050',\n",
       "   'type': 'Renovable',\n",
       "   'magnitude': None,\n",
       "   'composite': False,\n",
       "   'last-update': '2022-12-12T12:48:47.000+01:00',\n",
       "   'values': [{'value': 116583131.8090003,\n",
       "     'percentage': 0.42192065521696676,\n",
       "     'datetime': '2022-01-01T00:00:00.000+01:00'}]}},\n",
       " {'type': 'No renovable',\n",
       "  'id': '10298',\n",
       "  'groupId': None,\n",
       "  'attributes': {'title': 'No renovable',\n",
       "   'description': None,\n",
       "   'color': '#666666',\n",
       "   'type': 'No renovable',\n",
       "   'magnitude': None,\n",
       "   'composite': False,\n",
       "   'last-update': '2022-12-12T12:48:43.000+01:00',\n",
       "   'values': [{'value': 159732166.7370002,\n",
       "     'percentage': 0.5780793447830334,\n",
       "     'datetime': '2022-01-01T00:00:00.000+01:00'}]}}]"
      ]
     },
     "execution_count": 58,
     "metadata": {},
     "output_type": "execute_result"
    }
   ],
   "source": [
    "response2.json()['included']"
   ]
  },
  {
   "cell_type": "code",
   "execution_count": 54,
   "metadata": {},
   "outputs": [
    {
     "name": "stdout",
     "output_type": "stream",
     "text": [
      "Ceuta 8744\n",
      "Melilla 8745\n",
      "Andalucía 4\n",
      "Aragón 5\n",
      "Cantabria 6\n",
      "Castilla - La Mancha 7\n",
      "Castilla y León 8\n",
      "Cataluña 9\n",
      "País Vasco 10\n",
      "Principado de Asturias 11\n",
      "Comunidad de Madrid 13\n",
      "Comunidad Foral de Navarra 14\n",
      "Comunitat Valenciana 15\n",
      "Extremadura 16\n",
      "Galicia 17\n",
      "Illes Balears 8743\n",
      "Canarias 8742\n",
      "Región de Murcia 21\n",
      "La Rioja 20\n"
     ]
    }
   ],
   "source": [
    "for k,v in cod_comunidades.items():\n",
    "    \n",
    "    for año in range(2011,2023):\n",
    "    url_ccaa = f'https://apidatos.ree.es/es/datos/generacion/evolucion-renovable-no-renovable?start_date={año}-01-01T00:00&end_date={año}-12-31T23:59&time_trunc=year&geo_trunc=electric_system&geo_limit=ccaa&geo_ids={v}'\n",
    "    response2 = requests.get(url = url)\n",
    "\n",
    "    renovables = pd.DataFrame(response.json()['included'][0]['attributes']['values'])\n",
    "    df_renov = pd.concat([df_renov, renovables],  axis=0, ignore_index = True)\n",
    "    df_renov['type'] = 'renovable'\n",
    "    \n",
    "    \n",
    "    no_renovables = pd.DataFrame(response.json()['included'][1]['attributes']['values'])\n",
    "    df_no_renov = pd.concat([df_no_renov, no_renovables],  axis=0, ignore_index = True)\n",
    "    df_no_renov['type'] = 'no renovable'\n"
   ]
  },
  {
   "cell_type": "code",
   "execution_count": null,
   "metadata": {},
   "outputs": [],
   "source": [
    "url_ccaa= 'https://apidatos.ree.es/es/datos/generacion/evolucion-renovable-no-renovable?start_date={año}-01-01T00:00&end_date={año}-12-31T23:59&time_trunc=year&geo_trunc=electric_system&geo_limit=ccaa&geo_ids={ccaa_id}'"
   ]
  },
  {
   "cell_type": "code",
   "execution_count": null,
   "metadata": {},
   "outputs": [],
   "source": [
    "for año in range(2011,2023):\n",
    "    url = f'https://apidatos.ree.es/es/datos/generacion/evolucion-renovable-no-renovable?start_date={año}-01-01T00:00&end_date={año}-12-31T23:59&time_trunc=year'\n",
    "    response = requests.get(url = url)\n",
    "\n",
    "    renovables = pd.DataFrame(response.json()['included'][0]['attributes']['values'])\n",
    "    df_renov = pd.concat([df_renov, renovables],  axis=0, ignore_index = True)\n",
    "    df_renov['type'] = 'renovable'\n",
    "    \n",
    "    \n",
    "    no_renovables = pd.DataFrame(response.json()['included'][1]['attributes']['values'])\n",
    "    df_no_renov = pd.concat([df_no_renov, no_renovables],  axis=0, ignore_index = True)\n",
    "    df_no_renov['type'] = 'no renovable'\n",
    "\n",
    "df_final = pd.concat([df_renov, df_no_renov],  axis=0, ignore_index = True)"
   ]
  },
  {
   "attachments": {},
   "cell_type": "markdown",
   "metadata": {},
   "source": [
    "3- Guardad los csv ya que mañana los seguiremos usando en los siguientes pairs"
   ]
  },
  {
   "cell_type": "code",
   "execution_count": null,
   "metadata": {},
   "outputs": [],
   "source": []
  }
 ],
 "metadata": {
  "kernelspec": {
   "display_name": "base",
   "language": "python",
   "name": "python3"
  },
  "language_info": {
   "codemirror_mode": {
    "name": "ipython",
    "version": 3
   },
   "file_extension": ".py",
   "mimetype": "text/x-python",
   "name": "python",
   "nbconvert_exporter": "python",
   "pygments_lexer": "ipython3",
   "version": "3.9.7"
  },
  "orig_nbformat": 4
 },
 "nbformat": 4,
 "nbformat_minor": 2
}
