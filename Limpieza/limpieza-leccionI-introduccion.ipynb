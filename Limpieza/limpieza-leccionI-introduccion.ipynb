{
 "cells": [
  {
   "attachments": {},
   "cell_type": "markdown",
   "metadata": {},
   "source": [
    "# **Ejercicios de pair programming Módulo 2 Sprint 2**\n",
    "## **Limpieza I**\n",
    "### **Introducción**"
   ]
  },
  {
   "cell_type": "code",
   "execution_count": 34,
   "metadata": {},
   "outputs": [],
   "source": [
    "import pandas as pd\n",
    "import numpy as np\n",
    "import matplotlib.pyplot as plt\n",
    "import seaborn as sns"
   ]
  },
  {
   "attachments": {},
   "cell_type": "markdown",
   "metadata": {},
   "source": [
    "En este ejercicio trabajaremos con un csv nuevo. En concreto trabajaremos con datos de banca/marketing. Este conjunto de datos contiene información sobre campañas de marketing bancario, incluyendo detalles como la edad, el trabajo, el estado civil, etc. En concreto estos datos son de una campaña de marketing para la venta de un producto o servicio, la columna (\"y\") parece indicar si el cliente ha aceptado la oferta o no.\n",
    "\n",
    "Tenemos distintos tipos de variables en el dataset, veamos que significan:\n",
    "\n",
    "Datos del cliente bancario:\n",
    "\n",
    "age: (numérico)\n",
    "job : tipo de trabajo (categórico: \"administrativo\", \"obrero\", \"empresario\", \"empleada del hogar\", \"directivo\", \"jubilado\", \"autónomo\", \"servicios\", \"estudiante\", \"técnico\", \"desempleado\")\n",
    "marital : estado civil (categórico: \"divorciado\", \"casado\", \"soltero\". Nota: \"divorciado\" significa divorciado o viudo)\n",
    "education (categórica: \"básica.4a\", \"básica.6a\", \"básica.9a\", \"secundaria\", \"analfabeto\", \"curso.profesional\", \"título.universitario\")\n",
    "default: ¿tiene crédito en mora? (categórico: O: \"no\", 1: \"sí\")\n",
    "housing: ¿tiene préstamo para vivienda? (categórico: 0: \"no\", 1: \"sí\")\n",
    "loan: ¿tiene préstamo personal? (categórico: 0: \"no\", 1: \"sí\")\n",
    "\n",
    "Datos relacionados con el último contacto de la campaña actual:\n",
    "contact: tipo de comunicación del contacto (categórico: \"móvil\", \"teléfono\")\n",
    "month_day_week: lista con el año del último contacto (categórico: \"ene\", \"feb\", \"mar\", ..., \"nov\", \"dic\") y el día de la semana del último contacto (categorical: \"mon\", \"tue\", \"wed\", \"thu\", \"fri\")\n",
    "duration: duración del último contacto, en segundos (numérico). Nota importante: este atributo afecta en gran medida al objetivo de salida (por ejemplo, si duration=0 entonces y=\"no\"). Sin embargo, la duración no se conoce antes de realizar una llamada. Además, es obvio que y se conoce una vez finalizada la llamada. Por lo tanto, esta entrada sólo debería incluirse a efectos de evaluación comparativa y debería descartarse si la intención es tener un modelo predictivo realista.\n",
    "\n",
    "Otras variables:\n",
    "\n",
    "campaign: número de contactos realizados durante esta campaña y para este cliente (numérico, incluye el último contacto)\n",
    "pdays: número de días transcurridos desde que el cliente fue contactado por última vez en una campaña anterior (numérico; 999 significa que el cliente no fue contactado previamente)\n",
    "previous: número de contactos realizados antes de esta campaña y para este cliente (numérico)\n",
    "poutcome: resultado de la campaña de marketing anterior (categórico: \"fracaso\", \"inexistente\", \"éxito\")\n",
    "y: ¿ha suscrito el cliente un depósito a plazo? (binario: \"sí\", \"no\")\n",
    "\n",
    "Variables de contexto social y económico:\n",
    "\n",
    "emp.var.rate: tasa de variación del empleo - indicador trimestral (numérico)\n",
    "cons.price.idx: índice de precios al consumidor - indicador mensual (numérico)\n",
    "cons.conf.idx: índice de confianza del consumidor - indicador mensual (numérico)\n",
    "euribor3`m: tipo euribor a 3 meses - indicador diario (numérico)\n",
    "nr.employed: número de empleados - indicador trimestral (numérico)"
   ]
  },
  {
   "attachments": {},
   "cell_type": "markdown",
   "metadata": {},
   "source": [
    "Hipótesis\n",
    "\n",
    "La edad, el trabajo, el estado civil, la educación, la situación de deuda y la forma de contacto pueden influir en la probabilidad de que un cliente acepte la oferta.\n",
    "\n",
    "El número de veces que se ha contactado a un cliente en el pasado (campo campaign), el número de días que han pasado desde el último contacto (campo pdays), y el resultado de la campaña anterior (campo poutcome) pueden afectar la respuesta del cliente a una nueva oferta.\n",
    "\n",
    "Las variables económicas (tales como el índice de precios al consumidor (cons.price.idx), la tasa de variación del empleo (emp.var.rate), etc.) pueden influir en la probabilidad de que un cliente acepte la oferta.\n",
    "\n",
    "Los clientes que ya tienen una hipoteca (housing) o un préstamo (loan) pueden ser menos propensos a aceptar una nueva oferta, ya que podrían estar limitados financieramente."
   ]
  },
  {
   "cell_type": "code",
   "execution_count": 35,
   "metadata": {},
   "outputs": [
    {
     "data": {
      "text/html": [
       "<div>\n",
       "<style scoped>\n",
       "    .dataframe tbody tr th:only-of-type {\n",
       "        vertical-align: middle;\n",
       "    }\n",
       "\n",
       "    .dataframe tbody tr th {\n",
       "        vertical-align: top;\n",
       "    }\n",
       "\n",
       "    .dataframe thead th {\n",
       "        text-align: right;\n",
       "    }\n",
       "</style>\n",
       "<table border=\"1\" class=\"dataframe\">\n",
       "  <thead>\n",
       "    <tr style=\"text-align: right;\">\n",
       "      <th></th>\n",
       "      <th>age</th>\n",
       "      <th>job</th>\n",
       "      <th>marital</th>\n",
       "      <th>education</th>\n",
       "      <th>default</th>\n",
       "      <th>housing</th>\n",
       "      <th>loan</th>\n",
       "      <th>contact</th>\n",
       "      <th>duration</th>\n",
       "      <th>campaign</th>\n",
       "      <th>pdays</th>\n",
       "      <th>previous</th>\n",
       "      <th>poutcome</th>\n",
       "      <th>emp.var.rate</th>\n",
       "      <th>cons.price.idx</th>\n",
       "      <th>cons.conf.idx</th>\n",
       "      <th>euribor3m</th>\n",
       "      <th>nr.employed</th>\n",
       "      <th>y</th>\n",
       "      <th>month_day_week</th>\n",
       "    </tr>\n",
       "  </thead>\n",
       "  <tbody>\n",
       "    <tr>\n",
       "      <th>18747</th>\n",
       "      <td>31</td>\n",
       "      <td>services</td>\n",
       "      <td>SINGLE</td>\n",
       "      <td>high.school</td>\n",
       "      <td>0.0</td>\n",
       "      <td>1.0</td>\n",
       "      <td>0.0</td>\n",
       "      <td>telephone</td>\n",
       "      <td>42</td>\n",
       "      <td>5</td>\n",
       "      <td>999</td>\n",
       "      <td>0</td>\n",
       "      <td>NONEXISTENT</td>\n",
       "      <td>1.4</td>\n",
       "      <td>93,918</td>\n",
       "      <td>-42,7</td>\n",
       "      <td>4,968</td>\n",
       "      <td>5228,1</td>\n",
       "      <td>no</td>\n",
       "      <td>['jul', 'thu']</td>\n",
       "    </tr>\n",
       "    <tr>\n",
       "      <th>35691</th>\n",
       "      <td>37</td>\n",
       "      <td>admin.</td>\n",
       "      <td>SINGLE</td>\n",
       "      <td>university.degree</td>\n",
       "      <td>0.0</td>\n",
       "      <td>1.0</td>\n",
       "      <td>0.0</td>\n",
       "      <td>cellular</td>\n",
       "      <td>194</td>\n",
       "      <td>3</td>\n",
       "      <td>999</td>\n",
       "      <td>0</td>\n",
       "      <td>NONEXISTENT</td>\n",
       "      <td>-1.8</td>\n",
       "      <td>92,893</td>\n",
       "      <td>-46,2</td>\n",
       "      <td>1,244</td>\n",
       "      <td>5099,1</td>\n",
       "      <td>no</td>\n",
       "      <td>['may', 'mon']</td>\n",
       "    </tr>\n",
       "    <tr>\n",
       "      <th>22276</th>\n",
       "      <td>45</td>\n",
       "      <td>services</td>\n",
       "      <td>MARRIED</td>\n",
       "      <td>high.school</td>\n",
       "      <td>0.0</td>\n",
       "      <td>0.0</td>\n",
       "      <td>0.0</td>\n",
       "      <td>cellular</td>\n",
       "      <td>1026</td>\n",
       "      <td>2</td>\n",
       "      <td>999</td>\n",
       "      <td>0</td>\n",
       "      <td>NONEXISTENT</td>\n",
       "      <td>1.4</td>\n",
       "      <td>93,444</td>\n",
       "      <td>-36,1</td>\n",
       "      <td>4,963</td>\n",
       "      <td>5228,1</td>\n",
       "      <td>no</td>\n",
       "      <td>['aug', 'thu']</td>\n",
       "    </tr>\n",
       "  </tbody>\n",
       "</table>\n",
       "</div>"
      ],
      "text/plain": [
       "       age       job  marital          education  default  housing  loan  \\\n",
       "18747   31  services   SINGLE        high.school      0.0      1.0   0.0   \n",
       "35691   37    admin.   SINGLE  university.degree      0.0      1.0   0.0   \n",
       "22276   45  services  MARRIED        high.school      0.0      0.0   0.0   \n",
       "\n",
       "         contact  duration  campaign  pdays  previous     poutcome  \\\n",
       "18747  telephone        42         5    999         0  NONEXISTENT   \n",
       "35691   cellular       194         3    999         0  NONEXISTENT   \n",
       "22276   cellular      1026         2    999         0  NONEXISTENT   \n",
       "\n",
       "       emp.var.rate cons.price.idx cons.conf.idx euribor3m nr.employed   y  \\\n",
       "18747           1.4         93,918         -42,7     4,968      5228,1  no   \n",
       "35691          -1.8         92,893         -46,2     1,244      5099,1  no   \n",
       "22276           1.4         93,444         -36,1     4,963      5228,1  no   \n",
       "\n",
       "       month_day_week  \n",
       "18747  ['jul', 'thu']  \n",
       "35691  ['may', 'mon']  \n",
       "22276  ['aug', 'thu']  "
      ]
     },
     "execution_count": 35,
     "metadata": {},
     "output_type": "execute_result"
    }
   ],
   "source": [
    "df = pd.read_csv(\"../datos/bank-additional-full.csv\", index_col = 0)\n",
    "pd.options.display.max_columns = None\n",
    "df.sample(3)"
   ]
  },
  {
   "attachments": {},
   "cell_type": "markdown",
   "metadata": {},
   "source": [
    "Entre las tareas que tendréis que hacer hoy:\n",
    "\n",
    "Explora el dataset con los métodos que hemos ido aprendiendo hasta ahora para familiarizarnos con los datos."
   ]
  },
  {
   "cell_type": "code",
   "execution_count": 36,
   "metadata": {},
   "outputs": [
    {
     "data": {
      "text/plain": [
       "(43170, 20)"
      ]
     },
     "execution_count": 36,
     "metadata": {},
     "output_type": "execute_result"
    }
   ],
   "source": [
    "df.shape"
   ]
  },
  {
   "cell_type": "code",
   "execution_count": 37,
   "metadata": {},
   "outputs": [
    {
     "name": "stdout",
     "output_type": "stream",
     "text": [
      "<class 'pandas.core.frame.DataFrame'>\n",
      "Int64Index: 43170 entries, 0 to 29612\n",
      "Data columns (total 20 columns):\n",
      " #   Column          Non-Null Count  Dtype  \n",
      "---  ------          --------------  -----  \n",
      " 0   age             43170 non-null  int64  \n",
      " 1   job             42823 non-null  object \n",
      " 2   marital         43085 non-null  object \n",
      " 3   education       41355 non-null  object \n",
      " 4   default         34154 non-null  float64\n",
      " 5   housing         42139 non-null  float64\n",
      " 6   loan            42139 non-null  float64\n",
      " 7   contact         43170 non-null  object \n",
      " 8   duration        43170 non-null  int64  \n",
      " 9   campaign        43170 non-null  int64  \n",
      " 10  pdays           43170 non-null  int64  \n",
      " 11  previous        43170 non-null  int64  \n",
      " 12  poutcome        43170 non-null  object \n",
      " 13  emp.var.rate    43170 non-null  float64\n",
      " 14  cons.price.idx  43170 non-null  object \n",
      " 15  cons.conf.idx   43170 non-null  object \n",
      " 16  euribor3m       43170 non-null  object \n",
      " 17  nr.employed     43170 non-null  object \n",
      " 18  y               43170 non-null  object \n",
      " 19  month_day_week  43170 non-null  object \n",
      "dtypes: float64(4), int64(5), object(11)\n",
      "memory usage: 6.9+ MB\n"
     ]
    }
   ],
   "source": [
    "df.info()"
   ]
  },
  {
   "cell_type": "code",
   "execution_count": 38,
   "metadata": {},
   "outputs": [
    {
     "data": {
      "text/html": [
       "<div>\n",
       "<style scoped>\n",
       "    .dataframe tbody tr th:only-of-type {\n",
       "        vertical-align: middle;\n",
       "    }\n",
       "\n",
       "    .dataframe tbody tr th {\n",
       "        vertical-align: top;\n",
       "    }\n",
       "\n",
       "    .dataframe thead th {\n",
       "        text-align: right;\n",
       "    }\n",
       "</style>\n",
       "<table border=\"1\" class=\"dataframe\">\n",
       "  <thead>\n",
       "    <tr style=\"text-align: right;\">\n",
       "      <th></th>\n",
       "      <th>count</th>\n",
       "      <th>mean</th>\n",
       "      <th>std</th>\n",
       "      <th>min</th>\n",
       "      <th>25%</th>\n",
       "      <th>50%</th>\n",
       "      <th>75%</th>\n",
       "      <th>max</th>\n",
       "    </tr>\n",
       "  </thead>\n",
       "  <tbody>\n",
       "    <tr>\n",
       "      <th>age</th>\n",
       "      <td>43170.0</td>\n",
       "      <td>40.014918</td>\n",
       "      <td>10.407327</td>\n",
       "      <td>17.0</td>\n",
       "      <td>32.0</td>\n",
       "      <td>38.0</td>\n",
       "      <td>47.0</td>\n",
       "      <td>98.0</td>\n",
       "    </tr>\n",
       "    <tr>\n",
       "      <th>default</th>\n",
       "      <td>34154.0</td>\n",
       "      <td>0.000088</td>\n",
       "      <td>0.009372</td>\n",
       "      <td>0.0</td>\n",
       "      <td>0.0</td>\n",
       "      <td>0.0</td>\n",
       "      <td>0.0</td>\n",
       "      <td>1.0</td>\n",
       "    </tr>\n",
       "    <tr>\n",
       "      <th>housing</th>\n",
       "      <td>42139.0</td>\n",
       "      <td>0.535869</td>\n",
       "      <td>0.498718</td>\n",
       "      <td>0.0</td>\n",
       "      <td>0.0</td>\n",
       "      <td>1.0</td>\n",
       "      <td>1.0</td>\n",
       "      <td>1.0</td>\n",
       "    </tr>\n",
       "    <tr>\n",
       "      <th>loan</th>\n",
       "      <td>42139.0</td>\n",
       "      <td>0.155652</td>\n",
       "      <td>0.362529</td>\n",
       "      <td>0.0</td>\n",
       "      <td>0.0</td>\n",
       "      <td>0.0</td>\n",
       "      <td>0.0</td>\n",
       "      <td>1.0</td>\n",
       "    </tr>\n",
       "    <tr>\n",
       "      <th>duration</th>\n",
       "      <td>43170.0</td>\n",
       "      <td>257.883739</td>\n",
       "      <td>259.393738</td>\n",
       "      <td>0.0</td>\n",
       "      <td>102.0</td>\n",
       "      <td>179.0</td>\n",
       "      <td>319.0</td>\n",
       "      <td>4918.0</td>\n",
       "    </tr>\n",
       "    <tr>\n",
       "      <th>campaign</th>\n",
       "      <td>43170.0</td>\n",
       "      <td>2.564675</td>\n",
       "      <td>2.768538</td>\n",
       "      <td>1.0</td>\n",
       "      <td>1.0</td>\n",
       "      <td>2.0</td>\n",
       "      <td>3.0</td>\n",
       "      <td>56.0</td>\n",
       "    </tr>\n",
       "    <tr>\n",
       "      <th>pdays</th>\n",
       "      <td>43170.0</td>\n",
       "      <td>962.452282</td>\n",
       "      <td>186.962379</td>\n",
       "      <td>0.0</td>\n",
       "      <td>999.0</td>\n",
       "      <td>999.0</td>\n",
       "      <td>999.0</td>\n",
       "      <td>999.0</td>\n",
       "    </tr>\n",
       "    <tr>\n",
       "      <th>previous</th>\n",
       "      <td>43170.0</td>\n",
       "      <td>0.173639</td>\n",
       "      <td>0.496750</td>\n",
       "      <td>0.0</td>\n",
       "      <td>0.0</td>\n",
       "      <td>0.0</td>\n",
       "      <td>0.0</td>\n",
       "      <td>7.0</td>\n",
       "    </tr>\n",
       "    <tr>\n",
       "      <th>emp.var.rate</th>\n",
       "      <td>43170.0</td>\n",
       "      <td>0.078177</td>\n",
       "      <td>1.572217</td>\n",
       "      <td>-3.4</td>\n",
       "      <td>-1.8</td>\n",
       "      <td>1.1</td>\n",
       "      <td>1.4</td>\n",
       "      <td>1.4</td>\n",
       "    </tr>\n",
       "  </tbody>\n",
       "</table>\n",
       "</div>"
      ],
      "text/plain": [
       "                count        mean         std   min    25%    50%    75%  \\\n",
       "age           43170.0   40.014918   10.407327  17.0   32.0   38.0   47.0   \n",
       "default       34154.0    0.000088    0.009372   0.0    0.0    0.0    0.0   \n",
       "housing       42139.0    0.535869    0.498718   0.0    0.0    1.0    1.0   \n",
       "loan          42139.0    0.155652    0.362529   0.0    0.0    0.0    0.0   \n",
       "duration      43170.0  257.883739  259.393738   0.0  102.0  179.0  319.0   \n",
       "campaign      43170.0    2.564675    2.768538   1.0    1.0    2.0    3.0   \n",
       "pdays         43170.0  962.452282  186.962379   0.0  999.0  999.0  999.0   \n",
       "previous      43170.0    0.173639    0.496750   0.0    0.0    0.0    0.0   \n",
       "emp.var.rate  43170.0    0.078177    1.572217  -3.4   -1.8    1.1    1.4   \n",
       "\n",
       "                 max  \n",
       "age             98.0  \n",
       "default          1.0  \n",
       "housing          1.0  \n",
       "loan             1.0  \n",
       "duration      4918.0  \n",
       "campaign        56.0  \n",
       "pdays          999.0  \n",
       "previous         7.0  \n",
       "emp.var.rate     1.4  "
      ]
     },
     "execution_count": 38,
     "metadata": {},
     "output_type": "execute_result"
    }
   ],
   "source": [
    "df.describe().T"
   ]
  },
  {
   "cell_type": "code",
   "execution_count": 39,
   "metadata": {},
   "outputs": [
    {
     "name": "stderr",
     "output_type": "stream",
     "text": [
      "/home/paloma/anaconda3/lib/python3.9/site-packages/seaborn/_decorators.py:36: FutureWarning: Pass the following variable as a keyword arg: x. From version 0.12, the only valid positional argument will be `data`, and passing other arguments without an explicit keyword will result in an error or misinterpretation.\n",
      "  warnings.warn(\n"
     ]
    },
    {
     "data": {
      "text/plain": [
       "<AxesSubplot:xlabel='campaign'>"
      ]
     },
     "execution_count": 39,
     "metadata": {},
     "output_type": "execute_result"
    },
    {
     "data": {
      "image/png": "[encoded data removed]",
      "text/plain": [
       "<Figure size 432x288 with 1 Axes>"
      ]
     },
     "metadata": {
      "needs_background": "light"
     },
     "output_type": "display_data"
    }
   ],
   "source": [
    "sns.boxplot(df[\"campaign\"])"
   ]
  },
  {
   "cell_type": "code",
   "execution_count": 40,
   "metadata": {},
   "outputs": [
    {
     "name": "stderr",
     "output_type": "stream",
     "text": [
      "/home/paloma/anaconda3/lib/python3.9/site-packages/seaborn/_decorators.py:36: FutureWarning: Pass the following variable as a keyword arg: x. From version 0.12, the only valid positional argument will be `data`, and passing other arguments without an explicit keyword will result in an error or misinterpretation.\n",
      "  warnings.warn(\n"
     ]
    },
    {
     "data": {
      "text/plain": [
       "<AxesSubplot:xlabel='pdays'>"
      ]
     },
     "execution_count": 40,
     "metadata": {},
     "output_type": "execute_result"
    },
    {
     "data": {
      "image/png": "[encoded data removed]",
      "text/plain": [
       "<Figure size 432x288 with 1 Axes>"
      ]
     },
     "metadata": {
      "needs_background": "light"
     },
     "output_type": "display_data"
    }
   ],
   "source": [
    "sns.boxplot(df[\"pdays\"])"
   ]
  },
  {
   "cell_type": "code",
   "execution_count": 41,
   "metadata": {},
   "outputs": [
    {
     "data": {
      "text/html": [
       "<div>\n",
       "<style scoped>\n",
       "    .dataframe tbody tr th:only-of-type {\n",
       "        vertical-align: middle;\n",
       "    }\n",
       "\n",
       "    .dataframe tbody tr th {\n",
       "        vertical-align: top;\n",
       "    }\n",
       "\n",
       "    .dataframe thead th {\n",
       "        text-align: right;\n",
       "    }\n",
       "</style>\n",
       "<table border=\"1\" class=\"dataframe\">\n",
       "  <thead>\n",
       "    <tr style=\"text-align: right;\">\n",
       "      <th></th>\n",
       "      <th>count</th>\n",
       "      <th>unique</th>\n",
       "      <th>top</th>\n",
       "      <th>freq</th>\n",
       "    </tr>\n",
       "  </thead>\n",
       "  <tbody>\n",
       "    <tr>\n",
       "      <th>job</th>\n",
       "      <td>42823</td>\n",
       "      <td>11</td>\n",
       "      <td>admin.</td>\n",
       "      <td>10918</td>\n",
       "    </tr>\n",
       "    <tr>\n",
       "      <th>marital</th>\n",
       "      <td>43085</td>\n",
       "      <td>3</td>\n",
       "      <td>MARRIED</td>\n",
       "      <td>26105</td>\n",
       "    </tr>\n",
       "    <tr>\n",
       "      <th>education</th>\n",
       "      <td>41355</td>\n",
       "      <td>7</td>\n",
       "      <td>university.degree</td>\n",
       "      <td>12766</td>\n",
       "    </tr>\n",
       "    <tr>\n",
       "      <th>contact</th>\n",
       "      <td>43170</td>\n",
       "      <td>2</td>\n",
       "      <td>cellular</td>\n",
       "      <td>27438</td>\n",
       "    </tr>\n",
       "    <tr>\n",
       "      <th>poutcome</th>\n",
       "      <td>43170</td>\n",
       "      <td>3</td>\n",
       "      <td>NONEXISTENT</td>\n",
       "      <td>37261</td>\n",
       "    </tr>\n",
       "    <tr>\n",
       "      <th>cons.price.idx</th>\n",
       "      <td>43170</td>\n",
       "      <td>26</td>\n",
       "      <td>93,994</td>\n",
       "      <td>8117</td>\n",
       "    </tr>\n",
       "    <tr>\n",
       "      <th>cons.conf.idx</th>\n",
       "      <td>43170</td>\n",
       "      <td>26</td>\n",
       "      <td>-36,4</td>\n",
       "      <td>8117</td>\n",
       "    </tr>\n",
       "    <tr>\n",
       "      <th>euribor3m</th>\n",
       "      <td>43170</td>\n",
       "      <td>316</td>\n",
       "      <td>4,857</td>\n",
       "      <td>3002</td>\n",
       "    </tr>\n",
       "    <tr>\n",
       "      <th>nr.employed</th>\n",
       "      <td>43170</td>\n",
       "      <td>11</td>\n",
       "      <td>5228,1</td>\n",
       "      <td>16981</td>\n",
       "    </tr>\n",
       "    <tr>\n",
       "      <th>y</th>\n",
       "      <td>43170</td>\n",
       "      <td>2</td>\n",
       "      <td>no</td>\n",
       "      <td>38308</td>\n",
       "    </tr>\n",
       "    <tr>\n",
       "      <th>month_day_week</th>\n",
       "      <td>43170</td>\n",
       "      <td>50</td>\n",
       "      <td>['may', 'wed']</td>\n",
       "      <td>3039</td>\n",
       "    </tr>\n",
       "  </tbody>\n",
       "</table>\n",
       "</div>"
      ],
      "text/plain": [
       "                count unique                top   freq\n",
       "job             42823     11             admin.  10918\n",
       "marital         43085      3            MARRIED  26105\n",
       "education       41355      7  university.degree  12766\n",
       "contact         43170      2           cellular  27438\n",
       "poutcome        43170      3        NONEXISTENT  37261\n",
       "cons.price.idx  43170     26             93,994   8117\n",
       "cons.conf.idx   43170     26              -36,4   8117\n",
       "euribor3m       43170    316              4,857   3002\n",
       "nr.employed     43170     11             5228,1  16981\n",
       "y               43170      2                 no  38308\n",
       "month_day_week  43170     50     ['may', 'wed']   3039"
      ]
     },
     "execution_count": 41,
     "metadata": {},
     "output_type": "execute_result"
    }
   ],
   "source": [
    "df.describe(include = [\"O\"]).T"
   ]
  },
  {
   "cell_type": "code",
   "execution_count": 42,
   "metadata": {},
   "outputs": [
    {
     "data": {
      "text/plain": [
       "age                0.000000\n",
       "job                0.803799\n",
       "marital            0.196896\n",
       "education          4.204309\n",
       "default           20.884874\n",
       "housing            2.388233\n",
       "loan               2.388233\n",
       "contact            0.000000\n",
       "duration           0.000000\n",
       "campaign           0.000000\n",
       "pdays              0.000000\n",
       "previous           0.000000\n",
       "poutcome           0.000000\n",
       "emp.var.rate       0.000000\n",
       "cons.price.idx     0.000000\n",
       "cons.conf.idx      0.000000\n",
       "euribor3m          0.000000\n",
       "nr.employed        0.000000\n",
       "y                  0.000000\n",
       "month_day_week     0.000000\n",
       "dtype: float64"
      ]
     },
     "execution_count": 42,
     "metadata": {},
     "output_type": "execute_result"
    }
   ],
   "source": [
    "df.isnull().sum()/df.shape[0]*100"
   ]
  },
  {
   "cell_type": "code",
   "execution_count": 43,
   "metadata": {},
   "outputs": [
    {
     "data": {
      "text/plain": [
       "1994"
      ]
     },
     "execution_count": 43,
     "metadata": {},
     "output_type": "execute_result"
    }
   ],
   "source": [
    "df.duplicated().sum()"
   ]
  },
  {
   "cell_type": "code",
   "execution_count": 44,
   "metadata": {},
   "outputs": [],
   "source": [
    "df_clean = df.drop_duplicates()"
   ]
  },
  {
   "cell_type": "code",
   "execution_count": 45,
   "metadata": {},
   "outputs": [
    {
     "data": {
      "text/plain": [
       "0"
      ]
     },
     "execution_count": 45,
     "metadata": {},
     "output_type": "execute_result"
    }
   ],
   "source": [
    "df_clean.duplicated().sum()"
   ]
  },
  {
   "attachments": {},
   "cell_type": "markdown",
   "metadata": {},
   "source": [
    "\n",
    "Cambia el nombre de las columnas para que no tengan puntos en el nombre. En concreto, reemplazad los \".\" por comas."
   ]
  },
  {
   "cell_type": "code",
   "execution_count": 46,
   "metadata": {},
   "outputs": [
    {
     "name": "stderr",
     "output_type": "stream",
     "text": [
      "/home/paloma/anaconda3/lib/python3.9/site-packages/pandas/core/frame.py:5039: SettingWithCopyWarning: \n",
      "A value is trying to be set on a copy of a slice from a DataFrame\n",
      "\n",
      "See the caveats in the documentation: https://pandas.pydata.org/pandas-docs/stable/user_guide/indexing.html#returning-a-view-versus-a-copy\n",
      "  return super().rename(\n"
     ]
    }
   ],
   "source": [
    "new_columns = {col:col.replace(\".\", \",\") for col in df_clean.columns}\n",
    "df_clean.rename(columns = new_columns, inplace = True)"
   ]
  },
  {
   "cell_type": "code",
   "execution_count": 47,
   "metadata": {},
   "outputs": [
    {
     "data": {
      "text/html": [
       "<div>\n",
       "<style scoped>\n",
       "    .dataframe tbody tr th:only-of-type {\n",
       "        vertical-align: middle;\n",
       "    }\n",
       "\n",
       "    .dataframe tbody tr th {\n",
       "        vertical-align: top;\n",
       "    }\n",
       "\n",
       "    .dataframe thead th {\n",
       "        text-align: right;\n",
       "    }\n",
       "</style>\n",
       "<table border=\"1\" class=\"dataframe\">\n",
       "  <thead>\n",
       "    <tr style=\"text-align: right;\">\n",
       "      <th></th>\n",
       "      <th>age</th>\n",
       "      <th>job</th>\n",
       "      <th>marital</th>\n",
       "      <th>education</th>\n",
       "      <th>default</th>\n",
       "      <th>housing</th>\n",
       "      <th>loan</th>\n",
       "      <th>contact</th>\n",
       "      <th>duration</th>\n",
       "      <th>campaign</th>\n",
       "      <th>pdays</th>\n",
       "      <th>previous</th>\n",
       "      <th>poutcome</th>\n",
       "      <th>emp,var,rate</th>\n",
       "      <th>cons,price,idx</th>\n",
       "      <th>cons,conf,idx</th>\n",
       "      <th>euribor3m</th>\n",
       "      <th>nr,employed</th>\n",
       "      <th>y</th>\n",
       "      <th>month_day_week</th>\n",
       "    </tr>\n",
       "  </thead>\n",
       "  <tbody>\n",
       "    <tr>\n",
       "      <th>9876</th>\n",
       "      <td>52</td>\n",
       "      <td>technician</td>\n",
       "      <td>MARRIED</td>\n",
       "      <td>high.school</td>\n",
       "      <td>0.0</td>\n",
       "      <td>0.0</td>\n",
       "      <td>0.0</td>\n",
       "      <td>telephone</td>\n",
       "      <td>241</td>\n",
       "      <td>1</td>\n",
       "      <td>999</td>\n",
       "      <td>0</td>\n",
       "      <td>NONEXISTENT</td>\n",
       "      <td>1.4</td>\n",
       "      <td>94,465</td>\n",
       "      <td>-41,8</td>\n",
       "      <td>4,959</td>\n",
       "      <td>5228,1</td>\n",
       "      <td>no</td>\n",
       "      <td>['jun', 'wed']</td>\n",
       "    </tr>\n",
       "    <tr>\n",
       "      <th>15689</th>\n",
       "      <td>37</td>\n",
       "      <td>blue-collar</td>\n",
       "      <td>SINGLE</td>\n",
       "      <td>basic.6y</td>\n",
       "      <td>NaN</td>\n",
       "      <td>0.0</td>\n",
       "      <td>0.0</td>\n",
       "      <td>telephone</td>\n",
       "      <td>37</td>\n",
       "      <td>1</td>\n",
       "      <td>999</td>\n",
       "      <td>0</td>\n",
       "      <td>NONEXISTENT</td>\n",
       "      <td>1.4</td>\n",
       "      <td>93,918</td>\n",
       "      <td>-42,7</td>\n",
       "      <td>4,96</td>\n",
       "      <td>5228,1</td>\n",
       "      <td>no</td>\n",
       "      <td>['jul', 'mon']</td>\n",
       "    </tr>\n",
       "  </tbody>\n",
       "</table>\n",
       "</div>"
      ],
      "text/plain": [
       "       age          job  marital    education  default  housing  loan  \\\n",
       "9876    52   technician  MARRIED  high.school      0.0      0.0   0.0   \n",
       "15689   37  blue-collar   SINGLE     basic.6y      NaN      0.0   0.0   \n",
       "\n",
       "         contact  duration  campaign  pdays  previous     poutcome  \\\n",
       "9876   telephone       241         1    999         0  NONEXISTENT   \n",
       "15689  telephone        37         1    999         0  NONEXISTENT   \n",
       "\n",
       "       emp,var,rate cons,price,idx cons,conf,idx euribor3m nr,employed   y  \\\n",
       "9876            1.4         94,465         -41,8     4,959      5228,1  no   \n",
       "15689           1.4         93,918         -42,7      4,96      5228,1  no   \n",
       "\n",
       "       month_day_week  \n",
       "9876   ['jun', 'wed']  \n",
       "15689  ['jul', 'mon']  "
      ]
     },
     "execution_count": 47,
     "metadata": {},
     "output_type": "execute_result"
    }
   ],
   "source": [
    "df_clean.sample(2)"
   ]
  },
  {
   "attachments": {},
   "cell_type": "markdown",
   "metadata": {},
   "source": [
    "¿Hay valores duplicados en nuestro dataframe? En caso de que los haya, eliminándlos."
   ]
  },
  {
   "attachments": {},
   "cell_type": "markdown",
   "metadata": {},
   "source": [
    "Como hemos visto, algunas columnas no tienen el tipo de datos que deberían. Cambiad el tipo de dato para las columnas de cons.price.idx, cons.conf.idx, euribor3m, nr.employed."
   ]
  },
  {
   "cell_type": "code",
   "execution_count": 48,
   "metadata": {},
   "outputs": [],
   "source": [
    "def str_to_float(col):\n",
    "    try:\n",
    "        return float(col.replace(\",\", \".\"))\n",
    "    except:\n",
    "        return col"
   ]
  },
  {
   "cell_type": "code",
   "execution_count": 49,
   "metadata": {},
   "outputs": [
    {
     "name": "stderr",
     "output_type": "stream",
     "text": [
      "/tmp/ipykernel_519/2340934495.py:2: SettingWithCopyWarning: \n",
      "A value is trying to be set on a copy of a slice from a DataFrame.\n",
      "Try using .loc[row_indexer,col_indexer] = value instead\n",
      "\n",
      "See the caveats in the documentation: https://pandas.pydata.org/pandas-docs/stable/user_guide/indexing.html#returning-a-view-versus-a-copy\n",
      "  df_clean[col]= df_clean[col].apply(str_to_float)\n"
     ]
    }
   ],
   "source": [
    "for col in [\"cons,price,idx\", \"cons,conf,idx\", \"euribor3m\", \"nr,employed\"]:\n",
    "    df_clean[col]= df_clean[col].apply(str_to_float)\n"
   ]
  },
  {
   "cell_type": "code",
   "execution_count": 50,
   "metadata": {},
   "outputs": [
    {
     "data": {
      "text/plain": [
       "age                 int64\n",
       "job                object\n",
       "marital            object\n",
       "education          object\n",
       "default           float64\n",
       "housing           float64\n",
       "loan              float64\n",
       "contact            object\n",
       "duration            int64\n",
       "campaign            int64\n",
       "pdays               int64\n",
       "previous            int64\n",
       "poutcome           object\n",
       "emp,var,rate      float64\n",
       "cons,price,idx    float64\n",
       "cons,conf,idx     float64\n",
       "euribor3m         float64\n",
       "nr,employed       float64\n",
       "y                  object\n",
       "month_day_week     object\n",
       "dtype: object"
      ]
     },
     "execution_count": 50,
     "metadata": {},
     "output_type": "execute_result"
    }
   ],
   "source": [
    "df_clean.dtypes"
   ]
  },
  {
   "attachments": {},
   "cell_type": "markdown",
   "metadata": {},
   "source": [
    "En las columnas de marital y month, poner todos los valores en minúsculas.\n",
    "💡 Pista Podréis usar una función o una lambda."
   ]
  },
  {
   "cell_type": "code",
   "execution_count": 51,
   "metadata": {},
   "outputs": [
    {
     "data": {
      "text/plain": [
       "Index(['age', 'job', 'marital', 'education', 'default', 'housing', 'loan',\n",
       "       'contact', 'duration', 'campaign', 'pdays', 'previous', 'poutcome',\n",
       "       'emp,var,rate', 'cons,price,idx', 'cons,conf,idx', 'euribor3m',\n",
       "       'nr,employed', 'y', 'month_day_week'],\n",
       "      dtype='object')"
      ]
     },
     "execution_count": 51,
     "metadata": {},
     "output_type": "execute_result"
    }
   ],
   "source": [
    "df_clean.columns"
   ]
  },
  {
   "cell_type": "code",
   "execution_count": 52,
   "metadata": {},
   "outputs": [
    {
     "data": {
      "text/html": [
       "<div>\n",
       "<style scoped>\n",
       "    .dataframe tbody tr th:only-of-type {\n",
       "        vertical-align: middle;\n",
       "    }\n",
       "\n",
       "    .dataframe tbody tr th {\n",
       "        vertical-align: top;\n",
       "    }\n",
       "\n",
       "    .dataframe thead th {\n",
       "        text-align: right;\n",
       "    }\n",
       "</style>\n",
       "<table border=\"1\" class=\"dataframe\">\n",
       "  <thead>\n",
       "    <tr style=\"text-align: right;\">\n",
       "      <th></th>\n",
       "      <th>age</th>\n",
       "      <th>job</th>\n",
       "      <th>marital</th>\n",
       "      <th>education</th>\n",
       "      <th>default</th>\n",
       "      <th>housing</th>\n",
       "      <th>loan</th>\n",
       "      <th>contact</th>\n",
       "      <th>duration</th>\n",
       "      <th>campaign</th>\n",
       "      <th>pdays</th>\n",
       "      <th>previous</th>\n",
       "      <th>poutcome</th>\n",
       "      <th>emp,var,rate</th>\n",
       "      <th>cons,price,idx</th>\n",
       "      <th>cons,conf,idx</th>\n",
       "      <th>euribor3m</th>\n",
       "      <th>nr,employed</th>\n",
       "      <th>y</th>\n",
       "      <th>month_day_week</th>\n",
       "    </tr>\n",
       "  </thead>\n",
       "  <tbody>\n",
       "    <tr>\n",
       "      <th>15722</th>\n",
       "      <td>34</td>\n",
       "      <td>blue-collar</td>\n",
       "      <td>MARRIED</td>\n",
       "      <td>high.school</td>\n",
       "      <td>0.0</td>\n",
       "      <td>0.0</td>\n",
       "      <td>1.0</td>\n",
       "      <td>cellular</td>\n",
       "      <td>177</td>\n",
       "      <td>1</td>\n",
       "      <td>999</td>\n",
       "      <td>0</td>\n",
       "      <td>NONEXISTENT</td>\n",
       "      <td>1.4</td>\n",
       "      <td>93.918</td>\n",
       "      <td>-42.7</td>\n",
       "      <td>4.960</td>\n",
       "      <td>5228.1</td>\n",
       "      <td>no</td>\n",
       "      <td>['jul', 'mon']</td>\n",
       "    </tr>\n",
       "    <tr>\n",
       "      <th>29944</th>\n",
       "      <td>27</td>\n",
       "      <td>management</td>\n",
       "      <td>SINGLE</td>\n",
       "      <td>university.degree</td>\n",
       "      <td>0.0</td>\n",
       "      <td>1.0</td>\n",
       "      <td>1.0</td>\n",
       "      <td>cellular</td>\n",
       "      <td>21</td>\n",
       "      <td>4</td>\n",
       "      <td>999</td>\n",
       "      <td>1</td>\n",
       "      <td>FAILURE</td>\n",
       "      <td>-1.8</td>\n",
       "      <td>93.075</td>\n",
       "      <td>-47.1</td>\n",
       "      <td>1.405</td>\n",
       "      <td>5099.1</td>\n",
       "      <td>no</td>\n",
       "      <td>['apr', 'mon']</td>\n",
       "    </tr>\n",
       "    <tr>\n",
       "      <th>27840</th>\n",
       "      <td>30</td>\n",
       "      <td>admin.</td>\n",
       "      <td>MARRIED</td>\n",
       "      <td>university.degree</td>\n",
       "      <td>0.0</td>\n",
       "      <td>NaN</td>\n",
       "      <td>NaN</td>\n",
       "      <td>cellular</td>\n",
       "      <td>291</td>\n",
       "      <td>3</td>\n",
       "      <td>8</td>\n",
       "      <td>1</td>\n",
       "      <td>SUCCESS</td>\n",
       "      <td>-1.8</td>\n",
       "      <td>92.843</td>\n",
       "      <td>-50.0</td>\n",
       "      <td>1.629</td>\n",
       "      <td>5099.1</td>\n",
       "      <td>no</td>\n",
       "      <td>['mar', 'mon']</td>\n",
       "    </tr>\n",
       "  </tbody>\n",
       "</table>\n",
       "</div>"
      ],
      "text/plain": [
       "       age          job  marital          education  default  housing  loan  \\\n",
       "15722   34  blue-collar  MARRIED        high.school      0.0      0.0   1.0   \n",
       "29944   27   management   SINGLE  university.degree      0.0      1.0   1.0   \n",
       "27840   30       admin.  MARRIED  university.degree      0.0      NaN   NaN   \n",
       "\n",
       "        contact  duration  campaign  pdays  previous     poutcome  \\\n",
       "15722  cellular       177         1    999         0  NONEXISTENT   \n",
       "29944  cellular        21         4    999         1      FAILURE   \n",
       "27840  cellular       291         3      8         1      SUCCESS   \n",
       "\n",
       "       emp,var,rate  cons,price,idx  cons,conf,idx  euribor3m  nr,employed  \\\n",
       "15722           1.4          93.918          -42.7      4.960       5228.1   \n",
       "29944          -1.8          93.075          -47.1      1.405       5099.1   \n",
       "27840          -1.8          92.843          -50.0      1.629       5099.1   \n",
       "\n",
       "        y  month_day_week  \n",
       "15722  no  ['jul', 'mon']  \n",
       "29944  no  ['apr', 'mon']  \n",
       "27840  no  ['mar', 'mon']  "
      ]
     },
     "execution_count": 52,
     "metadata": {},
     "output_type": "execute_result"
    }
   ],
   "source": [
    "df_clean.sample(3)"
   ]
  },
  {
   "cell_type": "code",
   "execution_count": 53,
   "metadata": {},
   "outputs": [
    {
     "data": {
      "text/plain": [
       "marital     object\n",
       "poutcome    object\n",
       "dtype: object"
      ]
     },
     "execution_count": 53,
     "metadata": {},
     "output_type": "execute_result"
    }
   ],
   "source": [
    "#vamos a modificar las dos columnas que sí están en mayúsculas\n",
    "df_clean[[\"marital\", \"poutcome\"]].dtypes"
   ]
  },
  {
   "cell_type": "code",
   "execution_count": 54,
   "metadata": {},
   "outputs": [],
   "source": [
    "def minus(col):\n",
    "    try:\n",
    "        return col.lower()\n",
    "    except:\n",
    "        return col"
   ]
  },
  {
   "cell_type": "code",
   "execution_count": 55,
   "metadata": {},
   "outputs": [
    {
     "name": "stderr",
     "output_type": "stream",
     "text": [
      "/tmp/ipykernel_519/4287564966.py:1: SettingWithCopyWarning: \n",
      "A value is trying to be set on a copy of a slice from a DataFrame.\n",
      "Try using .loc[row_indexer,col_indexer] = value instead\n",
      "\n",
      "See the caveats in the documentation: https://pandas.pydata.org/pandas-docs/stable/user_guide/indexing.html#returning-a-view-versus-a-copy\n",
      "  df_clean[\"marital\"] = df_clean[\"marital\"].apply(minus)\n",
      "/tmp/ipykernel_519/4287564966.py:2: SettingWithCopyWarning: \n",
      "A value is trying to be set on a copy of a slice from a DataFrame.\n",
      "Try using .loc[row_indexer,col_indexer] = value instead\n",
      "\n",
      "See the caveats in the documentation: https://pandas.pydata.org/pandas-docs/stable/user_guide/indexing.html#returning-a-view-versus-a-copy\n",
      "  df_clean[\"poutcome\"] = df_clean[\"poutcome\"].apply(minus)\n"
     ]
    }
   ],
   "source": [
    "df_clean[\"marital\"] = df_clean[\"marital\"].apply(minus)\n",
    "df_clean[\"poutcome\"] = df_clean[\"poutcome\"].apply(minus)"
   ]
  },
  {
   "cell_type": "code",
   "execution_count": 56,
   "metadata": {},
   "outputs": [
    {
     "data": {
      "text/html": [
       "<div>\n",
       "<style scoped>\n",
       "    .dataframe tbody tr th:only-of-type {\n",
       "        vertical-align: middle;\n",
       "    }\n",
       "\n",
       "    .dataframe tbody tr th {\n",
       "        vertical-align: top;\n",
       "    }\n",
       "\n",
       "    .dataframe thead th {\n",
       "        text-align: right;\n",
       "    }\n",
       "</style>\n",
       "<table border=\"1\" class=\"dataframe\">\n",
       "  <thead>\n",
       "    <tr style=\"text-align: right;\">\n",
       "      <th></th>\n",
       "      <th>age</th>\n",
       "      <th>job</th>\n",
       "      <th>marital</th>\n",
       "      <th>education</th>\n",
       "      <th>default</th>\n",
       "      <th>housing</th>\n",
       "      <th>loan</th>\n",
       "      <th>contact</th>\n",
       "      <th>duration</th>\n",
       "      <th>campaign</th>\n",
       "      <th>pdays</th>\n",
       "      <th>previous</th>\n",
       "      <th>poutcome</th>\n",
       "      <th>emp,var,rate</th>\n",
       "      <th>cons,price,idx</th>\n",
       "      <th>cons,conf,idx</th>\n",
       "      <th>euribor3m</th>\n",
       "      <th>nr,employed</th>\n",
       "      <th>y</th>\n",
       "      <th>month_day_week</th>\n",
       "    </tr>\n",
       "  </thead>\n",
       "  <tbody>\n",
       "    <tr>\n",
       "      <th>28563</th>\n",
       "      <td>41</td>\n",
       "      <td>services</td>\n",
       "      <td>single</td>\n",
       "      <td>high.school</td>\n",
       "      <td>0.0</td>\n",
       "      <td>0.0</td>\n",
       "      <td>0.0</td>\n",
       "      <td>cellular</td>\n",
       "      <td>134</td>\n",
       "      <td>1</td>\n",
       "      <td>999</td>\n",
       "      <td>0</td>\n",
       "      <td>nonexistent</td>\n",
       "      <td>-1.8</td>\n",
       "      <td>93.075</td>\n",
       "      <td>-47.1</td>\n",
       "      <td>1.415</td>\n",
       "      <td>5099.1</td>\n",
       "      <td>no</td>\n",
       "      <td>['apr', 'wed']</td>\n",
       "    </tr>\n",
       "    <tr>\n",
       "      <th>15091</th>\n",
       "      <td>50</td>\n",
       "      <td>blue-collar</td>\n",
       "      <td>married</td>\n",
       "      <td>NaN</td>\n",
       "      <td>NaN</td>\n",
       "      <td>1.0</td>\n",
       "      <td>0.0</td>\n",
       "      <td>cellular</td>\n",
       "      <td>224</td>\n",
       "      <td>1</td>\n",
       "      <td>999</td>\n",
       "      <td>0</td>\n",
       "      <td>nonexistent</td>\n",
       "      <td>1.4</td>\n",
       "      <td>93.918</td>\n",
       "      <td>-42.7</td>\n",
       "      <td>4.958</td>\n",
       "      <td>5228.1</td>\n",
       "      <td>no</td>\n",
       "      <td>['jul', 'thu']</td>\n",
       "    </tr>\n",
       "  </tbody>\n",
       "</table>\n",
       "</div>"
      ],
      "text/plain": [
       "       age          job  marital    education  default  housing  loan  \\\n",
       "28563   41     services   single  high.school      0.0      0.0   0.0   \n",
       "15091   50  blue-collar  married          NaN      NaN      1.0   0.0   \n",
       "\n",
       "        contact  duration  campaign  pdays  previous     poutcome  \\\n",
       "28563  cellular       134         1    999         0  nonexistent   \n",
       "15091  cellular       224         1    999         0  nonexistent   \n",
       "\n",
       "       emp,var,rate  cons,price,idx  cons,conf,idx  euribor3m  nr,employed  \\\n",
       "28563          -1.8          93.075          -47.1      1.415       5099.1   \n",
       "15091           1.4          93.918          -42.7      4.958       5228.1   \n",
       "\n",
       "        y  month_day_week  \n",
       "28563  no  ['apr', 'wed']  \n",
       "15091  no  ['jul', 'thu']  "
      ]
     },
     "execution_count": 56,
     "metadata": {},
     "output_type": "execute_result"
    }
   ],
   "source": [
    "df_clean.sample(2)"
   ]
  },
  {
   "cell_type": "code",
   "execution_count": 58,
   "metadata": {},
   "outputs": [],
   "source": [
    "# Esto no funciona // revisar\n",
    "# df_clean= df_clean.apply(lambda new : minus(new(df_clean[\"marital\"]), new(df_clean[\"poutcome\"]), axis=1))"
   ]
  },
  {
   "cell_type": "code",
   "execution_count": 59,
   "metadata": {},
   "outputs": [],
   "source": [
    "# esto tampoco funciona\n",
    "# df_clean [[\"marital\", \"poutcome\"]] = df_clean.apply(lambda new : col.lower() (new[\"marital\"], new[\"poutcome\"], np.nan), axis = 1)"
   ]
  },
  {
   "attachments": {},
   "cell_type": "markdown",
   "metadata": {},
   "source": [
    "Para no olvidarnos de la visualización. A través de la visualización, podemos detectar errores, valores atípicos, valores faltantes y otros problemas comunes en los datos que de otra manera podrían ser difíciles de identificar. Para esto vamos a hacer una serie de gráficas que deberán ser incluidas en un subplot. Estas gráficas tienen que ser:\n",
    "Una gráfica donde podamos ver si el tipo de trabajo afecta a que un cliente acepte la oferta.\n",
    "Una gráfica donde podamos ver si el hecho de que un cliente tenga una hipoteca afecta a que acepte la oferta.\n",
    "Una gráfica donde podamos ver si el hecho de que un cliente tenga un prestamo afecta a que acepte la oferta.\n",
    "Una gráfica donde podamos ver si hay una relación entre el numero de días desde el último contacto afecta a que un cliente acepte la oferta\n",
    "Una gráfica donde podamos ver si hay relación entre el resultado de la campaña anterior y si el cliente afecta a que el cliente acepte la oferta.\n",
    "\n"
   ]
  },
  {
   "cell_type": "code",
   "execution_count": 69,
   "metadata": {},
   "outputs": [
    {
     "data": {
      "text/html": [
       "<div>\n",
       "<style scoped>\n",
       "    .dataframe tbody tr th:only-of-type {\n",
       "        vertical-align: middle;\n",
       "    }\n",
       "\n",
       "    .dataframe tbody tr th {\n",
       "        vertical-align: top;\n",
       "    }\n",
       "\n",
       "    .dataframe thead th {\n",
       "        text-align: right;\n",
       "    }\n",
       "</style>\n",
       "<table border=\"1\" class=\"dataframe\">\n",
       "  <thead>\n",
       "    <tr style=\"text-align: right;\">\n",
       "      <th></th>\n",
       "      <th>age</th>\n",
       "      <th>job</th>\n",
       "      <th>marital</th>\n",
       "      <th>education</th>\n",
       "      <th>default</th>\n",
       "      <th>housing</th>\n",
       "      <th>loan</th>\n",
       "      <th>contact</th>\n",
       "      <th>duration</th>\n",
       "      <th>campaign</th>\n",
       "      <th>pdays</th>\n",
       "      <th>previous</th>\n",
       "      <th>poutcome</th>\n",
       "      <th>emp,var,rate</th>\n",
       "      <th>cons,price,idx</th>\n",
       "      <th>cons,conf,idx</th>\n",
       "      <th>euribor3m</th>\n",
       "      <th>nr,employed</th>\n",
       "      <th>y</th>\n",
       "      <th>month_day_week</th>\n",
       "    </tr>\n",
       "  </thead>\n",
       "  <tbody>\n",
       "    <tr>\n",
       "      <th>16469</th>\n",
       "      <td>24</td>\n",
       "      <td>blue-collar</td>\n",
       "      <td>single</td>\n",
       "      <td>basic.6y</td>\n",
       "      <td>0.0</td>\n",
       "      <td>0.0</td>\n",
       "      <td>0.0</td>\n",
       "      <td>telephone</td>\n",
       "      <td>115</td>\n",
       "      <td>1</td>\n",
       "      <td>999</td>\n",
       "      <td>0</td>\n",
       "      <td>nonexistent</td>\n",
       "      <td>1.4</td>\n",
       "      <td>93.918</td>\n",
       "      <td>-42.7</td>\n",
       "      <td>4.963</td>\n",
       "      <td>5228.1</td>\n",
       "      <td>no</td>\n",
       "      <td>['jul', 'wed']</td>\n",
       "    </tr>\n",
       "    <tr>\n",
       "      <th>33398</th>\n",
       "      <td>39</td>\n",
       "      <td>technician</td>\n",
       "      <td>single</td>\n",
       "      <td>professional.course</td>\n",
       "      <td>0.0</td>\n",
       "      <td>0.0</td>\n",
       "      <td>0.0</td>\n",
       "      <td>cellular</td>\n",
       "      <td>844</td>\n",
       "      <td>1</td>\n",
       "      <td>999</td>\n",
       "      <td>0</td>\n",
       "      <td>nonexistent</td>\n",
       "      <td>-1.8</td>\n",
       "      <td>92.893</td>\n",
       "      <td>-46.2</td>\n",
       "      <td>1.291</td>\n",
       "      <td>5099.1</td>\n",
       "      <td>yes</td>\n",
       "      <td>['may', 'tue']</td>\n",
       "    </tr>\n",
       "  </tbody>\n",
       "</table>\n",
       "</div>"
      ],
      "text/plain": [
       "       age          job marital            education  default  housing  loan  \\\n",
       "16469   24  blue-collar  single             basic.6y      0.0      0.0   0.0   \n",
       "33398   39   technician  single  professional.course      0.0      0.0   0.0   \n",
       "\n",
       "         contact  duration  campaign  pdays  previous     poutcome  \\\n",
       "16469  telephone       115         1    999         0  nonexistent   \n",
       "33398   cellular       844         1    999         0  nonexistent   \n",
       "\n",
       "       emp,var,rate  cons,price,idx  cons,conf,idx  euribor3m  nr,employed  \\\n",
       "16469           1.4          93.918          -42.7      4.963       5228.1   \n",
       "33398          -1.8          92.893          -46.2      1.291       5099.1   \n",
       "\n",
       "         y  month_day_week  \n",
       "16469   no  ['jul', 'wed']  \n",
       "33398  yes  ['may', 'tue']  "
      ]
     },
     "execution_count": 69,
     "metadata": {},
     "output_type": "execute_result"
    }
   ],
   "source": [
    "df_clean.sample(2)"
   ]
  },
  {
   "cell_type": "code",
   "execution_count": 91,
   "metadata": {},
   "outputs": [
    {
     "data": {
      "text/plain": [
       "<AxesSubplot:xlabel='poutcome', ylabel='count'>"
      ]
     },
     "execution_count": 91,
     "metadata": {},
     "output_type": "execute_result"
    },
    {
     "data": {
      "image/png": "[encoded data removed]",
      "text/plain": [
       "<Figure size 1440x1080 with 7 Axes>"
      ]
     },
     "metadata": {
      "needs_background": "light"
     },
     "output_type": "display_data"
    }
   ],
   "source": [
    "fig,ax = plt.subplots(7,1, figsize = (20,15))\n",
    "\n",
    "sns.countplot(x='job', data = df_clean, hue='y', ax= ax[0], palette = 'Set2')\n",
    "\n",
    "sns.countplot(x='housing', data = df_clean, hue='y', ax= ax[1], palette = 'Set2')\n",
    "\n",
    "sns.countplot(x='loan', data = df_clean, hue='y', ax= ax[2], palette = 'Set2')\n",
    "\n",
    "sns.lineplot(x='pdays', y='y', data = df_clean, ax= ax[3], palette = 'Set2')\n",
    "sns.boxplot(x='pdays', y='y', data = df_clean, ax= ax[4], palette = 'Set2')\n",
    "sns.scatterplot(x='pdays', y='y', data = df_clean, ax= ax[5], palette = 'Set2')\n",
    "\n",
    "sns.countplot(x='poutcome', data = df_clean, hue='y', ax= ax[6], palette = 'Set2')"
   ]
  },
  {
   "attachments": {},
   "cell_type": "markdown",
   "metadata": {},
   "source": [
    "Tras analizar los gráficos podemos inferir que las campañas telefónicas tienen un bajo índice de exito para todos los casos, no viendose significativamente incluidos ni por empleo, por campañas previas ni por ninguno de los criterios analizados. \n",
    "\n",
    "Quizá el único caso en el que se iguala el resultado poisitivo y negativo es en el de aquellos donde ha habido exito en una campaña previa, pero el nivel de éxito sigue siendo muy bajo. "
   ]
  },
  {
   "attachments": {},
   "cell_type": "markdown",
   "metadata": {},
   "source": [
    "Guardamos el csv para seguir trabajando en el siguiente ejercicio de pair de limpieza."
   ]
  },
  {
   "cell_type": "code",
   "execution_count": 92,
   "metadata": {},
   "outputs": [],
   "source": [
    "df_clean.to_csv('../datos/df_bank_clean.csv')"
   ]
  }
 ],
 "metadata": {
  "kernelspec": {
   "display_name": "base",
   "language": "python",
   "name": "python3"
  },
  "language_info": {
   "codemirror_mode": {
    "name": "ipython",
    "version": 3
   },
   "file_extension": ".py",
   "mimetype": "text/x-python",
   "name": "python",
   "nbconvert_exporter": "python",
   "pygments_lexer": "ipython3",
   "version": "3.9.7"
  },
  "orig_nbformat": 4
 },
 "nbformat": 4,
 "nbformat_minor": 2
}
