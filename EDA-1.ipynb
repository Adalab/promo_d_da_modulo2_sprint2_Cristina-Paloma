{
 "cells": [
  {
   "attachments": {},
   "cell_type": "markdown",
   "metadata": {},
   "source": [
    "### Hipótesis\n",
    "Las hipótesis que os planteamos para el conjunto de datos de historico_tickets_limpio_pandas son:"
   ]
  },
  {
   "attachments": {},
   "cell_type": "markdown",
   "metadata": {},
   "source": [
    "- Tiempo de resolución: Se podría hipotetizar que los tickets con mayor severidad y prioridad son resueltos en menos días que los tickets con menor prioridad. Además, se podría examinar si hay alguna correlación entre el tipo de problema y el tiempo que toma resolverlo.\n",
    "    - La pregunta que contestaremos es: ¿Son los tickets con mayor severidad y prioridad los que se resuelven antes?"
   ]
  },
  {
   "attachments": {},
   "cell_type": "markdown",
   "metadata": {},
   "source": [
    "- Satisfacción del cliente: Se podría hipotetizar que la satisfacción del cliente está relacionada con la velocidad de resolución del ticket y la categoría del problema. Por ejemplo, los clientes podrían estar más satisfechos si sus problemas de acceso y login se resuelven rápidamente en comparación con los problemas de software más complejos.\n",
    "    - La pregunta que contestaremos es: ¿Están los clientes con problemas de acceso y login más contentos que los que tienen problemas de software?"
   ]
  },
  {
   "attachments": {},
   "cell_type": "markdown",
   "metadata": {},
   "source": [
    "- Desempeño del agente: Se podría hipotetizar que algunos agentes tienen un mejor desempeño que otros en la resolución de tickets. Se podrían explorar variables como el número de tickets asignados, el tiempo promedio de resolución y la satisfacción del cliente para identificar patrones en el desempeño de los agentes.\n",
    "    - La pregunta que contestaremos es: ¿Cuáles son los empleados que más tickets atienden? ¿Son los empleados que atienden más tickets los que tardan más en solucionar los problemas de los clientes? ¿Y la media de la satisfacción de los clientes es menor en aquellos empleados que atienden más solicitudes?"
   ]
  },
  {
   "attachments": {},
   "cell_type": "markdown",
   "metadata": {},
   "source": [
    "- Cambios en el tiempo: Se podría hipotetizar que el volumen y la naturaleza de los problemas cambian con el tiempo. Por ejemplo, se podría explorar si hay un aumento en los problemas de acceso y login durante un determinado período de tiempo, o si hay una correlación entre la temporada del año y el tipo de problema reportado.\n",
    "    - La pregunta que contestaremos es: ¿Hay alguna diferencia entre a lo largo del tiempo entre las distintas categorías de solicitudes de tickets que tenemos?"
   ]
  },
  {
   "attachments": {},
   "cell_type": "markdown",
   "metadata": {},
   "source": [
    "-------------------------------------------------------------------------"
   ]
  },
  {
   "attachments": {},
   "cell_type": "markdown",
   "metadata": {},
   "source": [
    "### Objetivos\n",
    "1- Haced una exploración inicial del dataframe:"
   ]
  },
  {
   "cell_type": "code",
   "execution_count": 2,
   "metadata": {},
   "outputs": [],
   "source": [
    "import pandas as pd\n",
    "import numpy as np\n",
    "import matplotlib.pyplot as plt\n",
    "import seaborn as sns\n",
    "\n",
    "pd.options.display.max_columns = None"
   ]
  },
  {
   "cell_type": "code",
   "execution_count": 3,
   "metadata": {},
   "outputs": [
    {
     "data": {
      "text/html": [
       "<div>\n",
       "<style scoped>\n",
       "    .dataframe tbody tr th:only-of-type {\n",
       "        vertical-align: middle;\n",
       "    }\n",
       "\n",
       "    .dataframe tbody tr th {\n",
       "        vertical-align: top;\n",
       "    }\n",
       "\n",
       "    .dataframe thead th {\n",
       "        text-align: right;\n",
       "    }\n",
       "</style>\n",
       "<table border=\"1\" class=\"dataframe\">\n",
       "  <thead>\n",
       "    <tr style=\"text-align: right;\">\n",
       "      <th></th>\n",
       "      <th>id_ticket</th>\n",
       "      <th>fecha</th>\n",
       "      <th>id_empleado</th>\n",
       "      <th>id_agente</th>\n",
       "      <th>categoría</th>\n",
       "      <th>tipo</th>\n",
       "      <th>severidad</th>\n",
       "      <th>prioridad</th>\n",
       "      <th>días_resolución</th>\n",
       "      <th>satisfacción</th>\n",
       "      <th>semestre</th>\n",
       "      <th>año</th>\n",
       "      <th>mes</th>\n",
       "    </tr>\n",
       "  </thead>\n",
       "  <tbody>\n",
       "    <tr>\n",
       "      <th>16910</th>\n",
       "      <td>SDLENR-2044139253</td>\n",
       "      <td>2020-11-04</td>\n",
       "      <td>905</td>\n",
       "      <td>32</td>\n",
       "      <td>Acceso/Login</td>\n",
       "      <td>Problema</td>\n",
       "      <td>2 - Normal</td>\n",
       "      <td>0 - Sin Asignar</td>\n",
       "      <td>0</td>\n",
       "      <td>4</td>\n",
       "      <td>2º semestre</td>\n",
       "      <td>2020</td>\n",
       "      <td>Noviembre</td>\n",
       "    </tr>\n",
       "    <tr>\n",
       "      <th>6493</th>\n",
       "      <td>GMLTER-9544131668</td>\n",
       "      <td>2020-10-27</td>\n",
       "      <td>1306</td>\n",
       "      <td>16</td>\n",
       "      <td>Hardware</td>\n",
       "      <td>Solicitud</td>\n",
       "      <td>2 - Normal</td>\n",
       "      <td>2 - Media</td>\n",
       "      <td>12</td>\n",
       "      <td>5</td>\n",
       "      <td>2º semestre</td>\n",
       "      <td>2020</td>\n",
       "      <td>Octubre</td>\n",
       "    </tr>\n",
       "    <tr>\n",
       "      <th>11665</th>\n",
       "      <td>KWLTER-4143764668</td>\n",
       "      <td>2019-10-26</td>\n",
       "      <td>1666</td>\n",
       "      <td>36</td>\n",
       "      <td>Hardware</td>\n",
       "      <td>Solicitud</td>\n",
       "      <td>2 - Normal</td>\n",
       "      <td>1 - Baja</td>\n",
       "      <td>11</td>\n",
       "      <td>3</td>\n",
       "      <td>2º semestre</td>\n",
       "      <td>2019</td>\n",
       "      <td>Octubre</td>\n",
       "    </tr>\n",
       "  </tbody>\n",
       "</table>\n",
       "</div>"
      ],
      "text/plain": [
       "               id_ticket       fecha  id_empleado  id_agente     categoría  \\\n",
       "16910  SDLENR-2044139253  2020-11-04          905         32  Acceso/Login   \n",
       "6493   GMLTER-9544131668  2020-10-27         1306         16      Hardware   \n",
       "11665  KWLTER-4143764668  2019-10-26         1666         36      Hardware   \n",
       "\n",
       "            tipo   severidad        prioridad  días_resolución  satisfacción  \\\n",
       "16910   Problema  2 - Normal  0 - Sin Asignar                0             4   \n",
       "6493   Solicitud  2 - Normal        2 - Media               12             5   \n",
       "11665  Solicitud  2 - Normal         1 - Baja               11             3   \n",
       "\n",
       "          semestre   año        mes  \n",
       "16910  2º semestre  2020  Noviembre  \n",
       "6493   2º semestre  2020    Octubre  \n",
       "11665  2º semestre  2019    Octubre  "
      ]
     },
     "execution_count": 3,
     "metadata": {},
     "output_type": "execute_result"
    }
   ],
   "source": [
    "df = pd.read_csv('datos/historico_tickets_limpio_pandas.csv', index_col = 0)\n",
    "df.sample(3)"
   ]
  },
  {
   "attachments": {},
   "cell_type": "markdown",
   "metadata": {},
   "source": [
    "- ¿Cuál es el número de filas y columnas?"
   ]
  },
  {
   "cell_type": "code",
   "execution_count": 7,
   "metadata": {},
   "outputs": [
    {
     "data": {
      "text/plain": [
       "(97386, 13)"
      ]
     },
     "execution_count": 7,
     "metadata": {},
     "output_type": "execute_result"
    }
   ],
   "source": [
    "df.shape"
   ]
  },
  {
   "attachments": {},
   "cell_type": "markdown",
   "metadata": {},
   "source": [
    "- ¿Cuál es el porcentaje de valores nulos en cada columna? Presenta los resultados en un dataframe, donde las columnas sean el nombre de las variables y el porcentaje de nulos."
   ]
  },
  {
   "cell_type": "code",
   "execution_count": 8,
   "metadata": {},
   "outputs": [
    {
     "data": {
      "text/plain": [
       "id_ticket          0.0\n",
       "fecha              0.0\n",
       "id_empleado        0.0\n",
       "id_agente          0.0\n",
       "categoría          0.0\n",
       "tipo               0.0\n",
       "severidad          0.0\n",
       "prioridad          0.0\n",
       "días_resolución    0.0\n",
       "satisfacción       0.0\n",
       "semestre           0.0\n",
       "año                0.0\n",
       "mes                0.0\n",
       "dtype: float64"
      ]
     },
     "execution_count": 8,
     "metadata": {},
     "output_type": "execute_result"
    }
   ],
   "source": [
    "df.isnull().sum()/df.shape[0]*100"
   ]
  },
  {
   "cell_type": "code",
   "execution_count": 19,
   "metadata": {},
   "outputs": [
    {
     "data": {
      "text/plain": [
       "0"
      ]
     },
     "execution_count": 19,
     "metadata": {},
     "output_type": "execute_result"
    }
   ],
   "source": [
    "df.duplicated().sum()"
   ]
  },
  {
   "attachments": {},
   "cell_type": "markdown",
   "metadata": {},
   "source": [
    "- ¿Qué tipos de datos hay en cada columna?"
   ]
  },
  {
   "cell_type": "code",
   "execution_count": 10,
   "metadata": {},
   "outputs": [
    {
     "data": {
      "text/html": [
       "<div>\n",
       "<style scoped>\n",
       "    .dataframe tbody tr th:only-of-type {\n",
       "        vertical-align: middle;\n",
       "    }\n",
       "\n",
       "    .dataframe tbody tr th {\n",
       "        vertical-align: top;\n",
       "    }\n",
       "\n",
       "    .dataframe thead th {\n",
       "        text-align: right;\n",
       "    }\n",
       "</style>\n",
       "<table border=\"1\" class=\"dataframe\">\n",
       "  <thead>\n",
       "    <tr style=\"text-align: right;\">\n",
       "      <th></th>\n",
       "      <th>id_ticket</th>\n",
       "      <th>fecha</th>\n",
       "      <th>id_empleado</th>\n",
       "      <th>id_agente</th>\n",
       "      <th>categoría</th>\n",
       "      <th>tipo</th>\n",
       "      <th>severidad</th>\n",
       "      <th>prioridad</th>\n",
       "      <th>días_resolución</th>\n",
       "      <th>satisfacción</th>\n",
       "      <th>semestre</th>\n",
       "      <th>año</th>\n",
       "      <th>mes</th>\n",
       "    </tr>\n",
       "  </thead>\n",
       "  <tbody>\n",
       "    <tr>\n",
       "      <th>9266</th>\n",
       "      <td>SHLTSR-4542449616</td>\n",
       "      <td>2016-03-20</td>\n",
       "      <td>931</td>\n",
       "      <td>46</td>\n",
       "      <td>Sistema</td>\n",
       "      <td>Solicitud</td>\n",
       "      <td>2 - Normal</td>\n",
       "      <td>3 - Alta</td>\n",
       "      <td>10</td>\n",
       "      <td>4</td>\n",
       "      <td>1 semestre</td>\n",
       "      <td>2016</td>\n",
       "      <td>Marzo</td>\n",
       "    </tr>\n",
       "    <tr>\n",
       "      <th>6073</th>\n",
       "      <td>KHLTSR-3742597302</td>\n",
       "      <td>2016-08-15</td>\n",
       "      <td>1260</td>\n",
       "      <td>43</td>\n",
       "      <td>Sistema</td>\n",
       "      <td>Solicitud</td>\n",
       "      <td>2 - Normal</td>\n",
       "      <td>3 - Alta</td>\n",
       "      <td>7</td>\n",
       "      <td>4</td>\n",
       "      <td>2º semestre</td>\n",
       "      <td>2016</td>\n",
       "      <td>Agosto</td>\n",
       "    </tr>\n",
       "    <tr>\n",
       "      <th>6536</th>\n",
       "      <td>KHLTNR-4043039011</td>\n",
       "      <td>2017-10-31</td>\n",
       "      <td>1991</td>\n",
       "      <td>20</td>\n",
       "      <td>Acceso/Login</td>\n",
       "      <td>Solicitud</td>\n",
       "      <td>2 - Normal</td>\n",
       "      <td>3 - Alta</td>\n",
       "      <td>0</td>\n",
       "      <td>3</td>\n",
       "      <td>2º semestre</td>\n",
       "      <td>2017</td>\n",
       "      <td>Octubre</td>\n",
       "    </tr>\n",
       "  </tbody>\n",
       "</table>\n",
       "</div>"
      ],
      "text/plain": [
       "              id_ticket       fecha  id_empleado  id_agente     categoría  \\\n",
       "9266  SHLTSR-4542449616  2016-03-20          931         46       Sistema   \n",
       "6073  KHLTSR-3742597302  2016-08-15         1260         43       Sistema   \n",
       "6536  KHLTNR-4043039011  2017-10-31         1991         20  Acceso/Login   \n",
       "\n",
       "           tipo   severidad prioridad  días_resolución  satisfacción  \\\n",
       "9266  Solicitud  2 - Normal  3 - Alta               10             4   \n",
       "6073  Solicitud  2 - Normal  3 - Alta                7             4   \n",
       "6536  Solicitud  2 - Normal  3 - Alta                0             3   \n",
       "\n",
       "         semestre   año      mes  \n",
       "9266   1 semestre  2016    Marzo  \n",
       "6073  2º semestre  2016   Agosto  \n",
       "6536  2º semestre  2017  Octubre  "
      ]
     },
     "execution_count": 10,
     "metadata": {},
     "output_type": "execute_result"
    }
   ],
   "source": [
    "df.sample(3)"
   ]
  },
  {
   "cell_type": "code",
   "execution_count": 9,
   "metadata": {},
   "outputs": [
    {
     "data": {
      "text/plain": [
       "id_ticket          object\n",
       "fecha              object\n",
       "id_empleado         int64\n",
       "id_agente           int64\n",
       "categoría          object\n",
       "tipo               object\n",
       "severidad          object\n",
       "prioridad          object\n",
       "días_resolución     int64\n",
       "satisfacción        int64\n",
       "semestre           object\n",
       "año                 int64\n",
       "mes                object\n",
       "dtype: object"
      ]
     },
     "execution_count": 9,
     "metadata": {},
     "output_type": "execute_result"
    }
   ],
   "source": [
    "df.dtypes"
   ]
  },
  {
   "attachments": {},
   "cell_type": "markdown",
   "metadata": {},
   "source": [
    "- Extraed la información general del dataframe."
   ]
  },
  {
   "cell_type": "code",
   "execution_count": 17,
   "metadata": {},
   "outputs": [
    {
     "data": {
      "text/html": [
       "<div>\n",
       "<style scoped>\n",
       "    .dataframe tbody tr th:only-of-type {\n",
       "        vertical-align: middle;\n",
       "    }\n",
       "\n",
       "    .dataframe tbody tr th {\n",
       "        vertical-align: top;\n",
       "    }\n",
       "\n",
       "    .dataframe thead th {\n",
       "        text-align: right;\n",
       "    }\n",
       "</style>\n",
       "<table border=\"1\" class=\"dataframe\">\n",
       "  <thead>\n",
       "    <tr style=\"text-align: right;\">\n",
       "      <th></th>\n",
       "      <th>count</th>\n",
       "      <th>mean</th>\n",
       "      <th>std</th>\n",
       "      <th>min</th>\n",
       "      <th>25%</th>\n",
       "      <th>50%</th>\n",
       "      <th>75%</th>\n",
       "      <th>max</th>\n",
       "    </tr>\n",
       "  </thead>\n",
       "  <tbody>\n",
       "    <tr>\n",
       "      <th>id_empleado</th>\n",
       "      <td>97386.0</td>\n",
       "      <td>999.160639</td>\n",
       "      <td>577.407222</td>\n",
       "      <td>1.0</td>\n",
       "      <td>500.0</td>\n",
       "      <td>999.0</td>\n",
       "      <td>1499.0</td>\n",
       "      <td>2000.0</td>\n",
       "    </tr>\n",
       "    <tr>\n",
       "      <th>id_agente</th>\n",
       "      <td>97386.0</td>\n",
       "      <td>25.468856</td>\n",
       "      <td>14.449455</td>\n",
       "      <td>1.0</td>\n",
       "      <td>13.0</td>\n",
       "      <td>26.0</td>\n",
       "      <td>38.0</td>\n",
       "      <td>50.0</td>\n",
       "    </tr>\n",
       "    <tr>\n",
       "      <th>días_resolución</th>\n",
       "      <td>97386.0</td>\n",
       "      <td>4.552749</td>\n",
       "      <td>4.365432</td>\n",
       "      <td>0.0</td>\n",
       "      <td>0.0</td>\n",
       "      <td>4.0</td>\n",
       "      <td>7.0</td>\n",
       "      <td>21.0</td>\n",
       "    </tr>\n",
       "    <tr>\n",
       "      <th>satisfacción</th>\n",
       "      <td>97386.0</td>\n",
       "      <td>4.100990</td>\n",
       "      <td>1.257093</td>\n",
       "      <td>1.0</td>\n",
       "      <td>4.0</td>\n",
       "      <td>5.0</td>\n",
       "      <td>5.0</td>\n",
       "      <td>5.0</td>\n",
       "    </tr>\n",
       "    <tr>\n",
       "      <th>año</th>\n",
       "      <td>97386.0</td>\n",
       "      <td>2018.399164</td>\n",
       "      <td>1.393095</td>\n",
       "      <td>2016.0</td>\n",
       "      <td>2017.0</td>\n",
       "      <td>2019.0</td>\n",
       "      <td>2020.0</td>\n",
       "      <td>2020.0</td>\n",
       "    </tr>\n",
       "  </tbody>\n",
       "</table>\n",
       "</div>"
      ],
      "text/plain": [
       "                   count         mean         std     min     25%     50%  \\\n",
       "id_empleado      97386.0   999.160639  577.407222     1.0   500.0   999.0   \n",
       "id_agente        97386.0    25.468856   14.449455     1.0    13.0    26.0   \n",
       "días_resolución  97386.0     4.552749    4.365432     0.0     0.0     4.0   \n",
       "satisfacción     97386.0     4.100990    1.257093     1.0     4.0     5.0   \n",
       "año              97386.0  2018.399164    1.393095  2016.0  2017.0  2019.0   \n",
       "\n",
       "                    75%     max  \n",
       "id_empleado      1499.0  2000.0  \n",
       "id_agente          38.0    50.0  \n",
       "días_resolución     7.0    21.0  \n",
       "satisfacción        5.0     5.0  \n",
       "año              2020.0  2020.0  "
      ]
     },
     "execution_count": 17,
     "metadata": {},
     "output_type": "execute_result"
    }
   ],
   "source": [
    "df.describe().T"
   ]
  },
  {
   "cell_type": "code",
   "execution_count": 15,
   "metadata": {},
   "outputs": [
    {
     "data": {
      "text/html": [
       "<div>\n",
       "<style scoped>\n",
       "    .dataframe tbody tr th:only-of-type {\n",
       "        vertical-align: middle;\n",
       "    }\n",
       "\n",
       "    .dataframe tbody tr th {\n",
       "        vertical-align: top;\n",
       "    }\n",
       "\n",
       "    .dataframe thead th {\n",
       "        text-align: right;\n",
       "    }\n",
       "</style>\n",
       "<table border=\"1\" class=\"dataframe\">\n",
       "  <thead>\n",
       "    <tr style=\"text-align: right;\">\n",
       "      <th></th>\n",
       "      <th>id_ticket</th>\n",
       "      <th>fecha</th>\n",
       "      <th>categoría</th>\n",
       "      <th>tipo</th>\n",
       "      <th>severidad</th>\n",
       "      <th>prioridad</th>\n",
       "      <th>semestre</th>\n",
       "      <th>mes</th>\n",
       "    </tr>\n",
       "  </thead>\n",
       "  <tbody>\n",
       "    <tr>\n",
       "      <th>count</th>\n",
       "      <td>97386</td>\n",
       "      <td>97386</td>\n",
       "      <td>97386</td>\n",
       "      <td>97386</td>\n",
       "      <td>97386</td>\n",
       "      <td>97386</td>\n",
       "      <td>97386</td>\n",
       "      <td>97386</td>\n",
       "    </tr>\n",
       "    <tr>\n",
       "      <th>unique</th>\n",
       "      <td>97386</td>\n",
       "      <td>1827</td>\n",
       "      <td>4</td>\n",
       "      <td>2</td>\n",
       "      <td>5</td>\n",
       "      <td>4</td>\n",
       "      <td>2</td>\n",
       "      <td>12</td>\n",
       "    </tr>\n",
       "    <tr>\n",
       "      <th>top</th>\n",
       "      <td>GDDENR-5042564453</td>\n",
       "      <td>2020-02-20</td>\n",
       "      <td>Sistema</td>\n",
       "      <td>Solicitud</td>\n",
       "      <td>2 - Normal</td>\n",
       "      <td>3 - Alta</td>\n",
       "      <td>2º semestre</td>\n",
       "      <td>Octubre</td>\n",
       "    </tr>\n",
       "    <tr>\n",
       "      <th>freq</th>\n",
       "      <td>1</td>\n",
       "      <td>105</td>\n",
       "      <td>38961</td>\n",
       "      <td>73138</td>\n",
       "      <td>88555</td>\n",
       "      <td>35511</td>\n",
       "      <td>49876</td>\n",
       "      <td>8487</td>\n",
       "    </tr>\n",
       "  </tbody>\n",
       "</table>\n",
       "</div>"
      ],
      "text/plain": [
       "                id_ticket       fecha categoría       tipo   severidad  \\\n",
       "count               97386       97386     97386      97386       97386   \n",
       "unique              97386        1827         4          2           5   \n",
       "top     GDDENR-5042564453  2020-02-20   Sistema  Solicitud  2 - Normal   \n",
       "freq                    1         105     38961      73138       88555   \n",
       "\n",
       "       prioridad     semestre      mes  \n",
       "count      97386        97386    97386  \n",
       "unique         4            2       12  \n",
       "top     3 - Alta  2º semestre  Octubre  \n",
       "freq       35511        49876     8487  "
      ]
     },
     "execution_count": 15,
     "metadata": {},
     "output_type": "execute_result"
    }
   ],
   "source": [
    "df.describe(include='object')"
   ]
  },
  {
   "cell_type": "code",
   "execution_count": 18,
   "metadata": {},
   "outputs": [
    {
     "name": "stderr",
     "output_type": "stream",
     "text": [
      "/home/paloma/anaconda3/lib/python3.9/site-packages/seaborn/_decorators.py:36: FutureWarning: Pass the following variable as a keyword arg: x. From version 0.12, the only valid positional argument will be `data`, and passing other arguments without an explicit keyword will result in an error or misinterpretation.\n",
      "  warnings.warn(\n"
     ]
    },
    {
     "data": {
      "text/plain": [
       "<AxesSubplot:xlabel='días_resolución'>"
      ]
     },
     "execution_count": 18,
     "metadata": {},
     "output_type": "execute_result"
    },
    {
     "data": {
      "image/png": "[encoded data removed]",
      "text/plain": [
       "<Figure size 432x288 with 1 Axes>"
      ]
     },
     "metadata": {
      "needs_background": "light"
     },
     "output_type": "display_data"
    }
   ],
   "source": [
    "sns.boxplot(df['días_resolución'])"
   ]
  },
  {
   "attachments": {},
   "cell_type": "markdown",
   "metadata": {},
   "source": [
    "- Nuestro DataFrame tiene 13 columnas y 97386 filas.\n",
    "\n",
    "- Nuestros datos son de tipo object y de tipo integer. Pensamos que quizá la columna 'fecha', que es tipo object y consideramos que debería ser de tipo 'datetime'.\n",
    "\n",
    "- No tenemos nulos en nuestros datos ni valores duplicados.\n",
    "\n",
    "- Examinando los estadísticos numéricos hemos detectado la posible existencia de outliers analizando la diferencia entre el cuartil 75 y el valor máximo para la columna nivel de satifacción, lo cual hemos confirmado con un boxplot."
   ]
  },
  {
   "attachments": {},
   "cell_type": "markdown",
   "metadata": {},
   "source": [
    "2- Cread dos dataframes nuevos, uno que incluya solo las variables categóricas y otro que incluya solo las variables numéricas."
   ]
  },
  {
   "cell_type": "code",
   "execution_count": 22,
   "metadata": {},
   "outputs": [
    {
     "data": {
      "text/html": [
       "<div>\n",
       "<style scoped>\n",
       "    .dataframe tbody tr th:only-of-type {\n",
       "        vertical-align: middle;\n",
       "    }\n",
       "\n",
       "    .dataframe tbody tr th {\n",
       "        vertical-align: top;\n",
       "    }\n",
       "\n",
       "    .dataframe thead th {\n",
       "        text-align: right;\n",
       "    }\n",
       "</style>\n",
       "<table border=\"1\" class=\"dataframe\">\n",
       "  <thead>\n",
       "    <tr style=\"text-align: right;\">\n",
       "      <th></th>\n",
       "      <th>id_ticket</th>\n",
       "      <th>fecha</th>\n",
       "      <th>categoría</th>\n",
       "      <th>tipo</th>\n",
       "      <th>severidad</th>\n",
       "      <th>prioridad</th>\n",
       "      <th>semestre</th>\n",
       "      <th>mes</th>\n",
       "    </tr>\n",
       "  </thead>\n",
       "  <tbody>\n",
       "    <tr>\n",
       "      <th>6108</th>\n",
       "      <td>KHLTSR-4842477206</td>\n",
       "      <td>2016-04-17</td>\n",
       "      <td>Sistema</td>\n",
       "      <td>Solicitud</td>\n",
       "      <td>2 - Normal</td>\n",
       "      <td>3 - Alta</td>\n",
       "      <td>1 semestre</td>\n",
       "      <td>Abril</td>\n",
       "    </tr>\n",
       "    <tr>\n",
       "      <th>12355</th>\n",
       "      <td>KHLTET-7244123238</td>\n",
       "      <td>2020-10-19</td>\n",
       "      <td>Software</td>\n",
       "      <td>Solicitud</td>\n",
       "      <td>2 - Normal</td>\n",
       "      <td>3 - Alta</td>\n",
       "      <td>2º semestre</td>\n",
       "      <td>Octubre</td>\n",
       "    </tr>\n",
       "    <tr>\n",
       "      <th>16986</th>\n",
       "      <td>SDLENR-9144118812</td>\n",
       "      <td>2020-10-14</td>\n",
       "      <td>Acceso/Login</td>\n",
       "      <td>Problema</td>\n",
       "      <td>2 - Normal</td>\n",
       "      <td>0 - Sin Asignar</td>\n",
       "      <td>2º semestre</td>\n",
       "      <td>Octubre</td>\n",
       "    </tr>\n",
       "  </tbody>\n",
       "</table>\n",
       "</div>"
      ],
      "text/plain": [
       "               id_ticket       fecha     categoría       tipo   severidad  \\\n",
       "6108   KHLTSR-4842477206  2016-04-17       Sistema  Solicitud  2 - Normal   \n",
       "12355  KHLTET-7244123238  2020-10-19      Software  Solicitud  2 - Normal   \n",
       "16986  SDLENR-9144118812  2020-10-14  Acceso/Login   Problema  2 - Normal   \n",
       "\n",
       "             prioridad     semestre      mes  \n",
       "6108          3 - Alta   1 semestre    Abril  \n",
       "12355         3 - Alta  2º semestre  Octubre  \n",
       "16986  0 - Sin Asignar  2º semestre  Octubre  "
      ]
     },
     "execution_count": 22,
     "metadata": {},
     "output_type": "execute_result"
    }
   ],
   "source": [
    "df_cat = df.select_dtypes(include = 'object')\n",
    "df_cat.sample(3)"
   ]
  },
  {
   "cell_type": "code",
   "execution_count": 24,
   "metadata": {},
   "outputs": [
    {
     "data": {
      "text/html": [
       "<div>\n",
       "<style scoped>\n",
       "    .dataframe tbody tr th:only-of-type {\n",
       "        vertical-align: middle;\n",
       "    }\n",
       "\n",
       "    .dataframe tbody tr th {\n",
       "        vertical-align: top;\n",
       "    }\n",
       "\n",
       "    .dataframe thead th {\n",
       "        text-align: right;\n",
       "    }\n",
       "</style>\n",
       "<table border=\"1\" class=\"dataframe\">\n",
       "  <thead>\n",
       "    <tr style=\"text-align: right;\">\n",
       "      <th></th>\n",
       "      <th>id_empleado</th>\n",
       "      <th>id_agente</th>\n",
       "      <th>días_resolución</th>\n",
       "      <th>satisfacción</th>\n",
       "      <th>año</th>\n",
       "    </tr>\n",
       "  </thead>\n",
       "  <tbody>\n",
       "    <tr>\n",
       "      <th>26079</th>\n",
       "      <td>50</td>\n",
       "      <td>25</td>\n",
       "      <td>1</td>\n",
       "      <td>1</td>\n",
       "      <td>2020</td>\n",
       "    </tr>\n",
       "    <tr>\n",
       "      <th>17968</th>\n",
       "      <td>1321</td>\n",
       "      <td>36</td>\n",
       "      <td>0</td>\n",
       "      <td>5</td>\n",
       "      <td>2018</td>\n",
       "    </tr>\n",
       "    <tr>\n",
       "      <th>9607</th>\n",
       "      <td>1229</td>\n",
       "      <td>21</td>\n",
       "      <td>4</td>\n",
       "      <td>4</td>\n",
       "      <td>2018</td>\n",
       "    </tr>\n",
       "  </tbody>\n",
       "</table>\n",
       "</div>"
      ],
      "text/plain": [
       "       id_empleado  id_agente  días_resolución  satisfacción   año\n",
       "26079           50         25                1             1  2020\n",
       "17968         1321         36                0             5  2018\n",
       "9607          1229         21                4             4  2018"
      ]
     },
     "execution_count": 24,
     "metadata": {},
     "output_type": "execute_result"
    }
   ],
   "source": [
    "df_num = df.select_dtypes(include = 'int64')\n",
    "df_num.sample(3)"
   ]
  },
  {
   "attachments": {},
   "cell_type": "markdown",
   "metadata": {},
   "source": [
    "- ¿Cuáles son los principales estádisticos de los dataframes?"
   ]
  },
  {
   "cell_type": "code",
   "execution_count": 25,
   "metadata": {},
   "outputs": [
    {
     "data": {
      "text/html": [
       "<div>\n",
       "<style scoped>\n",
       "    .dataframe tbody tr th:only-of-type {\n",
       "        vertical-align: middle;\n",
       "    }\n",
       "\n",
       "    .dataframe tbody tr th {\n",
       "        vertical-align: top;\n",
       "    }\n",
       "\n",
       "    .dataframe thead th {\n",
       "        text-align: right;\n",
       "    }\n",
       "</style>\n",
       "<table border=\"1\" class=\"dataframe\">\n",
       "  <thead>\n",
       "    <tr style=\"text-align: right;\">\n",
       "      <th></th>\n",
       "      <th>id_ticket</th>\n",
       "      <th>fecha</th>\n",
       "      <th>categoría</th>\n",
       "      <th>tipo</th>\n",
       "      <th>severidad</th>\n",
       "      <th>prioridad</th>\n",
       "      <th>semestre</th>\n",
       "      <th>mes</th>\n",
       "    </tr>\n",
       "  </thead>\n",
       "  <tbody>\n",
       "    <tr>\n",
       "      <th>count</th>\n",
       "      <td>97386</td>\n",
       "      <td>97386</td>\n",
       "      <td>97386</td>\n",
       "      <td>97386</td>\n",
       "      <td>97386</td>\n",
       "      <td>97386</td>\n",
       "      <td>97386</td>\n",
       "      <td>97386</td>\n",
       "    </tr>\n",
       "    <tr>\n",
       "      <th>unique</th>\n",
       "      <td>97386</td>\n",
       "      <td>1827</td>\n",
       "      <td>4</td>\n",
       "      <td>2</td>\n",
       "      <td>5</td>\n",
       "      <td>4</td>\n",
       "      <td>2</td>\n",
       "      <td>12</td>\n",
       "    </tr>\n",
       "    <tr>\n",
       "      <th>top</th>\n",
       "      <td>GDDENR-5042564453</td>\n",
       "      <td>2020-02-20</td>\n",
       "      <td>Sistema</td>\n",
       "      <td>Solicitud</td>\n",
       "      <td>2 - Normal</td>\n",
       "      <td>3 - Alta</td>\n",
       "      <td>2º semestre</td>\n",
       "      <td>Octubre</td>\n",
       "    </tr>\n",
       "    <tr>\n",
       "      <th>freq</th>\n",
       "      <td>1</td>\n",
       "      <td>105</td>\n",
       "      <td>38961</td>\n",
       "      <td>73138</td>\n",
       "      <td>88555</td>\n",
       "      <td>35511</td>\n",
       "      <td>49876</td>\n",
       "      <td>8487</td>\n",
       "    </tr>\n",
       "  </tbody>\n",
       "</table>\n",
       "</div>"
      ],
      "text/plain": [
       "                id_ticket       fecha categoría       tipo   severidad  \\\n",
       "count               97386       97386     97386      97386       97386   \n",
       "unique              97386        1827         4          2           5   \n",
       "top     GDDENR-5042564453  2020-02-20   Sistema  Solicitud  2 - Normal   \n",
       "freq                    1         105     38961      73138       88555   \n",
       "\n",
       "       prioridad     semestre      mes  \n",
       "count      97386        97386    97386  \n",
       "unique         4            2       12  \n",
       "top     3 - Alta  2º semestre  Octubre  \n",
       "freq       35511        49876     8487  "
      ]
     },
     "execution_count": 25,
     "metadata": {},
     "output_type": "execute_result"
    }
   ],
   "source": [
    "df_cat.describe()"
   ]
  },
  {
   "cell_type": "code",
   "execution_count": 27,
   "metadata": {},
   "outputs": [
    {
     "data": {
      "text/html": [
       "<div>\n",
       "<style scoped>\n",
       "    .dataframe tbody tr th:only-of-type {\n",
       "        vertical-align: middle;\n",
       "    }\n",
       "\n",
       "    .dataframe tbody tr th {\n",
       "        vertical-align: top;\n",
       "    }\n",
       "\n",
       "    .dataframe thead th {\n",
       "        text-align: right;\n",
       "    }\n",
       "</style>\n",
       "<table border=\"1\" class=\"dataframe\">\n",
       "  <thead>\n",
       "    <tr style=\"text-align: right;\">\n",
       "      <th></th>\n",
       "      <th>count</th>\n",
       "      <th>mean</th>\n",
       "      <th>std</th>\n",
       "      <th>min</th>\n",
       "      <th>25%</th>\n",
       "      <th>50%</th>\n",
       "      <th>75%</th>\n",
       "      <th>max</th>\n",
       "    </tr>\n",
       "  </thead>\n",
       "  <tbody>\n",
       "    <tr>\n",
       "      <th>id_empleado</th>\n",
       "      <td>97386.0</td>\n",
       "      <td>999.160639</td>\n",
       "      <td>577.407222</td>\n",
       "      <td>1.0</td>\n",
       "      <td>500.0</td>\n",
       "      <td>999.0</td>\n",
       "      <td>1499.0</td>\n",
       "      <td>2000.0</td>\n",
       "    </tr>\n",
       "    <tr>\n",
       "      <th>id_agente</th>\n",
       "      <td>97386.0</td>\n",
       "      <td>25.468856</td>\n",
       "      <td>14.449455</td>\n",
       "      <td>1.0</td>\n",
       "      <td>13.0</td>\n",
       "      <td>26.0</td>\n",
       "      <td>38.0</td>\n",
       "      <td>50.0</td>\n",
       "    </tr>\n",
       "    <tr>\n",
       "      <th>días_resolución</th>\n",
       "      <td>97386.0</td>\n",
       "      <td>4.552749</td>\n",
       "      <td>4.365432</td>\n",
       "      <td>0.0</td>\n",
       "      <td>0.0</td>\n",
       "      <td>4.0</td>\n",
       "      <td>7.0</td>\n",
       "      <td>21.0</td>\n",
       "    </tr>\n",
       "    <tr>\n",
       "      <th>satisfacción</th>\n",
       "      <td>97386.0</td>\n",
       "      <td>4.100990</td>\n",
       "      <td>1.257093</td>\n",
       "      <td>1.0</td>\n",
       "      <td>4.0</td>\n",
       "      <td>5.0</td>\n",
       "      <td>5.0</td>\n",
       "      <td>5.0</td>\n",
       "    </tr>\n",
       "    <tr>\n",
       "      <th>año</th>\n",
       "      <td>97386.0</td>\n",
       "      <td>2018.399164</td>\n",
       "      <td>1.393095</td>\n",
       "      <td>2016.0</td>\n",
       "      <td>2017.0</td>\n",
       "      <td>2019.0</td>\n",
       "      <td>2020.0</td>\n",
       "      <td>2020.0</td>\n",
       "    </tr>\n",
       "  </tbody>\n",
       "</table>\n",
       "</div>"
      ],
      "text/plain": [
       "                   count         mean         std     min     25%     50%  \\\n",
       "id_empleado      97386.0   999.160639  577.407222     1.0   500.0   999.0   \n",
       "id_agente        97386.0    25.468856   14.449455     1.0    13.0    26.0   \n",
       "días_resolución  97386.0     4.552749    4.365432     0.0     0.0     4.0   \n",
       "satisfacción     97386.0     4.100990    1.257093     1.0     4.0     5.0   \n",
       "año              97386.0  2018.399164    1.393095  2016.0  2017.0  2019.0   \n",
       "\n",
       "                    75%     max  \n",
       "id_empleado      1499.0  2000.0  \n",
       "id_agente          38.0    50.0  \n",
       "días_resolución     7.0    21.0  \n",
       "satisfacción        5.0     5.0  \n",
       "año              2020.0  2020.0  "
      ]
     },
     "execution_count": 27,
     "metadata": {},
     "output_type": "execute_result"
    }
   ],
   "source": [
    "df_num.describe().T"
   ]
  },
  {
   "cell_type": "code",
   "execution_count": 31,
   "metadata": {},
   "outputs": [
    {
     "data": {
      "text/html": [
       "<div>\n",
       "<style scoped>\n",
       "    .dataframe tbody tr th:only-of-type {\n",
       "        vertical-align: middle;\n",
       "    }\n",
       "\n",
       "    .dataframe tbody tr th {\n",
       "        vertical-align: top;\n",
       "    }\n",
       "\n",
       "    .dataframe thead th {\n",
       "        text-align: right;\n",
       "    }\n",
       "</style>\n",
       "<table border=\"1\" class=\"dataframe\">\n",
       "  <thead>\n",
       "    <tr style=\"text-align: right;\">\n",
       "      <th></th>\n",
       "      <th>días_resolución</th>\n",
       "      <th>satisfacción</th>\n",
       "    </tr>\n",
       "  </thead>\n",
       "  <tbody>\n",
       "    <tr>\n",
       "      <th>0</th>\n",
       "      <td>0</td>\n",
       "      <td>5</td>\n",
       "    </tr>\n",
       "  </tbody>\n",
       "</table>\n",
       "</div>"
      ],
      "text/plain": [
       "   días_resolución  satisfacción\n",
       "0                0             5"
      ]
     },
     "execution_count": 31,
     "metadata": {},
     "output_type": "execute_result"
    }
   ],
   "source": [
    "df_num[['días_resolución', 'satisfacción']].mode()"
   ]
  },
  {
   "attachments": {},
   "cell_type": "markdown",
   "metadata": {},
   "source": [
    "- Extraed los valores únicos."
   ]
  },
  {
   "cell_type": "code",
   "execution_count": 38,
   "metadata": {},
   "outputs": [
    {
     "name": "stdout",
     "output_type": "stream",
     "text": [
      "['Acceso/Login' 'Sistema' 'Software' 'Hardware']\n",
      "['Problema' 'Solicitud']\n",
      "['0 - Sin Clasificar' '2 - Normal' '4 - Crítico' '3 - Mayor' '1 - Menor']\n",
      "['0 - Sin Asignar' '3 - Alta' '2 - Media' '1 - Baja']\n",
      "['2º semestre' '1 semestre']\n",
      "['Julio' 'Mayo' 'Junio' 'Abril' 'Agosto' 'Marzo' 'Enero' 'Septiembre'\n",
      " 'Octubre' 'Diciembre' 'Noviembre' 'Febrero']\n"
     ]
    }
   ],
   "source": [
    "for col in df_cat.columns[2:]:\n",
    "    print(df_cat[col].unique())"
   ]
  },
  {
   "cell_type": "code",
   "execution_count": 40,
   "metadata": {},
   "outputs": [],
   "source": [
    "valores_cat = [df_cat[col].unique() for col in df_cat.columns[2:]]"
   ]
  },
  {
   "cell_type": "code",
   "execution_count": 43,
   "metadata": {},
   "outputs": [
    {
     "data": {
      "text/plain": [
       "[array(['Acceso/Login', 'Sistema', 'Software', 'Hardware'], dtype=object),\n",
       " array(['Problema', 'Solicitud'], dtype=object),\n",
       " array(['0 - Sin Clasificar', '2 - Normal', '4 - Crítico', '3 - Mayor',\n",
       "        '1 - Menor'], dtype=object),\n",
       " array(['0 - Sin Asignar', '3 - Alta', '2 - Media', '1 - Baja'],\n",
       "       dtype=object),\n",
       " array(['2º semestre', '1 semestre'], dtype=object),\n",
       " array(['Julio', 'Mayo', 'Junio', 'Abril', 'Agosto', 'Marzo', 'Enero',\n",
       "        'Septiembre', 'Octubre', 'Diciembre', 'Noviembre', 'Febrero'],\n",
       "       dtype=object)]"
      ]
     },
     "execution_count": 43,
     "metadata": {},
     "output_type": "execute_result"
    }
   ],
   "source": [
    "valores_cat"
   ]
  },
  {
   "cell_type": "code",
   "execution_count": 39,
   "metadata": {},
   "outputs": [
    {
     "name": "stdout",
     "output_type": "stream",
     "text": [
      "[ 0  3  9  1  2  5  8  4 10  6  7 13 16 17 11 12 14 15 19 18 21 20]\n",
      "[5 1 4 3 2]\n",
      "[2016 2017 2018 2019 2020]\n"
     ]
    }
   ],
   "source": [
    "for col in df_num.columns[2:]:\n",
    "    print(df_num[col].unique())"
   ]
  },
  {
   "cell_type": "code",
   "execution_count": 44,
   "metadata": {},
   "outputs": [],
   "source": [
    "valores_num = [df_num[col].unique() for col in df_num.columns[2:]]"
   ]
  },
  {
   "cell_type": "code",
   "execution_count": 45,
   "metadata": {},
   "outputs": [
    {
     "data": {
      "text/plain": [
       "[array([ 0,  3,  9,  1,  2,  5,  8,  4, 10,  6,  7, 13, 16, 17, 11, 12, 14,\n",
       "        15, 19, 18, 21, 20]),\n",
       " array([5, 1, 4, 3, 2]),\n",
       " array([2016, 2017, 2018, 2019, 2020])]"
      ]
     },
     "execution_count": 45,
     "metadata": {},
     "output_type": "execute_result"
    }
   ],
   "source": [
    "valores_num"
   ]
  },
  {
   "attachments": {},
   "cell_type": "markdown",
   "metadata": {},
   "source": [
    "BONUS presenta los resultados en un dataframe. Os deberá quedar algo como esto:"
   ]
  },
  {
   "attachments": {
    "image.png": {
     "image/png": "[encoded data removed]"
    }
   },
   "cell_type": "markdown",
   "metadata": {},
   "source": [
    "![image.png](attachment:image.png)"
   ]
  },
  {
   "cell_type": "code",
   "execution_count": 55,
   "metadata": {},
   "outputs": [
    {
     "data": {
      "text/plain": [
       "array(['Problema', 'Solicitud'], dtype=object)"
      ]
     },
     "execution_count": 55,
     "metadata": {},
     "output_type": "execute_result"
    }
   ],
   "source": [
    "valores_cat[1]"
   ]
  },
  {
   "cell_type": "code",
   "execution_count": 68,
   "metadata": {},
   "outputs": [],
   "source": [
    "dicc_cat = {}\n",
    "for col in df_cat.columns[2:]:\n",
    "    dicc_cat[col] = df_cat[col].unique()"
   ]
  },
  {
   "cell_type": "code",
   "execution_count": 69,
   "metadata": {},
   "outputs": [
    {
     "data": {
      "text/plain": [
       "{'categoría': array(['Acceso/Login', 'Sistema', 'Software', 'Hardware'], dtype=object),\n",
       " 'tipo': array(['Problema', 'Solicitud'], dtype=object),\n",
       " 'severidad': array(['0 - Sin Clasificar', '2 - Normal', '4 - Crítico', '3 - Mayor',\n",
       "        '1 - Menor'], dtype=object),\n",
       " 'prioridad': array(['0 - Sin Asignar', '3 - Alta', '2 - Media', '1 - Baja'],\n",
       "       dtype=object),\n",
       " 'semestre': array(['2º semestre', '1 semestre'], dtype=object),\n",
       " 'mes': array(['Julio', 'Mayo', 'Junio', 'Abril', 'Agosto', 'Marzo', 'Enero',\n",
       "        'Septiembre', 'Octubre', 'Diciembre', 'Noviembre', 'Febrero'],\n",
       "       dtype=object)}"
      ]
     },
     "execution_count": 69,
     "metadata": {},
     "output_type": "execute_result"
    }
   ],
   "source": [
    "dicc_cat"
   ]
  },
  {
   "cell_type": "code",
   "execution_count": 77,
   "metadata": {},
   "outputs": [
    {
     "ename": "SyntaxError",
     "evalue": "positional argument follows keyword argument (124313713.py, line 1)",
     "output_type": "error",
     "traceback": [
      "\u001b[0;36m  File \u001b[0;32m\"/tmp/ipykernel_450/124313713.py\"\u001b[0;36m, line \u001b[0;32m1\u001b[0m\n\u001b[0;31m    df_cat_unicos = pd.DataFrame(columns=['variable', 'n_unicos'], dicc_cat)\u001b[0m\n\u001b[0m                                                                           ^\u001b[0m\n\u001b[0;31mSyntaxError\u001b[0m\u001b[0;31m:\u001b[0m positional argument follows keyword argument\n"
     ]
    }
   ],
   "source": [
    "df_cat_unicos = pd.DataFrame(columns=['variable', 'n_unicos'])"
   ]
  },
  {
   "cell_type": "code",
   "execution_count": 78,
   "metadata": {},
   "outputs": [],
   "source": [
    "df_cat_unicos['variable'] = dicc_cat.keys()"
   ]
  },
  {
   "cell_type": "code",
   "execution_count": 80,
   "metadata": {},
   "outputs": [],
   "source": [
    "df_cat_unicos['n_unicos'] = dicc_cat.values()"
   ]
  },
  {
   "cell_type": "code",
   "execution_count": 81,
   "metadata": {},
   "outputs": [
    {
     "data": {
      "text/html": [
       "<div>\n",
       "<style scoped>\n",
       "    .dataframe tbody tr th:only-of-type {\n",
       "        vertical-align: middle;\n",
       "    }\n",
       "\n",
       "    .dataframe tbody tr th {\n",
       "        vertical-align: top;\n",
       "    }\n",
       "\n",
       "    .dataframe thead th {\n",
       "        text-align: right;\n",
       "    }\n",
       "</style>\n",
       "<table border=\"1\" class=\"dataframe\">\n",
       "  <thead>\n",
       "    <tr style=\"text-align: right;\">\n",
       "      <th></th>\n",
       "      <th>variable</th>\n",
       "      <th>n_unicos</th>\n",
       "    </tr>\n",
       "  </thead>\n",
       "  <tbody>\n",
       "    <tr>\n",
       "      <th>0</th>\n",
       "      <td>categoría</td>\n",
       "      <td>[Acceso/Login, Sistema, Software, Hardware]</td>\n",
       "    </tr>\n",
       "    <tr>\n",
       "      <th>1</th>\n",
       "      <td>tipo</td>\n",
       "      <td>[Problema, Solicitud]</td>\n",
       "    </tr>\n",
       "    <tr>\n",
       "      <th>2</th>\n",
       "      <td>severidad</td>\n",
       "      <td>[0 - Sin Clasificar, 2 - Normal, 4 - Crítico, ...</td>\n",
       "    </tr>\n",
       "    <tr>\n",
       "      <th>3</th>\n",
       "      <td>prioridad</td>\n",
       "      <td>[0 - Sin Asignar, 3 - Alta, 2 - Media, 1 - Baja]</td>\n",
       "    </tr>\n",
       "    <tr>\n",
       "      <th>4</th>\n",
       "      <td>semestre</td>\n",
       "      <td>[2º semestre, 1 semestre]</td>\n",
       "    </tr>\n",
       "    <tr>\n",
       "      <th>5</th>\n",
       "      <td>mes</td>\n",
       "      <td>[Julio, Mayo, Junio, Abril, Agosto, Marzo, Ene...</td>\n",
       "    </tr>\n",
       "  </tbody>\n",
       "</table>\n",
       "</div>"
      ],
      "text/plain": [
       "    variable                                           n_unicos\n",
       "0  categoría        [Acceso/Login, Sistema, Software, Hardware]\n",
       "1       tipo                              [Problema, Solicitud]\n",
       "2  severidad  [0 - Sin Clasificar, 2 - Normal, 4 - Crítico, ...\n",
       "3  prioridad   [0 - Sin Asignar, 3 - Alta, 2 - Media, 1 - Baja]\n",
       "4   semestre                          [2º semestre, 1 semestre]\n",
       "5        mes  [Julio, Mayo, Junio, Abril, Agosto, Marzo, Ene..."
      ]
     },
     "execution_count": 81,
     "metadata": {},
     "output_type": "execute_result"
    }
   ],
   "source": [
    "df_cat_unicos"
   ]
  },
  {
   "attachments": {},
   "cell_type": "markdown",
   "metadata": {},
   "source": [
    "Donde variable es cada una de las variables categóricas que tenemos en el dataset y n_unicos es una lista con los nombres de los valores únicos de cada variable."
   ]
  },
  {
   "attachments": {},
   "cell_type": "markdown",
   "metadata": {},
   "source": [
    "--------------------------------------------------------------------"
   ]
  },
  {
   "attachments": {},
   "cell_type": "markdown",
   "metadata": {},
   "source": [
    "### Conclusiones\n",
    "De qué nos sirven estos números y dataframe? Extraed conclusiones de ellos.\n",
    "\n",
    "Por ejemplo:"
   ]
  },
  {
   "attachments": {},
   "cell_type": "markdown",
   "metadata": {},
   "source": [
    "- ¿Hay alguna columna que no tenga sentido su tipo de datos?"
   ]
  },
  {
   "attachments": {},
   "cell_type": "markdown",
   "metadata": {},
   "source": [
    "Pensamos que habría que cambiar el tipo de fecha."
   ]
  },
  {
   "attachments": {},
   "cell_type": "markdown",
   "metadata": {},
   "source": [
    "- ¿Hay alguna columna que no tenga sentido su nombre"
   ]
  },
  {
   "attachments": {},
   "cell_type": "markdown",
   "metadata": {},
   "source": [
    "Con lo que sabemos del dataframe, consideramos que todos los nombre sde la columna representan los datos que contienen. No obstante, no nos queda clara la diferencia entre 'id_empleado' e 'id_agente' y la función que cumple cada uno."
   ]
  },
  {
   "attachments": {},
   "cell_type": "markdown",
   "metadata": {},
   "source": [
    "- ¿Hay alguna columna que no tenga sentido su contenido?"
   ]
  },
  {
   "attachments": {},
   "cell_type": "markdown",
   "metadata": {},
   "source": [
    "Consideramos que los datos recogidos tienen sentido y son relevantes. No instante, quizá las columans mes y año sean redundantes teniendo en cuenta que tenemos ya un dato con la fecha completa de la cual podemos extraer dicha información."
   ]
  },
  {
   "attachments": {},
   "cell_type": "markdown",
   "metadata": {},
   "source": [
    "- ¿Hay alguna columna que tenga demasiadas categorías o valores que nos pueda hacer difícil trabajar con ella?"
   ]
  },
  {
   "attachments": {},
   "cell_type": "markdown",
   "metadata": {},
   "source": [
    "La variable severidad quizá podría ser recortada."
   ]
  }
 ],
 "metadata": {
  "kernelspec": {
   "display_name": "base",
   "language": "python",
   "name": "python3"
  },
  "language_info": {
   "codemirror_mode": {
    "name": "ipython",
    "version": 3
   },
   "file_extension": ".py",
   "mimetype": "text/x-python",
   "name": "python",
   "nbconvert_exporter": "python",
   "pygments_lexer": "ipython3",
   "version": "3.9.7"
  },
  "orig_nbformat": 4
 },
 "nbformat": 4,
 "nbformat_minor": 2
}
